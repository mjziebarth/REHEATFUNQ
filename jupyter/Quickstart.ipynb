{
 "cells": [
  {
   "cell_type": "markdown",
   "metadata": {},
   "source": [
    "# REHEATFUNQ Quickstart\n",
    "This notebook can be used as a template to quickly investigate regional\n",
    "aggregate heat flow distributions and fault-generated heat flow anomalies."
   ]
  },
  {
   "cell_type": "code",
   "execution_count": null,
   "metadata": {},
   "outputs": [],
   "source": [
    "import numpy as np\n",
    "import matplotlib.pyplot as plt\n",
    "from reheatfunq.regional import default_prior, HeatFlowPredictive\n",
    "from reheatfunq.anomaly import HeatFlowAnomalyPosterior, AnomalyLS1980"
   ]
  },
  {
   "cell_type": "markdown",
   "metadata": {},
   "source": [
    "Here load the heat flow data and the fault trace:"
   ]
  },
  {
   "cell_type": "code",
   "execution_count": null,
   "metadata": {},
   "outputs": [],
   "source": [
    "import json\n",
    "with open('data/example-heatflow.json','r') as f:\n",
    "    data = json.load(f)\n",
    "\n",
    "fault_trace = np.array(list(zip(data[\"fault\"][\"x\"], data[\"fault\"][\"y\"])))\n",
    "hf_x = np.array(data[\"hf\"][\"x\"])\n",
    "hf_y = np.array(data[\"hf\"][\"y\"])\n",
    "hf_mWm2 = np.array(data[\"hf\"][\"q\"])"
   ]
  },
  {
   "cell_type": "markdown",
   "metadata": {},
   "source": [
    "Plot the heat flow data and the anomaly:"
   ]
  },
  {
   "cell_type": "code",
   "execution_count": null,
   "metadata": {},
   "outputs": [],
   "source": [
    "fig = plt.figure()\n",
    "ax = fig.add_subplot(111)\n",
    "ax.set_aspect('equal')\n",
    "h = ax.scatter(hf_x, hf_y, c=hf_mWm2)\n",
    "ax.plot(*fault_trace.T)\n",
    "fig.colorbar(h)"
   ]
  },
  {
   "cell_type": "markdown",
   "metadata": {},
   "source": [
    "### Regional Aggregate Heat Flow: Posterior Predictive\n",
    "This part computes the posterior predictive heat flow distribution, i.e. the estimate\n",
    "of the regional aggregate heat flow distribution.\n",
    "\n",
    "*Note here that the above data set is truly gamma but a heat flow anomaly from the\n",
    "fault has been superposed. The superposed heat flow anomaly stems from 90 MW heat\n",
    "production over the length of the fault with a depth of 14 km.*"
   ]
  },
  {
   "cell_type": "code",
   "execution_count": null,
   "metadata": {},
   "outputs": [],
   "source": [
    "gcp = default_prior()\n",
    "predictive = HeatFlowPredictive(hf_mWm2, hf_x, hf_y, gcp, dmin=20e3)\n",
    "\n",
    "qplt = np.linspace(30, 90)\n",
    "cdf = predictive.cdf(qplt)"
   ]
  },
  {
   "cell_type": "markdown",
   "metadata": {},
   "source": [
    "Some code from the artificially generated heat flow data. This would\n",
    "not be available for a real-world data analysis:"
   ]
  },
  {
   "cell_type": "code",
   "execution_count": null,
   "metadata": {},
   "outputs": [],
   "source": [
    "from scipy.special import gammainc\n",
    "cdf_exact = gammainc(53.3, qplt)"
   ]
  },
  {
   "cell_type": "markdown",
   "metadata": {},
   "source": [
    "Plot the results. Again, note that the synthetic data is truly gamma\n",
    "distributed but overlayed by a 90 MW heat flow anomaly."
   ]
  },
  {
   "cell_type": "code",
   "execution_count": null,
   "metadata": {},
   "outputs": [],
   "source": [
    "fig = plt.figure(figsize=(6.2,4))\n",
    "ax = fig.add_axes((0.09, 0.12, 0.89, 0.86))\n",
    "ax.set_ylabel('CDF')\n",
    "ax.set_xlim(30, 90)\n",
    "ax.set_ylim(0,1.005)\n",
    "\n",
    "ax.set_xlabel('Heat flow ($\\\\mathrm{mWm}^{-2}$)')\n",
    "ax.step([0] + list(np.sort(hf_mWm2)), [0] + list((np.arange(hf_mWm2.size)+1)/hf_mWm2.size),\n",
    "        where='post', linewidth=1.0, label='Empirical CDF')\n",
    "qplt = np.linspace(30, 90)\n",
    "ax.plot(qplt, cdf, linewidth=1.0, label=\"Posterior Predictive\\nCDF\")\n",
    "ax.plot(qplt, cdf_exact, linestyle='--', linewidth=1.0, label=\"Original CDF\")\n",
    "ax.legend();"
   ]
  },
  {
   "cell_type": "markdown",
   "metadata": {},
   "source": [
    "### Bayesian Heat Flow Anomaly Quantification\n",
    "Now we quantify the heat flow anomaly that originates from the fault.\n",
    "In this synthetic example, we know perfectly the geometry of the fault\n",
    "and, indeed, the true anomaly signature $c_i$ at the data locations."
   ]
  },
  {
   "cell_type": "code",
   "execution_count": null,
   "metadata": {},
   "outputs": [],
   "source": [
    "anomaly = AnomalyLS1980(fault_trace, 14e3)\n",
    "post = HeatFlowAnomalyPosterior(hf_mWm2, hf_x, hf_y, anomaly, gcp)\n",
    "\n",
    "P_H = np.linspace(0, post.PHmax, 200)\n",
    "pdf_P_H = post.pdf(P_H)\n",
    "tail_P_H = post.tail(P_H)"
   ]
  },
  {
   "cell_type": "code",
   "execution_count": null,
   "metadata": {},
   "outputs": [],
   "source": [
    "fig = plt.figure(figsize=(6.2,4))\n",
    "ax = fig.add_axes((0.07, 0.12, 0.90, 0.84))\n",
    "h0 = ax.plot(1e-6*P_H, pdf_P_H)\n",
    "h1 = ax.axvline(90, linestyle='--', linewidth=1.0)\n",
    "ax.set_ylim(0, ax.get_ylim()[1])\n",
    "ax.set_xlim(0, 1e-6*post.PHmax)\n",
    "ax.set_xlabel('Power $P_H$ (MW)')\n",
    "ax.set_ylabel('Posterior density ($\\mathrm{W}^{-1}$)')\n",
    "ax2 = ax.twinx()\n",
    "ax2.set_ylim(0,1)\n",
    "h2 = ax2.plot(1e-6*P_H, tail_P_H, color='tab:orange')\n",
    "ax.legend((h0[0], h2[0], h1), ('Posterior PDF', 'Posterior tail distribution', 'True Anomaly'));"
   ]
  },
  {
   "cell_type": "markdown",
   "metadata": {},
   "source": [
    "### License\n",
    "```\n",
    "REHEATFUNQ Quickstart notebook.\n",
    "\n",
    "This file is part of the REHEATFUNQ model.\n",
    "\n",
    "Author: Malte J. Ziebarth (ziebarth@gfz-potsdam.de)\n",
    "\n",
    "Copyright © 2022 Malte J. Ziebarth\n",
    "\n",
    "This program is free software: you can redistribute it and/or modify\n",
    "it under the terms of the GNU General Public License as published by\n",
    "the Free Software Foundation, either version 3 of the License, or\n",
    "(at your option) any later version.\n",
    "\n",
    "This program is distributed in the hope that it will be useful,\n",
    "but WITHOUT ANY WARRANTY; without even the implied warranty of\n",
    "MERCHANTABILITY or FITNESS FOR A PARTICULAR PURPOSE.  See the\n",
    "GNU General Public License for more details.\n",
    "\n",
    "You should have received a copy of the GNU General Public License\n",
    "along with this program.  If not, see <https://www.gnu.org/licenses/>.\n",
    "```"
   ]
  }
 ],
 "metadata": {
  "kernelspec": {
   "display_name": "Python 3 (ipykernel)",
   "language": "python",
   "name": "python3"
  },
  "language_info": {
   "codemirror_mode": {
    "name": "ipython",
    "version": 3
   },
   "file_extension": ".py",
   "mimetype": "text/x-python",
   "name": "python",
   "nbconvert_exporter": "python",
   "pygments_lexer": "ipython3",
   "version": "3.10.8"
  }
 },
 "nbformat": 4,
 "nbformat_minor": 5
}