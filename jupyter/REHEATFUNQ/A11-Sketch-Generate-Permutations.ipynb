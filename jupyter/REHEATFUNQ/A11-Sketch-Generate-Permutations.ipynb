{
 "cells": [
  {
   "cell_type": "markdown",
   "metadata": {},
   "source": [
    "# Generating Permutations\n",
    "This notebook creates a sketch illustrating the permutations of data points\n",
    "violating the $d_\\mathrm{min}$ criterion."
   ]
  },
  {
   "cell_type": "code",
   "execution_count": null,
   "metadata": {},
   "outputs": [],
   "source": [
    "import numpy as np\n",
    "from plotconfig import *\n",
    "from cmcrameri.cm import *\n",
    "import matplotlib.pyplot as plt\n",
    "from zeal2022hf import get_cm_colors\n",
    "from matplotlib.patches import Circle, Arrow"
   ]
  },
  {
   "cell_type": "code",
   "execution_count": null,
   "metadata": {},
   "outputs": [],
   "source": [
    "rng = np.random.default_rng(25499783122)\n",
    "xy = 160. * (rng.random(size=(10,2)) - 0.5)"
   ]
  },
  {
   "cell_type": "code",
   "execution_count": null,
   "metadata": {},
   "outputs": [],
   "source": [
    "pairs = []\n",
    "for i in range(xy.shape[0]):\n",
    "    for j in range(i+1,xy.shape[0]):\n",
    "        d = np.sqrt(((xy[i] - xy[j])**2).sum())\n",
    "        if d <= 20.0:\n",
    "            pairs.append((i,j))\n",
    "print(pairs)"
   ]
  },
  {
   "cell_type": "code",
   "execution_count": null,
   "metadata": {},
   "outputs": [],
   "source": [
    "colors = get_cm_colors(vik, 9)\n",
    "color0 = colors[0]\n",
    "color1 = colors[3]"
   ]
  },
  {
   "cell_type": "code",
   "execution_count": null,
   "metadata": {},
   "outputs": [],
   "source": [
    "fig = plt.figure(figsize=(5.3, 1.2))\n",
    "ax_bg = fig.add_axes((0,0,1,1))\n",
    "ax_bg.set_axis_off()\n",
    "ax_bg.add_patch(Arrow(0.18, 0.4, 0.06, 0.0, width=0.2, color='tab:gray'))\n",
    "width = 0.75 * 0.22\n",
    "ax = fig.add_axes((0.005, 0.01, width, 0.8))\n",
    "ax.scatter(*xy.T, marker='.', edgecolor='none', color=color0)\n",
    "ax.set_aspect('equal')\n",
    "ax.set_title('(a)')\n",
    "for i in range(xy.shape[0]):\n",
    "    ax.add_patch(Circle(xy[i], 20.0, facecolor='none', edgecolor='k', linewidth=0.5))\n",
    "for pair in pairs:\n",
    "    ax.plot(*xy[pair,:].T, color='k', linewidth=1.0, zorder=0)\n",
    "ax.set_xticks([])\n",
    "ax.set_yticks([])\n",
    "xlim = ax.get_xlim()\n",
    "ylim = ax.get_ylim()\n",
    "\n",
    "# Now the four combinations:\n",
    "Dy = -100.0\n",
    "x = -80.0\n",
    "k = 0\n",
    "x0 = 0.25\n",
    "dx = 0.75 * 0.25\n",
    "for i in pairs[0]:\n",
    "    for j in pairs[1]:\n",
    "        mask = np.ones(xy.shape[0],dtype=bool)\n",
    "        mask[i] = False\n",
    "        mask[j] = False\n",
    "        ax = fig.add_axes((x0+k*dx, 0.01, width, 0.8))\n",
    "        ax.set_title(['(b)', '(c)', '(d)','(e)'][k])\n",
    "        ax.set_aspect('equal')\n",
    "        ax.scatter(*xy[mask,:].T, marker='.', edgecolor='none', color=color0)\n",
    "        ax.scatter(*xy[~mask,:].T, color=color1, zorder=0, marker='.', edgecolor='none')\n",
    "        for pair in pairs:\n",
    "            ax.plot(*xy[pair,:].T, color='k', linewidth=1.0, zorder=-1)\n",
    "        ax.set_xlim(xlim)\n",
    "        ax.set_ylim(ylim)\n",
    "        ax.set_xticks([])\n",
    "        ax.set_yticks([])\n",
    "        \n",
    "        k += 1\n",
    "\n",
    "fig.savefig('figures/A11-Sketch-Data-d_min-Permutation.pdf')"
   ]
  },
  {
   "cell_type": "markdown",
   "metadata": {},
   "source": [
    "### License\n",
    "```\n",
    "A notebook to sketch the d_min permutations.\n",
    "\n",
    "This file is part of the REHEATFUNQ model.\n",
    "\n",
    "Author: Malte J. Ziebarth (ziebarth@gfz-potsdam.de)\n",
    "\n",
    "Copyright © 2022 Malte J. Ziebarth\n",
    "            \n",
    "\n",
    "This program is free software: you can redistribute it and/or modify\n",
    "it under the terms of the GNU General Public License as published by\n",
    "the Free Software Foundation, either version 3 of the License, or\n",
    "(at your option) any later version.\n",
    "\n",
    "This program is distributed in the hope that it will be useful,\n",
    "but WITHOUT ANY WARRANTY; without even the implied warranty of\n",
    "MERCHANTABILITY or FITNESS FOR A PARTICULAR PURPOSE.  See the\n",
    "GNU General Public License for more details.\n",
    "\n",
    "You should have received a copy of the GNU General Public License\n",
    "along with this program.  If not, see <https://www.gnu.org/licenses/>.\n",
    "```"
   ]
  }
 ],
 "metadata": {
  "kernelspec": {
   "display_name": "Python 3 (ipykernel)",
   "language": "python",
   "name": "python3"
  },
  "language_info": {
   "codemirror_mode": {
    "name": "ipython",
    "version": 3
   },
   "file_extension": ".py",
   "mimetype": "text/x-python",
   "name": "python",
   "nbconvert_exporter": "python",
   "pygments_lexer": "ipython3",
   "version": "3.10.8"
  }
 },
 "nbformat": 4,
 "nbformat_minor": 5
}