{
 "cells": [
  {
   "cell_type": "markdown",
   "metadata": {},
   "source": [
    "# Bias of Anomaly Classification\n",
    "In this notebook, we investigate the bias $B$ of the anomaly quantification for heat\n",
    "flow that is gamma distributed through important parts of the $(\\alpha,\\beta)$ parameter\n",
    "space. The bias $B(t)$ is the relative under- or overestimate of the heat power $P_H$ at\n",
    "the fraction $r=t$ of evaluations of the posterior tail quantile $t$. If the posterior\n",
    "estimate were \"unbiased\" in this sense, we would assume that in a fraction $t$ of samples,\n",
    "the use of the tail quantile $t$ would lead to a power $P_H$ that is larger than the\n",
    "posterior estimate. (I.e. this would be a coincidence of the credibility interval with a\n",
    "frequentist exceedance rate)"
   ]
  },
  {
   "cell_type": "code",
   "execution_count": null,
   "metadata": {},
   "outputs": [],
   "source": [
    "import numpy as np\n",
    "from plotconfig import *\n",
    "from cmcrameri.cm import *\n",
    "from itertools import product\n",
    "from cache import cached_call\n",
    "from reheatfunq import GammaConjugatePrior\n",
    "from reheatfunq.resilience import test_performance_cython\n",
    "from matplotlib.colors import LogNorm, SymLogNorm, ListedColormap, rgb_to_hsv, hsv_to_rgb"
   ]
  },
  {
   "cell_type": "code",
   "execution_count": null,
   "metadata": {},
   "outputs": [],
   "source": [
    "PMIN = 10.0\n",
    "PMAX = 445e5 * 160e3 * 15e3 * 2.536783358701167e-09"
   ]
  },
  {
   "cell_type": "code",
   "execution_count": null,
   "metadata": {},
   "outputs": [],
   "source": [
    "M = 1000"
   ]
  },
  {
   "cell_type": "code",
   "execution_count": null,
   "metadata": {},
   "outputs": [],
   "source": [
    "PRIOR_P, PRIOR_S, PRIOR_N, PRIOR_V = np.loadtxt('results/05-GCP-Parameters.txt', skiprows=1, delimiter=',')"
   ]
  },
  {
   "cell_type": "code",
   "execution_count": null,
   "metadata": {},
   "outputs": [],
   "source": [
    "BETA  = np.geomspace(2e-2, 15.0, 50)\n",
    "ALPHA = np.geomspace(1, 1000, 51)"
   ]
  },
  {
   "cell_type": "code",
   "execution_count": null,
   "metadata": {},
   "outputs": [],
   "source": [
    "ALPHA_fine = np.geomspace(1, 1000, 200)\n",
    "BETA_fine = np.geomspace(2e-2, 15.0, 190)\n",
    "Z_fine = np.zeros((ALPHA_fine.size, BETA_fine.size))\n",
    "gcp = GammaConjugatePrior(PRIOR_P, PRIOR_S, PRIOR_N, PRIOR_V)\n",
    "for i,a in enumerate(ALPHA_fine):\n",
    "    for j,b in enumerate(BETA_fine):\n",
    "        Z_fine[i,j] = gcp.probability(np.atleast_1d(a), np.atleast_1d(b))"
   ]
  },
  {
   "cell_type": "code",
   "execution_count": null,
   "metadata": {},
   "outputs": [],
   "source": [
    "QUANTILES = np.array([0.1])\n",
    "N = 24\n",
    "def evaluate_bias(N, ALPA, BETA, M, gcp, gcp_significance_level=1e-7, seed=289817):\n",
    "    Z = np.zeros((ALPHA.size, BETA.size))\n",
    "    ag,bg = np.meshgrid(ALPHA,BETA,indexing='ij')\n",
    "    Z.flat = gcp.probability(ag.reshape(-1), bg.reshape(-1))\n",
    "    gcp_significance_mask = Z >= gcp_significance_level\n",
    "    res_bias = np.zeros((2,ALPHA.size,BETA.size,2))\n",
    "    rng = np.random.default_rng(seed)\n",
    "    seeds = rng.integers(2**63, size=2 * ALPHA.size * BETA.size)\n",
    "    k = 0\n",
    "    for p,PMW in enumerate([10.0, 271]):\n",
    "        for i,j in product(range(ALPHA.size),range(BETA.size)):\n",
    "            print(\"alpha:\",ALPHA[i],\",  beta:\",BETA[j])\n",
    "            if not gcp_significance_mask[i,j]:\n",
    "                res_bias[p,i,j,:] = np.NaN\n",
    "                continue\n",
    "\n",
    "            res_ij = cached_call(test_performance_cython, np.array([N]), M, PMW, ALPHA[i], 1.0/BETA[j],\n",
    "                                 QUANTILES, PRIOR_P, PRIOR_S, PRIOR_N, PRIOR_V, seed=seeds[k])[:,0,0,:]\n",
    "            res_bias[p,i,j,0] = np.quantile(res_ij[0,:], 0.1)\n",
    "            res_bias[p,i,j,1] = np.quantile(res_ij[1,:], 0.1)\n",
    "            k += 1\n",
    "    \n",
    "    return res_bias"
   ]
  },
  {
   "cell_type": "code",
   "execution_count": null,
   "metadata": {},
   "outputs": [],
   "source": [
    "res_bias = evaluate_bias(N, ALPHA, BETA, M, gcp)"
   ]
  },
  {
   "cell_type": "markdown",
   "metadata": {},
   "source": [
    "Generate a shifted color map for the symmetric log-norm. We darken the minimum\n",
    "(*h,s,v*)-value *v* to zero:"
   ]
  },
  {
   "cell_type": "code",
   "execution_count": null,
   "metadata": {},
   "outputs": [],
   "source": [
    "cimg = 100*(1e-6*res_bias[0,:,:,0].T - [10.0, 271][0]) / [10.0, 271][0]\n",
    "a = np.log10(cimg[~np.isnan(cimg)].max()) - np.log10(10.0) + 1.0\n",
    "b = -cimg[~np.isnan(cimg)].min() / 10.0\n",
    "c = 2*a\n",
    "a /= c\n",
    "b /= c\n",
    "\n",
    "vik_colors = vik(np.linspace(0.5-b, 1.0, 1000))\n",
    "vik_colors = rgb_to_hsv(vik_colors[:,:3])\n",
    "vmax_old = vik_colors[:,2].max()\n",
    "vik_colors[:,2] -= vik_colors[:,2].min()\n",
    "vik_colors[:,2] *= vmax_old / vik_colors[:,2].max()\n",
    "vik_colors = hsv_to_rgb(vik_colors)\n",
    "vik_mod = ListedColormap(vik_colors)"
   ]
  },
  {
   "cell_type": "code",
   "execution_count": null,
   "metadata": {},
   "outputs": [],
   "source": [
    "fig = plt.figure(dpi=140, figsize=(6.975, 2.8))\n",
    "#ax_bg = fig.add_axes((0,0,1,1))\n",
    "ax0 = fig.add_axes((0.063, 0.11, 0.39, 0.815))\n",
    "ax1 = fig.add_axes((0.573, 0.11, 0.39, 0.815))\n",
    "\n",
    "axtitle = ['63\\,kW\\,km^{-1}','1.7\\,MW\\,km^{-1}']\n",
    "\n",
    "for i,ax in enumerate([ax0,ax1]):\n",
    "    ax.set_xscale('log')\n",
    "    ax.set_yscale('log')\n",
    "    cimg = 100*(1e-6*res_bias[i,:,:,0].T - [10.0, 271][i]) / [10.0, 271][i]\n",
    "    vmin = cimg[~np.isnan(cimg)].min()\n",
    "    vmax = cimg[~np.isnan(cimg)].max()\n",
    "    if i == 1:\n",
    "        h = ax.pcolormesh(ALPHA, BETA, cimg, vmin=vmin, vmax=-vmin, cmap=vik, rasterized=True)\n",
    "    else:\n",
    "        h = ax.pcolormesh(ALPHA, BETA, cimg, cmap=vik_mod,\n",
    "                          norm=SymLogNorm(10.0, vmin=vmin, vmax=vmax),\n",
    "                          rasterized=True)\n",
    "    \n",
    "    cntr = ax.contour(ALPHA_fine, BETA_fine, Z_fine.T, linewidths=0.7, colors='k', levels=[1e-9, 1e-6, 1e-3, 1])\n",
    "    ax.clabel(cntr, fmt=lambda x : f\"$10^{{{round(np.log10(x))}}}$\" if round(np.log10(x)) != 0 else 1,\n",
    "              fontsize=6)\n",
    "    ax.set_title(['(a)','(b)'][i] + f' $P_H/L = \\\\mathrm{{{axtitle[i]}}}$')\n",
    "    ax.set_xlabel('$\\\\alpha$', labelpad=0.0)\n",
    "    ax.set_ylabel('$\\\\beta$', labelpad=0.0)\n",
    "    fig.colorbar(h, ax=ax, extend='max', label='Bias $B$ of 10 % tail quantile $P_H$ relative to\\ntrue anomaly strength '\n",
    "                                              f'$P_H={[10, 271][i]}\\,\\mathrm{{MW}}$ (%)');\n",
    "fig.savefig('figures/A7-bias-10p-tail-gamma-with-prior.pdf')"
   ]
  },
  {
   "cell_type": "markdown",
   "metadata": {},
   "source": [
    "### License\n",
    "```\n",
    "A notebook to compute the bias of the REHEATFUNQ heat flow anomaly\n",
    "tail quantile for gamma-distributed heat flow and different heat\n",
    "flow anomaly strengths.\n",
    "\n",
    "This file is part of the REHEATFUNQ model.\n",
    "\n",
    "Author: Malte J. Ziebarth (ziebarth@gfz-potsdam.de)\n",
    "\n",
    "Copyright © 2019-2022 Deutsches GeoForschungsZentrum Potsdam,\n",
    "            2022 Malte J. Ziebarth\n",
    "            \n",
    "\n",
    "This program is free software: you can redistribute it and/or modify\n",
    "it under the terms of the GNU General Public License as published by\n",
    "the Free Software Foundation, either version 3 of the License, or\n",
    "(at your option) any later version.\n",
    "\n",
    "This program is distributed in the hope that it will be useful,\n",
    "but WITHOUT ANY WARRANTY; without even the implied warranty of\n",
    "MERCHANTABILITY or FITNESS FOR A PARTICULAR PURPOSE.  See the\n",
    "GNU General Public License for more details.\n",
    "\n",
    "You should have received a copy of the GNU General Public License\n",
    "along with this program.  If not, see <https://www.gnu.org/licenses/>.\n",
    "```"
   ]
  }
 ],
 "metadata": {
  "kernelspec": {
   "display_name": "Python 3 (ipykernel)",
   "language": "python",
   "name": "python3"
  },
  "language_info": {
   "codemirror_mode": {
    "name": "ipython",
    "version": 3
   },
   "file_extension": ".py",
   "mimetype": "text/x-python",
   "name": "python",
   "nbconvert_exporter": "python",
   "pygments_lexer": "ipython3",
   "version": "3.10.8"
  }
 },
 "nbformat": 4,
 "nbformat_minor": 5
}