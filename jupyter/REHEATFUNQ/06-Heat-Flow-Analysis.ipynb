{
 "cells": [
  {
   "cell_type": "markdown",
   "metadata": {},
   "source": [
    "# Heat Flow Analysis\n",
    "This notebook performs the heat flow analysis and anomaly quantification for the study area.\n",
    "It is the main notebook for a regional heat flow analyis."
   ]
  },
  {
   "cell_type": "code",
   "execution_count": null,
   "metadata": {},
   "outputs": [],
   "source": [
    "import numpy as np\n",
    "from math import exp\n",
    "from pyproj import Proj\n",
    "from plotconfig import *\n",
    "from cmcrameri.cm import *\n",
    "from math import log2, ceil\n",
    "from cache import cached_call\n",
    "import matplotlib.pyplot as plt\n",
    "from matplotlib.lines import Line2D\n",
    "from zeal2022hf import get_cm_colors\n",
    "from flottekarte import Map, GeoJSON\n",
    "from pickle import Pickler, Unpickler\n",
    "from matplotlib.ticker import LogFormatter\n",
    "from scipy.spatial.distance import pdist, squareform\n",
    "from matplotlib.patches import Circle, Rectangle, Polygon as MPolygon\n",
    "from matplotlib.collections import LineCollection\n",
    "from reheatfunq import GammaConjugatePrior, AnomalyLS1980, HeatFlowAnomalyPosterior, HeatFlowPredictive\n",
    "from loaducerf3 import PolygonSelector, Polygon"
   ]
  },
  {
   "cell_type": "markdown",
   "metadata": {},
   "source": [
    "Configure plots to look good on a HiDPI monitor (you may not need the following configuration if you are not using a HiDPI monitor):"
   ]
  },
  {
   "cell_type": "markdown",
   "metadata": {},
   "source": [
    "## Data\n",
    "First we load the data from the previous notebooks.\n",
    "\n",
    "First the gamma conjugate prior parameters:"
   ]
  },
  {
   "cell_type": "code",
   "execution_count": null,
   "metadata": {},
   "outputs": [],
   "source": [
    "PRIOR_P, PRIOR_S, PRIOR_N, PRIOR_V = np.loadtxt(\"results/05-GCP-Parameters.txt\", skiprows=1, delimiter=',')\n",
    "gcp = GammaConjugatePrior(PRIOR_P, PRIOR_S, PRIOR_N, PRIOR_V)"
   ]
  },
  {
   "cell_type": "markdown",
   "metadata": {},
   "source": [
    "Geometry. If you have adapted the loading of the fault trace (e.g. for another area),\n",
    "you can replace loading the `merged_surface_trace` from `intermediate/05-SoCal-UCERF3-default-branches.pickle`\n",
    "with custom code."
   ]
  },
  {
   "cell_type": "code",
   "execution_count": null,
   "metadata": {},
   "outputs": [],
   "source": [
    "with open('intermediate/02-Geometry.pickle','rb') as f:\n",
    "    geometry = Unpickler(f).load()\n",
    "with open('intermediate/05-SoCal-UCERF3-default-branches.pickle','rb') as f:\n",
    "    ucerf3_res = Unpickler(f).load()\n",
    "    merged_surface_trace = ucerf3_res[\"merged_surface_trace\"]\n",
    "    fault_depth = ucerf3_res[\"d\"]"
   ]
  },
  {
   "cell_type": "code",
   "execution_count": null,
   "metadata": {},
   "outputs": [],
   "source": [
    "proj_str = geometry[\"proj_str\"]\n",
    "selection_polys_xy = geometry[\"selection_polygons_xy\"]\n",
    "proj = Proj(proj_str)"
   ]
  },
  {
   "cell_type": "markdown",
   "metadata": {},
   "source": [
    "Heat flow data"
   ]
  },
  {
   "cell_type": "code",
   "execution_count": null,
   "metadata": {},
   "outputs": [],
   "source": [
    "hf_continental_nghf_mW_m2 = np.load('intermediate/heat-flow-selection-mW_m2.npy')\n",
    "hf_x, hf_y = proj(hf_continental_nghf_mW_m2[1], hf_continental_nghf_mW_m2[2])\n",
    "hf_xy = np.stack((hf_x,hf_y), axis=1)\n",
    "hf_mW_m2 = hf_continental_nghf_mW_m2[0]\n",
    "hf_xyq_mW_m2 = np.stack((hf_x, hf_y, hf_mW_m2), axis=1)\n",
    "\n",
    "nghf_table_indices = np.loadtxt('results/nghf-selection-indices.csv', delimiter=',', dtype=int)"
   ]
  },
  {
   "cell_type": "markdown",
   "metadata": {},
   "source": [
    "Coast lines from the [GSHHG](https://www.soest.hawaii.edu/pwessel/gshhg/) (Wessel & Smith, 1996). The GeoJSONs required for the following code to work can be generated from the ESRI shapefile versions of the GSHHG,\n",
    "for instance using QGIS."
   ]
  },
  {
   "cell_type": "code",
   "execution_count": null,
   "metadata": {},
   "outputs": [],
   "source": [
    "def limits(xy):\n",
    "    xlim = np.min(xy[:,0]), np.max(xy[:,0])\n",
    "    ylim = np.min(xy[:,1]), np.max(xy[:,1])\n",
    "    Dx = xlim[1] - xlim[0]\n",
    "    Dy = ylim[1] - ylim[0]\n",
    "    D = max(Dx,Dy)\n",
    "    return ((xlim[0]-0.05*D, xlim[1] + 0.05*D),\n",
    "            (ylim[0]-0.05*D, ylim[1] + 0.05*D))\n",
    "\n",
    "xlim, ylim = limits(np.concatenate(selection_polys_xy, axis=0))"
   ]
  },
  {
   "cell_type": "code",
   "execution_count": null,
   "metadata": {},
   "outputs": [],
   "source": [
    "coastline = GeoJSON('data/GSHHS_h_1_US.geojson', proj_str, xlim=xlim, ylim=ylim)"
   ]
  },
  {
   "cell_type": "markdown",
   "metadata": {},
   "source": [
    "#### Data Selection\n",
    "Here, we show the selection of heat flow data used in the analysis, the fault trace,\n",
    "and the impact of the fault-generated heat flow anomaly on the heat flow data."
   ]
  },
  {
   "cell_type": "code",
   "execution_count": null,
   "metadata": {},
   "outputs": [],
   "source": [
    "DMIN = 20e3"
   ]
  },
  {
   "cell_type": "code",
   "execution_count": null,
   "metadata": {},
   "outputs": [],
   "source": [
    "NAMES = [\"Mojave\", \"Carrizo\", \"Creeping\", \"North Coast\"]"
   ]
  },
  {
   "cell_type": "code",
   "execution_count": null,
   "metadata": {},
   "outputs": [],
   "source": [
    "selectors = [PolygonSelector(Polygon(*poly[:-1,:].T)) for poly in selection_polys_xy]"
   ]
  },
  {
   "cell_type": "code",
   "execution_count": null,
   "metadata": {},
   "outputs": [],
   "source": [
    "xy_ano = [merged_surface_trace[sel.array_mask(merged_surface_trace)] for sel in selectors]\n",
    "anomalies = [AnomalyLS1980(xya, d) for xya,d in zip(xy_ano,fault_depth)]"
   ]
  },
  {
   "cell_type": "code",
   "execution_count": null,
   "metadata": {},
   "outputs": [],
   "source": [
    "colors = get_cm_colors(vik, 13)\n",
    "color0 = colors[0]\n",
    "color1 = colors[8]\n",
    "color2 = colors[5]\n",
    "color3 = colors[9]\n",
    "color4 = colors[2]"
   ]
  },
  {
   "cell_type": "markdown",
   "metadata": {},
   "source": [
    "First a general map showing the setting and the sub-ROIs:"
   ]
  },
  {
   "cell_type": "code",
   "execution_count": null,
   "metadata": {},
   "outputs": [],
   "source": [
    "LABEL_LOCATIONS = [(-119, 32.9), (-120.85, 34.1), (-122.7,35.1), (-124.1, 37.3)]\n",
    "LABEL_ANGLES    = [-18,            -29,          -41,          -53]"
   ]
  },
  {
   "cell_type": "code",
   "execution_count": null,
   "metadata": {},
   "outputs": [],
   "source": [
    "fig = plt.figure(figsize=(4.5, 4.5))\n",
    "#ax_bg = fig.add_axes((0,0,1,1));\n",
    "ax = fig.add_axes((0.005, 0.005, 0.99, 0.99))\n",
    "cax= fig.add_axes((0.103, 0.9, 0.25, 0.02))\n",
    "mp = Map(proj_str, ax, xlim, ylim)\n",
    "mp.add_data(coastline, facecolor='lightgray')\n",
    "h0 = ax.plot(*merged_surface_trace.T, color=color0, linewidth=0.9)\n",
    "mask = (hf_x >= xlim[0]) & (hf_x <= xlim[1]) & (hf_y >= ylim[0]) & (hf_y <= ylim[1])\n",
    "h = ax.scatter(hf_x[mask], hf_y[mask], c=hf_mW_m2[mask], marker='.', edgecolor='none',\n",
    "                    cmap=lajolla_r)\n",
    "fig.colorbar(h, cax=cax, orientation='horizontal')\n",
    "cax.set_xlabel('Heat flow\\n($\\\\mathrm{mWm}^{-2}$)', ha='right', labelpad=0.2)\n",
    "for i,poly in enumerate(selection_polys_xy):\n",
    "    h1 = ax.add_patch(MPolygon(poly, facecolor='none', edgecolor=color4))\n",
    "    ax.text(*proj(*LABEL_LOCATIONS[i]), NAMES[i], rotation=LABEL_ANGLES[i],\n",
    "            ha='center', va='center')\n",
    "ax.legend((h0[0], h1, h),\n",
    "          ('San Andreas\\nfault trace', 'ROIs', 'Heat flow data\\nNGHF (filtered)'),\n",
    "          bbox_to_anchor=(0.14, 0.1, 0.2, 0.1), loc='center')\n",
    "mp.plot_axes()\n",
    "fig.savefig('figures/06-ROI-Map.pdf')"
   ]
  },
  {
   "cell_type": "markdown",
   "metadata": {},
   "source": [
    "Now the heat flow data within the ROIs and the heat flow signatures:"
   ]
  },
  {
   "cell_type": "code",
   "execution_count": null,
   "metadata": {},
   "outputs": [],
   "source": [
    "SHOW_LINKS = False\n",
    "CI_CONTOURS = [1e-12, 5e-12, 1e-11, 5e-11]\n",
    "\n",
    "hf_select = []\n",
    "hf_xy_select = []\n",
    "ci_select = []\n",
    "indices_select = []\n",
    "xy_bounds = []\n",
    "background_anomaly = []\n",
    "if SHOW_LINKS:\n",
    "    neighbors_select = []\n",
    "\n",
    "for i in range(len(selectors)):\n",
    "    mask_i = selectors[i].array_mask(hf_xy)\n",
    "    indices_select.append(nghf_table_indices[mask_i])\n",
    "    hf_xy_i = hf_xy[mask_i,:]\n",
    "    hf_i = hf_mW_m2[mask_i]\n",
    "    ci = anomalies[i](hf_xy_i)\n",
    "\n",
    "    xmin,ymin = selection_polys_xy[i].min(axis=0)\n",
    "    xmax,ymax = selection_polys_xy[i].max(axis=0)\n",
    "    dx = xmax - xmin\n",
    "    dy = ymax - ymin\n",
    "    xmin, xmax = xmin - 0.05*dx, xmax + 0.05*dx\n",
    "    ymin, ymax = ymin - 0.05*dy, ymax + 0.05*dy\n",
    "    xy_bounds.append((xmin, xmax, ymin, ymax))\n",
    "    x_bg = np.linspace(xmin, xmax, ceil(300 * dx / (dy+dx)))\n",
    "    y_bg = np.linspace(ymin, ymax, ceil(301 * dy / (dy+dx)))\n",
    "    xg,yg = np.meshgrid(x_bg, y_bg)\n",
    "    background_anomaly.append((x_bg, y_bg, anomalies[i](np.stack((xg.flat, yg.flat),\n",
    "                                                                 axis=1)).reshape(xg.shape)))\n",
    "          \n",
    "    \n",
    "    hf_select.append(hf_i)\n",
    "    hf_xy_select.append(hf_xy_i)\n",
    "    ci_select.append(ci)\n",
    "    \n",
    "    if SHOW_LINKS:\n",
    "        D = squareform(pdist(hf_xy_i))\n",
    "        too_close = []\n",
    "        for j in range(hf_xy_i.shape[0]):\n",
    "            for k in range(j+1, hf_xy_i.shape[0]):\n",
    "                if D[j,k] < DMIN:\n",
    "                      too_close.append((j,k))\n",
    "        neighbors_select.append(too_close)\n",
    "\n",
    "\n",
    "prefix = ['(a)','(b)','(c)','(d)']\n",
    "cntrs = []\n",
    "axes = []\n",
    "fig = plt.figure(figsize=(6.975,6.975))\n",
    "for i in range(len(selectors)):\n",
    "    ax = fig.add_subplot(2,2,i+1)\n",
    "    axes.append(ax)\n",
    "    ax.set_aspect('equal')\n",
    "    ax.set_xlim(xy_bounds[i][:2])\n",
    "    ax.set_ylim(xy_bounds[i][2:])\n",
    "    h0 = ax.add_artist(MPolygon(selection_polys_xy[i], facecolor='none', edgecolor=color2))\n",
    "    cntr = ax.contour(*background_anomaly[i], zorder=1, levels=CI_CONTOURS,\n",
    "                      linewidths=0.8, colors='gray')\n",
    "    cntrs.append(cntr)\n",
    "    if SHOW_LINKS:\n",
    "        ax.add_collection(LineCollection([(hf_xy_select[i][j], hf_xy_select[i][k])\n",
    "                                          for j,k in neighbors_select[i]],\n",
    "                                         linewidth=0.5, color='gray', zorder=0))\n",
    "    for xy in hf_xy_select[i]:\n",
    "        h2 = ax.add_patch(Circle(xy, DMIN, facecolor='none', edgecolor='lightgray', zorder=0, linewidth=0.5))\n",
    "    h = ax.scatter(*hf_xy_select[i].T, c=hf_select[i],\n",
    "                   edgecolor='none', cmap=batlow)\n",
    "    h4 = ax.plot(*xy_ano[i].T, color='k', linewidth=1.0)\n",
    "    if i == 1:\n",
    "        ax.legend((h0,Line2D([], [], linewidth=0.8, color='gray'), h,\n",
    "                   Line2D([],[], marker='o', markeredgewidth=0.5, markerfacecolor='none',\n",
    "                          color='none', markeredgecolor='lightgray', markersize=12),\n",
    "                   h4[0]),\n",
    "                  (\"ROI\", \"$c_i$ ($\\\\mathrm{m}^{-2}$)\", \"Heat flow\\ndata\", \"Distance\\n$d_\\\\mathrm{min}$\",\n",
    "                   \"Fault trace\"),\n",
    "                  framealpha=0.95, fontsize='small')\n",
    "    ax.set_title(prefix[i] + \" \" + NAMES[i])\n",
    "    fig.colorbar(h, label='Heat flow ($\\\\mathrm{mWm}^{-2}$)', shrink=0.5)\n",
    "\n",
    "fig.tight_layout()\n",
    "\n",
    "for i in range(len(selectors)):\n",
    "    # Fix an issue where inline_spacing depends either on the axis size or\n",
    "    # the dy/dx ratio:\n",
    "    ispace = 10 * ((xy_bounds[i][1] - xy_bounds[i][0]) / (xy_bounds[i][3] - xy_bounds[i][2]))**1.5\n",
    "    axes[i].clabel(cntrs[i], fmt='%1.1e', use_clabeltext=True,\n",
    "                   inline_spacing=ispace)\n",
    "\n",
    "fig.savefig('figures/06-Settings.pdf')"
   ]
  },
  {
   "cell_type": "markdown",
   "metadata": {},
   "source": [
    "Save the data for further analysis:"
   ]
  },
  {
   "cell_type": "code",
   "execution_count": null,
   "metadata": {},
   "outputs": [],
   "source": [
    "import json\n",
    "with open('results/Mojave-data.json','w') as f:\n",
    "    json.dump({\n",
    "        \"data_hf\" : [hf for hf in hf_select[0]],\n",
    "        \"data_xy\" : [tuple(xy) for xy in hf_xy_select[0]],\n",
    "        \"indices\" : [int(i) for i in indices_select[0]],\n",
    "        \"ano_xy\"  : [tuple(xy) for xy in xy_ano[0]],\n",
    "        \"ano_d\"   : float(fault_depth[0]),\n",
    "        \"dmin\"    : float(DMIN)\n",
    "    }, f, sort_keys=True, indent=2)"
   ]
  },
  {
   "cell_type": "markdown",
   "metadata": {},
   "source": [
    "## Heat Flow Distribution\n",
    "First, evaluate the posterior predictive distributions within the regions:"
   ]
  },
  {
   "cell_type": "code",
   "execution_count": null,
   "metadata": {},
   "outputs": [],
   "source": [
    "hfp = [HeatFlowPredictive(hf_i, *hf_xy_i.T, gcp, dmin=DMIN, n_bootstrap=1000)\n",
    "       for hf_i, hf_xy_i in zip(hf_select, hf_xy_select)]"
   ]
  },
  {
   "cell_type": "code",
   "execution_count": null,
   "metadata": {},
   "outputs": [],
   "source": [
    "q = np.linspace(0, 150, 200)"
   ]
  },
  {
   "cell_type": "code",
   "execution_count": null,
   "metadata": {},
   "outputs": [],
   "source": [
    "CDFs = [hfp[i].cdf(q) for i in range(len(hfp))]\n",
    "PDFs = [hfp[i].pdf(q) for i in range(len(hfp))]"
   ]
  },
  {
   "cell_type": "code",
   "execution_count": null,
   "metadata": {},
   "outputs": [],
   "source": [
    "fig = plt.figure(figsize=(6.975,7.3), dpi=300)\n",
    "\n",
    "ax_bg = fig.add_axes((0,0,1,1))\n",
    "ax_bg.set_axis_off()\n",
    "axes_y = 0.07 + np.arange(len(hfp))[::-1] * 0.243\n",
    "dy = 0.17\n",
    "for i in range(len(hfp)):\n",
    "    y = CDFs[i]\n",
    "    y2 = PDFs[i]\n",
    "    hf_i = hf_select[i]\n",
    "    hf_xy_i = hf_xy_select[i]\n",
    "\n",
    "    ax_bg.text(0.5, axes_y[i] + dy + 0.005, NAMES[i], ha='center', va='bottom',\n",
    "               fontsize='large')\n",
    "    ax = fig.add_axes((0.07, axes_y[i], 0.42, dy))\n",
    "    ax.set_ylabel('CDF')\n",
    "    ax.set_ylim(0,1)\n",
    "    if i == len(hfp)-1:\n",
    "        ax.set_xlabel('Heat flow ($\\\\mathrm{mWm}^{-2}$)')\n",
    "    h0 = ax.plot(q, y, color='k', linestyle='--', linewidth=1.0)\n",
    "    h1 = ax.step([0]+list(sorted(hf_i)), [0]+list((np.arange(hf_i.size)+1) / hf_i.size), where='post',\n",
    "                 color=color0, linewidth=1.0)\n",
    "    for w,ids in hfp[i].bootstrap:\n",
    "        h2 = ax.step([0]+list(sorted(hf_i[ids])), [0]+list((np.arange(ids.size)+1) / ids.size),\n",
    "                     where='post', color=color1, zorder=0, rasterized=True, linewidth=0.5)\n",
    "    if i == 0:\n",
    "        ax.legend((h0[0],h1[0],h2[0]), (\"Posterior\\npredictive CDF\", \"eCDF\\n(all data)\",\n",
    "                                        \"eCDFs\\n($d_\\\\mathrm{min}$ enforced)\"),\n",
    "                  fontsize='small', loc='lower right')\n",
    "\n",
    "    ax.text(0.0, 0.9, '(' + chr(ord('a')+2*i) + ')', ha='center', va='center')\n",
    "\n",
    "\n",
    "    ax = fig.add_axes((0.51, axes_y[i], 0.41, dy))\n",
    "    if i == len(hfp)-1:\n",
    "        ax.set_xlabel('Heat flow ($\\\\mathrm{mWm}^{-2}$)')\n",
    "    h0 = ax.hist(hf_i, zorder=0, density=True, color=color2, histtype='stepfilled')\n",
    "    h1 = ax.plot(q, y2, color='k', linewidth=1, linestyle='--')\n",
    "    ax.set_ylabel('Density ($\\\\mathrm{m}^2\\\\mathrm{mW}^{-1}$)')\n",
    "    ax.yaxis.tick_right()\n",
    "    ax.yaxis.set_label_position('right')\n",
    "    for lp,s,n,v in zip(hfp[i].lp, hfp[i].s, hfp[i].n, hfp[i].v):\n",
    "        h2 = ax.plot(q, GammaConjugatePrior(exp(lp), s, n, v).posterior_predictive(q),\n",
    "                     color=color3, zorder=0, linewidth=0.5, rasterized=True)\n",
    "\n",
    "    if i == 0:\n",
    "        ax.legend((Rectangle((0,0),1,1,color=color2),h1[0],h2[0]),\n",
    "                  (\"All data\", \"Posterior\\npredictive PDF\",\n",
    "                   \"Post. pr. PDFs\\n($d_\\\\mathrm{min}$ enforced)\"),\n",
    "                  fontsize='small')\n",
    "\n",
    "    ax.set_ylim(ax.get_ylim())\n",
    "    ax.text(0.0, 0.9*ax.get_ylim()[1], '(' + chr(ord('a')+2*i+1) + ')', ha='center', va='center')\n",
    "\n",
    "\n",
    "fig.savefig(f'figures/06-Posterior-Predictive.pdf')\n"
   ]
  },
  {
   "cell_type": "markdown",
   "metadata": {},
   "source": [
    "##### Data inspection\n",
    "Potentially, investigate some of the distributions in detail here:"
   ]
  },
  {
   "cell_type": "code",
   "execution_count": null,
   "metadata": {},
   "outputs": [],
   "source": [
    "hfp[2].bootstrap"
   ]
  },
  {
   "cell_type": "code",
   "execution_count": null,
   "metadata": {},
   "outputs": [],
   "source": [
    "hfp[2].q"
   ]
  },
  {
   "cell_type": "markdown",
   "metadata": {},
   "source": [
    "## Heat Flow Anomaly Analysis"
   ]
  },
  {
   "cell_type": "code",
   "execution_count": null,
   "metadata": {},
   "outputs": [],
   "source": [
    "hfap = [HeatFlowAnomalyPosterior(hf_i, *hf_xy_i.T, anomaly, gcp, dmin=DMIN, n_bootstrap=100)\n",
    "        for hf_i, hf_xy_i, anomaly in zip(hf_select, hf_xy_select, anomalies)]"
   ]
  },
  {
   "cell_type": "code",
   "execution_count": null,
   "metadata": {},
   "outputs": [],
   "source": [
    "P_H = [np.linspace(0, hfap[i].PHmax, 200) for i in range(len(hfap))]"
   ]
  },
  {
   "cell_type": "code",
   "execution_count": null,
   "metadata": {},
   "outputs": [],
   "source": [
    "[hf.PHmax for hf in hfap]"
   ]
  },
  {
   "cell_type": "code",
   "execution_count": null,
   "metadata": {},
   "outputs": [],
   "source": [
    "y  = [hfap[i].pdf(P_H[i]) for i in range(len(hfap))]\n",
    "y2 = [hfap[i].cdf(P_H[i]) for i in range(len(hfap))]\n",
    "y3 = [hfap[i].tail(P_H[i]) for i in range(len(hfap))]"
   ]
  },
  {
   "cell_type": "code",
   "execution_count": null,
   "metadata": {},
   "outputs": [],
   "source": [
    "fig = plt.figure(figsize=(6.975,4.5))\n",
    "#ax_bg = fig.add_axes((0,0,1,1)) # Design canvas\n",
    "for i in range(len(hfap)):\n",
    "    ax = fig.add_subplot(2,2,i+1)\n",
    "    ax.set_title( '(' + chr(ord('a')+i) + ') ' + NAMES[i])\n",
    "    ax.set_xlabel('Power $P_H$ (MW)')\n",
    "    ax.set_ylabel('PDF ($\\\\mathrm{W}^{-1}$)')\n",
    "    h0 = ax.plot(1e-6*P_H[i], y[i], color=color3, linewidth=1.0)\n",
    "    ax.set_xlim(0, 1e-6*hfap[i].PHmax)\n",
    "    ax.set_ylim(0, ax.get_ylim()[1])\n",
    "    twax = ax.twinx()\n",
    "    twax.set_ylabel('CDF')\n",
    "    h1 = twax.plot(1e-6*P_H[i], y2[i], color=color0, linestyle=':', linewidth=1.0)\n",
    "    h2 = twax.plot(1e-6*P_H[i], y3[i], color='k', linestyle='--', linewidth=1.0)\n",
    "    twax.set_ylim(0,1)\n",
    "\n",
    "    if i == 0:\n",
    "        ax.legend((h0[0],h1[0],h2[0]), (\"PDF\", \"CDF\", \"Tail distribution\"))\n",
    "\n",
    "fig.tight_layout()\n",
    "fig.savefig('figures/06-P_H-Posteriors.pdf')"
   ]
  },
  {
   "cell_type": "markdown",
   "metadata": {},
   "source": [
    "### License\n",
    "```\n",
    "The main REHEATFUNQ analysis notebook: compute posterior predictive\n",
    "distribution and the heat flow anomaly strength posterior distribution.\n",
    "\n",
    "This file is part of the REHEATFUNQ model.\n",
    "\n",
    "Author: Malte J. Ziebarth (ziebarth@gfz-potsdam.de)\n",
    "\n",
    "Copyright © 2019-2022 Deutsches GeoForschungsZentrum Potsdam,\n",
    "            2022 Malte J. Ziebarth\n",
    "            \n",
    "\n",
    "This program is free software: you can redistribute it and/or modify\n",
    "it under the terms of the GNU General Public License as published by\n",
    "the Free Software Foundation, either version 3 of the License, or\n",
    "(at your option) any later version.\n",
    "\n",
    "This program is distributed in the hope that it will be useful,\n",
    "but WITHOUT ANY WARRANTY; without even the implied warranty of\n",
    "MERCHANTABILITY or FITNESS FOR A PARTICULAR PURPOSE.  See the\n",
    "GNU General Public License for more details.\n",
    "\n",
    "You should have received a copy of the GNU General Public License\n",
    "along with this program.  If not, see <https://www.gnu.org/licenses/>.\n",
    "```"
   ]
  }
 ],
 "metadata": {
  "kernelspec": {
   "display_name": "Python 3 (ipykernel)",
   "language": "python",
   "name": "python3"
  },
  "language_info": {
   "codemirror_mode": {
    "name": "ipython",
    "version": 3
   },
   "file_extension": ".py",
   "mimetype": "text/x-python",
   "name": "python",
   "nbconvert_exporter": "python",
   "pygments_lexer": "ipython3",
   "version": "3.10.8"
  }
 },
 "nbformat": 4,
 "nbformat_minor": 5
}