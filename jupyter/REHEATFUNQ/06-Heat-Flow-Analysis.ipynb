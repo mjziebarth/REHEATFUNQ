{
 "cells": [
  {
   "cell_type": "markdown",
   "id": "de10487b",
   "metadata": {},
   "source": [
    "# Heat Flow Analysis\n",
    "This notebook performs the heat flow analysis and anomaly quantification for the study area.\n",
    "It is the main notebook for a regional heat flow analyis."
   ]
  },
  {
   "cell_type": "code",
   "execution_count": null,
   "id": "35cfed8d",
   "metadata": {},
   "outputs": [],
   "source": [
    "import numpy as np\n",
    "from pyproj import Proj\n",
    "from cache import cached_call\n",
    "import matplotlib.pyplot as plt\n",
    "from flottekarte import Map, GeoJSON\n",
    "from pickle import Pickler, Unpickler\n",
    "from reheatfunq import GammaConjugatePrior, AnomalyLS1980, HeatFlowAnomalyPosterior, HeatFlowPredictive\n",
    "from loaducerf3 import PolygonSelector, Polygon\n",
    "#from zeal2022hf import LS_a"
   ]
  },
  {
   "cell_type": "markdown",
   "id": "b87f329b",
   "metadata": {},
   "source": [
    "Configure plots to look good on a HiDPI monitor (you may not need the following configuration if you are not using a HiDPI monitor):"
   ]
  },
  {
   "cell_type": "code",
   "execution_count": null,
   "id": "e970de67",
   "metadata": {},
   "outputs": [],
   "source": [
    "%config InlineBackend.figure_format = 'retina'"
   ]
  },
  {
   "cell_type": "markdown",
   "id": "b74c2916",
   "metadata": {},
   "source": [
    "## Data\n",
    "First we load the data from the previous notebooks.\n",
    "\n",
    "First the gamma conjugate prior parameters:"
   ]
  },
  {
   "cell_type": "code",
   "execution_count": null,
   "id": "a0737d12",
   "metadata": {},
   "outputs": [],
   "source": [
    "PRIOR_P, PRIOR_S, PRIOR_N, PRIOR_V = np.loadtxt(\"results/05-GCP-Parameters.txt\", skiprows=1, delimiter=',')\n",
    "gcp = GammaConjugatePrior(PRIOR_P, PRIOR_S, PRIOR_N, PRIOR_V)"
   ]
  },
  {
   "cell_type": "markdown",
   "id": "9bce4218",
   "metadata": {},
   "source": [
    "Geometry. If you have adapted the loading of the fault trace (e.g. for another area),\n",
    "you can replace loading the `merged_surface_trace` from `intermediate/05-SoCal-UCERF3-default-branches.pickle`\n",
    "with custom code."
   ]
  },
  {
   "cell_type": "code",
   "execution_count": null,
   "id": "889ce16f",
   "metadata": {},
   "outputs": [],
   "source": [
    "with open('intermediate/02-Geometry.pickle','rb') as f:\n",
    "    geometry = Unpickler(f).load()\n",
    "with open('intermediate/05-SoCal-UCERF3-default-branches.pickle','rb') as f:\n",
    "    ucerf3_res = Unpickler(f).load()\n",
    "    merged_surface_trace = ucerf3_res[\"merged_surface_trace\"]\n",
    "    fault_depth = ucerf3_res[\"d\"]"
   ]
  },
  {
   "cell_type": "code",
   "execution_count": null,
   "id": "494ff2ce",
   "metadata": {},
   "outputs": [],
   "source": [
    "proj_str = geometry[\"proj_str\"]\n",
    "ENCOS_poly_xy = geometry[\"encos_poly_xy\"]\n",
    "selection_polys_xy = geometry[\"selection_polygons_xy\"]\n",
    "proj = Proj(proj_str)"
   ]
  },
  {
   "cell_type": "markdown",
   "id": "ea10680f",
   "metadata": {},
   "source": [
    "Heat flow data"
   ]
  },
  {
   "cell_type": "code",
   "execution_count": null,
   "id": "f5306f4d",
   "metadata": {},
   "outputs": [],
   "source": [
    "hf_continental_nghf_mW_m2 = np.load('intermediate/heat-flow-selection-mW_m2.npy')\n",
    "hf_x, hf_y = proj(hf_continental_nghf_mW_m2[1], hf_continental_nghf_mW_m2[2])\n",
    "hf_xy = np.stack((hf_x,hf_y), axis=1)\n",
    "hf_mW_m2 = hf_continental_nghf_mW_m2[0]\n",
    "hf_xyq_mW_m2 = np.stack((hf_x, hf_y, hf_mW_m2), axis=1)"
   ]
  },
  {
   "cell_type": "markdown",
   "id": "27914eca",
   "metadata": {},
   "source": [
    "Load the coastline:"
   ]
  },
  {
   "cell_type": "raw",
   "id": "5b6d1388",
   "metadata": {},
   "source": [
    "coastline = GeoJSON('data/USA_SoCal_GSHHS.geojson', proj_str)"
   ]
  },
  {
   "cell_type": "markdown",
   "id": "2c33de30",
   "metadata": {},
   "source": [
    "#### Data Selection\n",
    "Here, we "
   ]
  },
  {
   "cell_type": "code",
   "execution_count": null,
   "id": "f6de3dd0",
   "metadata": {},
   "outputs": [],
   "source": [
    "NAMES = [\"Mojave\", \"\", \"\", \"\"]"
   ]
  },
  {
   "cell_type": "code",
   "execution_count": null,
   "id": "7c71adf2",
   "metadata": {},
   "outputs": [],
   "source": [
    "selectors = [PolygonSelector(Polygon(*poly[:-1,:].T)) for poly in selection_polys_xy]"
   ]
  },
  {
   "cell_type": "code",
   "execution_count": null,
   "id": "7b17d64c",
   "metadata": {},
   "outputs": [],
   "source": [
    "xy_ano = [merged_surface_trace[sel.array_mask(merged_surface_trace)] for sel in selectors]\n",
    "anomalies = [AnomalyLS1980(xya, d) for xya,d in zip(xy_ano,fault_depth)]"
   ]
  },
  {
   "cell_type": "code",
   "execution_count": null,
   "id": "45c6fd35",
   "metadata": {
    "scrolled": false
   },
   "outputs": [],
   "source": [
    "hf_select = []\n",
    "hf_xy_select = []\n",
    "ci_select = []\n",
    "\n",
    "fig = plt.figure(figsize=(12,12))\n",
    "for i in range(len(selectors)):\n",
    "    mask_i = selectors[i].array_mask(hf_xy)\n",
    "    \n",
    "    hf_xy_i = hf_xy[mask_i,:]\n",
    "    hf_i = hf_mW_m2[mask_i]\n",
    "    ci = anomalies[i](hf_xy_i)\n",
    "    \n",
    "    hf_select.append(hf_i)\n",
    "    hf_xy_select.append(hf_xy_i)\n",
    "    ci_select.append(ci)\n",
    "\n",
    "    ax = fig.add_subplot(2,2,i+1)\n",
    "    ax.set_aspect('equal')\n",
    "    ax.scatter(*hf_xy[mask_i,:].T, c=ci)\n",
    "    ax.plot(*xy_ano[i].T)\n",
    "    ax.set_title(NAMES[i])\n",
    "\n",
    "fig.tight_layout()"
   ]
  },
  {
   "cell_type": "markdown",
   "id": "f6feeef1",
   "metadata": {},
   "source": [
    "## Heat Flow Distribution\n",
    "First, evaluate the posterior predictive distributions within the regions:"
   ]
  },
  {
   "cell_type": "code",
   "execution_count": null,
   "id": "3633a2e8",
   "metadata": {},
   "outputs": [],
   "source": [
    "DMIN = 20e3"
   ]
  },
  {
   "cell_type": "code",
   "execution_count": null,
   "id": "c8445ebe",
   "metadata": {},
   "outputs": [],
   "source": [
    "hfp = [HeatFlowPredictive(hf_i, *hf_xy_i.T, gcp, dmin=DMIN, n_bootstrap=1000)\n",
    "       for hf_i, hf_xy_i in zip(hf_select, hf_xy_select)]"
   ]
  },
  {
   "cell_type": "code",
   "execution_count": null,
   "id": "e6708363",
   "metadata": {},
   "outputs": [],
   "source": [
    "q = np.linspace(0, 150, 200)"
   ]
  },
  {
   "cell_type": "code",
   "execution_count": null,
   "id": "218334b8",
   "metadata": {},
   "outputs": [],
   "source": [
    "from math import exp\n",
    "\n",
    "for i in range(len(hfp)):\n",
    "    y = hfp[i].cdf(q)\n",
    "    y2 = hfp[i].pdf(q)\n",
    "    hf_i = hf_select[i]\n",
    "    hf_xy_i = hf_xy_select[i]\n",
    "\n",
    "    fig = plt.figure(figsize=(10,5))\n",
    "    ax = fig.add_subplot(121)\n",
    "    ax.plot(q, y, color='k')\n",
    "    ax.step(list(sorted(hf_i)), list((np.arange(hf_i.size)+1) / hf_i.size), where='post', color='tab:orange')\n",
    "    for w,ids in hfp[i].bootstrap:\n",
    "        ax.plot(list(sorted(hf_i[ids])), list((np.arange(ids.size)+1) / ids.size),\n",
    "                color='bisque', zorder=0)\n",
    "    ax = fig.add_subplot(122)\n",
    "    ax.hist(hf_i, zorder=0, density=True, color='bisque')\n",
    "    ax.plot(q, y2, color='k', linewidth=2)\n",
    "    for lp,s,n,v in zip(hfp[i].lp, hfp[i].s, hfp[i].n, hfp[i].v):\n",
    "        ax.plot(q, GammaConjugatePrior(exp(lp), s, n, v).posterior_predictive(q),\n",
    "                color='steelblue', zorder=0, linewidth=0.5)\n",
    "    "
   ]
  },
  {
   "cell_type": "markdown",
   "id": "f4c6eca9",
   "metadata": {},
   "source": [
    "##### Notes:\n",
    " - (1) Mojave section is a very good example of uniform and sufficient data distribution!\n",
    " - (2) ?? section has sufficient data. It shows clustering: the combined CDF is significantly\n",
    "   shifted compared to the distributions with $d_\\mathrm{min}=20\\,\\mathrm{km}$.\n",
    " - (3) Too few data - only three different combinations! (two data points have same heat flow,\n",
    "   so that two distributions overlay).\n",
    " - (4) Too few data. Clustering at the Geysers leading to two distinct distributions?"
   ]
  },
  {
   "cell_type": "code",
   "execution_count": null,
   "id": "74e8c1fb",
   "metadata": {},
   "outputs": [],
   "source": [
    "hfp[2].bootstrap"
   ]
  },
  {
   "cell_type": "code",
   "execution_count": null,
   "id": "57bcc857",
   "metadata": {},
   "outputs": [],
   "source": [
    "hfp[2].q"
   ]
  },
  {
   "cell_type": "code",
   "execution_count": null,
   "id": "d708095f",
   "metadata": {},
   "outputs": [],
   "source": [
    "fig = plt.figure()\n",
    "ax = fig.add_subplot(111)\n",
    "ax.set_aspect('equal')\n",
    "ax.scatter(*hf_xy_select[3].T, c=hf_select[3])"
   ]
  },
  {
   "cell_type": "markdown",
   "id": "4f7e6d30",
   "metadata": {},
   "source": [
    "## Heat Flow Anomaly Analysis"
   ]
  },
  {
   "cell_type": "code",
   "execution_count": null,
   "id": "2475ebda",
   "metadata": {},
   "outputs": [],
   "source": [
    "hfap = [HeatFlowAnomalyPosterior(hf_i, *hf_xy_i.T, anomaly, gcp, dmin=DMIN, n_bootstrap=100)\n",
    "        for hf_i, hf_xy_i, anomaly in zip(hf_select, hf_xy_select, anomalies)]"
   ]
  },
  {
   "cell_type": "code",
   "execution_count": null,
   "id": "7923a02d",
   "metadata": {},
   "outputs": [],
   "source": [
    "P_H = [np.linspace(0, hfap[i].PHmax, 200) for i in range(len(hfap))]"
   ]
  },
  {
   "cell_type": "code",
   "execution_count": null,
   "id": "dc6e35b5",
   "metadata": {},
   "outputs": [],
   "source": [
    "[hf.PHmax for hf in hfap]"
   ]
  },
  {
   "cell_type": "code",
   "execution_count": null,
   "id": "8fca2dfb",
   "metadata": {},
   "outputs": [],
   "source": [
    "y  = [hfap[i].pdf(P_H[i]) for i in range(len(hfap))]\n",
    "y2 = [hfap[i].cdf(P_H[i]) for i in range(len(hfap))]\n",
    "y3 = [hfap[i].tail(P_H[i]) for i in range(len(hfap))]"
   ]
  },
  {
   "cell_type": "code",
   "execution_count": null,
   "id": "f0565f9b",
   "metadata": {},
   "outputs": [],
   "source": [
    "fig = plt.figure(figsize=(12,12))\n",
    "for i in range(len(hfap)):\n",
    "    ax = fig.add_subplot(2,2,i+1)\n",
    "    ax.plot(P_H[i], y[i])\n",
    "    twax = ax.twinx()\n",
    "    twax.plot(P_H[i], y2[i], linestyle=':')\n",
    "    twax.plot(P_H[i], y3[i], linestyle='--')"
   ]
  },
  {
   "cell_type": "code",
   "execution_count": null,
   "id": "024547f0",
   "metadata": {},
   "outputs": [],
   "source": []
  },
  {
   "cell_type": "markdown",
   "id": "4d05b290",
   "metadata": {},
   "source": [
    "### License\n",
    "```\n",
    "A notebook to compute radiated energy, fault geometry, and slip\n",
    "rates from the UCERF3 model branches.\n",
    "\n",
    "This file is part of the REHEATFUNQ model.\n",
    "\n",
    "Author: Malte J. Ziebarth (ziebarth@gfz-potsdam.de)\n",
    "\n",
    "Copyright © 2019-2022 Deutsches GeoForschungsZentrum Potsdam,\n",
    "            2022 Malte J. Ziebarth\n",
    "            \n",
    "\n",
    "This program is free software: you can redistribute it and/or modify\n",
    "it under the terms of the GNU General Public License as published by\n",
    "the Free Software Foundation, either version 3 of the License, or\n",
    "(at your option) any later version.\n",
    "\n",
    "This program is distributed in the hope that it will be useful,\n",
    "but WITHOUT ANY WARRANTY; without even the implied warranty of\n",
    "MERCHANTABILITY or FITNESS FOR A PARTICULAR PURPOSE.  See the\n",
    "GNU General Public License for more details.\n",
    "\n",
    "You should have received a copy of the GNU General Public License\n",
    "along with this program.  If not, see <https://www.gnu.org/licenses/>.\n",
    "```"
   ]
  }
 ],
 "metadata": {
  "kernelspec": {
   "display_name": "Python 3 (ipykernel)",
   "language": "python",
   "name": "python3"
  },
  "language_info": {
   "codemirror_mode": {
    "name": "ipython",
    "version": 3
   },
   "file_extension": ".py",
   "mimetype": "text/x-python",
   "name": "python",
   "nbconvert_exporter": "python",
   "pygments_lexer": "ipython3",
   "version": "3.10.8"
  }
 },
 "nbformat": 4,
 "nbformat_minor": 5
}
