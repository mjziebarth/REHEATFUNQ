{
 "cells": [
  {
   "cell_type": "markdown",
   "id": "3194cb4e",
   "metadata": {},
   "source": [
    "# 1. Load and Filter the New Global Heat Flow (NGHF) Dataset\n",
    "This notebook loads the heat flow data base in its raw format and filters according to the\n",
    "quality criteria of the REHEATFUNQ model description paper. Accordingly, the NGHF data set\n",
    "(Lucazeau, 2019) is used. If you would like to use a different data set, jump to the\n",
    "[Save the Filtered Data Set](#Save-the-Filtered-Data-Set) section to learn abouit the required\n",
    "format in which the data set needs to be saved.\n",
    "\n",
    "To run this notebook, you need to download the NGHF data set of Lucazeau (2019) first. The necessary file\n",
    "is `2019GC008389-sup-0004-Data_Set_SI-S02.zip` and can be downloaded [here](https://agupubs.onlinelibrary.wiley.com/action/downloadSupplement?doi=10.1029%2F2019GC008389&file=2019GC008389-sup-0004-Data_Set_SI-S02.zip). If this\n",
    "link should not work anymore, the data set might be retrievable from the DOI listed below.\n",
    "\n",
    "\n",
    "### Reference:\n",
    "> Lucazeau, F. (2019). Analysis and mapping of an updated terrestrial heat\n",
    ">    flow data set. Geochemistry, Geophysics, Geosystems, 20, 4001– 4024.\n",
    ">    https://doi.org/10.1029/2019GC008389\n",
    "\n",
    "From the ZIP file, you need to extract the `NGHF.csv` table and provide a working path to the file below."
   ]
  },
  {
   "cell_type": "code",
   "execution_count": null,
   "id": "68bcd765",
   "metadata": {},
   "outputs": [],
   "source": [
    "nghf_file = 'data/NGHF.csv'"
   ]
  },
  {
   "cell_type": "markdown",
   "id": "f2adfe83",
   "metadata": {},
   "source": [
    "Configure plots to look good on a HiDPI monitor (you may not need the following configuration if you are not using a HiDPI monitor):"
   ]
  },
  {
   "cell_type": "code",
   "execution_count": null,
   "id": "6a415137",
   "metadata": {},
   "outputs": [],
   "source": [
    "%config InlineBackend.figure_format = 'retina'"
   ]
  },
  {
   "cell_type": "markdown",
   "id": "13f0a950",
   "metadata": {},
   "source": [
    "General imports used in this notebook:"
   ]
  },
  {
   "cell_type": "code",
   "execution_count": null,
   "id": "d77e73a6",
   "metadata": {},
   "outputs": [],
   "source": [
    "import numpy as np\n",
    "from pathlib import Path\n",
    "from reheatfunq.data import read_nghf\n",
    "import matplotlib.pyplot as plt"
   ]
  },
  {
   "cell_type": "markdown",
   "id": "698edc56",
   "metadata": {},
   "source": [
    "## Data Loading\n",
    "Now we load this data base:"
   ]
  },
  {
   "cell_type": "code",
   "execution_count": null,
   "id": "4279eaa5",
   "metadata": {},
   "outputs": [],
   "source": [
    "nghf_lon, nghf_lat, nghf_hf, nghf_quality, nghf_yr, nghf_type, \\\n",
    "nghf_max_depth, nghf_uncertainty, indexmap \\\n",
    "    = read_nghf(nghf_file)"
   ]
  },
  {
   "cell_type": "markdown",
   "id": "9f107a9a",
   "metadata": {},
   "source": [
    "Create NumPy arrays from some numeric data:"
   ]
  },
  {
   "cell_type": "code",
   "execution_count": null,
   "id": "06b94272",
   "metadata": {},
   "outputs": [],
   "source": [
    "nghf_lon = np.array(nghf_lon)\n",
    "nghf_lat = np.array(nghf_lat)\n",
    "nghf_hf = np.array(nghf_hf)\n",
    "nghf_yr = np.array(nghf_yr)"
   ]
  },
  {
   "cell_type": "markdown",
   "id": "63259da8",
   "metadata": {},
   "source": [
    "## Data Set Statistics"
   ]
  },
  {
   "cell_type": "code",
   "execution_count": null,
   "id": "00ca39b1",
   "metadata": {},
   "outputs": [],
   "source": [
    "print(\"land:\",np.count_nonzero([n == 'land' for n in nghf_type]))\n",
    "print(\"ocean:\",np.count_nonzero([n == 'ocean' for n in nghf_type]))\n",
    "print(\"land A-C:\",np.count_nonzero([n == 'land' and q in ('A','B','C')\n",
    "                                    for n,q in zip(nghf_type,nghf_quality)]))"
   ]
  },
  {
   "cell_type": "code",
   "execution_count": null,
   "id": "8beb69e7",
   "metadata": {
    "scrolled": false
   },
   "outputs": [],
   "source": [
    "fig = plt.figure()\n",
    "ax = fig.add_subplot(111)\n",
    "ax.hist(nghf_yr[nghf_yr < 2030], bins=100);"
   ]
  },
  {
   "cell_type": "markdown",
   "id": "23f41c76",
   "metadata": {},
   "source": [
    "### Filtering\n",
    "Here, we choose all heat flow data lying on land. Also, we use only data that has quality of at least C assigned, and use data newer than 1960s (increase in measurement quality, see Lucazeau (2019)). Also we exclude geothermal data points using Lucazeau's empirical limit of $250 \\,\\mathrm{mW}/\\mathrm{m}^2$."
   ]
  },
  {
   "cell_type": "code",
   "execution_count": null,
   "id": "00be8408",
   "metadata": {},
   "outputs": [],
   "source": [
    "# Only positive heat flow:\n",
    "continental_mask_base = (nghf_hf > 0)\n",
    "\n",
    "# Select only points on land:\n",
    "continental_mask_base &= [n == 'land' for n in nghf_type]\n",
    "\n",
    "# Quality selection: At least 'B' quality:\n",
    "continental_mask_base &= [x in ('A','B') for x in nghf_quality]\n",
    "\n",
    "# Select only data points from years 1990 till now:\n",
    "continental_mask_base &= (nghf_yr <= 2020) & (nghf_yr >= 1990)\n",
    "\n",
    "# Restricted heat flow, using Lucazeau (2019) empirical criterion (restricted to below 250 mW/m^2):\n",
    "continental_mask_capped = (continental_mask_base & (nghf_hf < 250.))\n",
    "continental_mask_full &= (nghf_hf < 250)"
   ]
  },
  {
   "cell_type": "code",
   "execution_count": null,
   "id": "baa45877",
   "metadata": {},
   "outputs": [],
   "source": [
    "main_mask = continental_mask_capped"
   ]
  },
  {
   "cell_type": "markdown",
   "id": "fa24a5b5",
   "metadata": {},
   "source": [
    "## Statistics of the Filtered Data Set"
   ]
  },
  {
   "cell_type": "code",
   "execution_count": null,
   "id": "f60ed43d",
   "metadata": {},
   "outputs": [],
   "source": [
    "print(\"Final data set size:      \", np.count_nonzero(main_mask))\n",
    "print(\"Minimum heat flow (mW/m²):\", nghf_hf[main_mask].min())\n",
    "print(\"Maximum heat flow (mW/m²):\", nghf_hf[main_mask].max())\n",
    "print(\"Average heat flow (mW/m²):\", nghf_hf[main_mask].mean())"
   ]
  },
  {
   "cell_type": "markdown",
   "id": "9a0b1b98",
   "metadata": {},
   "source": [
    "## Save the Filtered Data Set\n",
    "Here, we export the data for further analysis in the other notebooks.\n",
    "\n",
    "Ensure that all directories exist:"
   ]
  },
  {
   "cell_type": "code",
   "execution_count": null,
   "id": "d7e7fb5a",
   "metadata": {},
   "outputs": [],
   "source": [
    "Path(\"data\").mkdir(exist_ok=True)\n",
    "Path(\"export\").mkdir(exist_ok=True)"
   ]
  },
  {
   "cell_type": "markdown",
   "id": "9bb0bda0",
   "metadata": {},
   "source": [
    "We use the `numpy.save` function to save a tuple `(hf, lon, lat)` to\n",
    "the file `data/heat-flow-selection-mW_m2.npy`. If you wish to perform\n",
    "the analysis of the following notebooks but load heat flow data from\n",
    "another source or use custom data filtering, you could save to that\n",
    "file. Make sure to adhere to the following characteristics:\n",
    " - `hf` should be a NumPy array of shape `(N,)` that lists the heat\n",
    "   flow at the data points in $\\mathrm{mW}/\\mathrm{m}^2$\n",
    " - `lon` should be a NumPy array of shape `(N,)` listing the data\n",
    "   point longitude coordinates in degrees\n",
    " - `lat` should be a NumPy array of shape `(N,)` listing the data\n",
    "   point latitude coordinates in degrees\n",
    " - indices in the three arrays have to refer to the data points\n",
    "   in equal order\n",
    " - all NumPy arrayse should be of double precision data type."
   ]
  },
  {
   "cell_type": "code",
   "execution_count": null,
   "id": "125bd6db",
   "metadata": {},
   "outputs": [],
   "source": [
    "np.save('data/heat-flow-selection-mW_m2.npy',\n",
    "        (nghf_hf[main_mask], nghf_lon[main_mask], nghf_lat[main_mask]))"
   ]
  },
  {
   "cell_type": "markdown",
   "id": "2003279f",
   "metadata": {},
   "source": [
    "Save a map from the filtered data set indices to indices in the original NGHF data base.\n",
    "\n",
    "The map we save to `export/nghf-selection-indices.csv` contains one column for each data\n",
    "point we saved in `data/heat-flow-selection-mW_m2.npy`. The entry in each column refers\n",
    "to the row in `NGHF.csv` that the data point was read from."
   ]
  },
  {
   "cell_type": "code",
   "execution_count": null,
   "id": "004927a1",
   "metadata": {},
   "outputs": [],
   "source": [
    "used_indices = np.argwhere(main_mask)\n",
    "final_index_map = [indexmap[int(i)] for i in used_indices]\n",
    "\n",
    "with open('export/nghf-selection-indices.csv','w') as f:\n",
    "    f.write(','.join(str(fi) for fi in final_index_map))"
   ]
  },
  {
   "cell_type": "markdown",
   "id": "d24d3c39",
   "metadata": {},
   "source": [
    "### License\n",
    "```\n",
    "A notebook to read and filter the NGHF data base.\n",
    "\n",
    "This file is part of the REHEATFUNQ model.\n",
    "\n",
    "Author: Malte J. Ziebarth (ziebarth@gfz-potsdam.de)\n",
    "\n",
    "Copyright © 2019-2022 Deutsches GeoForschungsZentrum Potsdam,\n",
    "            2022 Malte J. Ziebarth\n",
    "            \n",
    "\n",
    "This program is free software: you can redistribute it and/or modify\n",
    "it under the terms of the GNU General Public License as published by\n",
    "the Free Software Foundation, either version 3 of the License, or\n",
    "(at your option) any later version.\n",
    "\n",
    "This program is distributed in the hope that it will be useful,\n",
    "but WITHOUT ANY WARRANTY; without even the implied warranty of\n",
    "MERCHANTABILITY or FITNESS FOR A PARTICULAR PURPOSE.  See the\n",
    "GNU General Public License for more details.\n",
    "\n",
    "You should have received a copy of the GNU General Public License\n",
    "along with this program.  If not, see <https://www.gnu.org/licenses/>.\n",
    "```"
   ]
  }
 ],
 "metadata": {
  "kernelspec": {
   "display_name": "Python 3 (ipykernel)",
   "language": "python",
   "name": "python3"
  },
  "language_info": {
   "codemirror_mode": {
    "name": "ipython",
    "version": 3
   },
   "file_extension": ".py",
   "mimetype": "text/x-python",
   "name": "python",
   "nbconvert_exporter": "python",
   "pygments_lexer": "ipython3",
   "version": "3.10.8"
  }
 },
 "nbformat": 4,
 "nbformat_minor": 5
}
