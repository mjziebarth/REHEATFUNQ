{
 "cells": [
  {
   "cell_type": "markdown",
   "metadata": {},
   "source": [
    "# Uniform Point Density in a Circle\n",
    "This notebook investigates the spatial homogeneity of the heat flow data."
   ]
  },
  {
   "cell_type": "code",
   "execution_count": null,
   "metadata": {},
   "outputs": [],
   "source": [
    "import numpy as np\n",
    "from pyproj import Proj\n",
    "from pickle import Unpickler\n",
    "from cache import cached_call\n",
    "import matplotlib.pyplot as plt\n",
    "from scipy.integrate import quad, dblquad\n",
    "from sklearn.neighbors import KernelDensity\n",
    "from matplotlib.patches import Circle, Wedge\n",
    "from loaducerf3 import Polygon, PolygonSelector\n",
    "from reheatfunq.data import distance_distribution\n",
    "from matplotlib.patches import Polygon as MPolygon\n",
    "from reheatfunq.coverings import random_global_R_disk_coverings"
   ]
  },
  {
   "cell_type": "code",
   "execution_count": null,
   "metadata": {},
   "outputs": [],
   "source": [
    "%config InlineBackend.figure_format = 'retina'"
   ]
  },
  {
   "cell_type": "code",
   "execution_count": null,
   "metadata": {},
   "outputs": [],
   "source": [
    "from math import acos, cos, sin, degrees, pi"
   ]
  },
  {
   "cell_type": "markdown",
   "metadata": {},
   "source": [
    "## Data"
   ]
  },
  {
   "cell_type": "code",
   "execution_count": null,
   "metadata": {},
   "outputs": [],
   "source": [
    "hf_continental = np.load('intermediate/heat-flow-selection-mW_m2.npy')"
   ]
  },
  {
   "cell_type": "code",
   "execution_count": null,
   "metadata": {},
   "outputs": [],
   "source": [
    "with open('intermediate/02-Geometry.pickle','rb') as f:\n",
    "    saf_geometry = Unpickler(f).load()\n",
    "\n",
    "proj_saf = Proj(saf_geometry[\"proj_str\"])"
   ]
  },
  {
   "cell_type": "code",
   "execution_count": null,
   "metadata": {},
   "outputs": [],
   "source": [
    "mask = np.ones(hf_continental.shape[1], dtype=bool)\n",
    "hf_xy = np.stack(proj_saf(*hf_continental[1:3,:]), axis=1)\n",
    "\n",
    "for poly in saf_geometry[\"selection_polygons_xy\"]:\n",
    "    select = PolygonSelector(Polygon(*poly[:-1].T))\n",
    "    mask &= ~select.array_mask(hf_xy)\n",
    "hf_independent = (hf_continental.T)[mask]"
   ]
  },
  {
   "cell_type": "code",
   "execution_count": null,
   "metadata": {},
   "outputs": [],
   "source": [
    "with open('intermediate/03-Buffered-Poly.pickle','rb') as f:\n",
    "    buffered_poly = Unpickler(f).load()"
   ]
  },
  {
   "cell_type": "markdown",
   "metadata": {},
   "source": [
    "## Distance distribution for uniform points in a circle\n",
    "First, we determine the probability density of the distance $d$ of a pair\n",
    "of points, both drawn from a uniform distribution in a circle. We illustrate\n",
    "the derivation using a sketch:"
   ]
  },
  {
   "cell_type": "code",
   "execution_count": null,
   "metadata": {},
   "outputs": [],
   "source": [
    "def plot_circle_sketch(ax, x, d, R, fontsize=8):\n",
    "    \"\"\"\n",
    "    Create a sketch illustrating the computation of the density.\n",
    "    \"\"\"\n",
    "    # Location of the large R-circle:\n",
    "    xR, yR = 0, 0\n",
    "\n",
    "    # Location of the small circle\n",
    "    xd, yd = 0, -x\n",
    "    \n",
    "    # The azimuth from the small circle center to\n",
    "    # the intercept:\n",
    "    if x + d > R:\n",
    "        alpha = acos((x**2 + d**2 - R) / (2*x*d))\n",
    "    else:\n",
    "        alpha = pi\n",
    "    \n",
    "    # Location of the left intercept of the two:\n",
    "    xint = -d * sin(alpha)\n",
    "    yint = d * cos(alpha) - x\n",
    "    \n",
    "    if x + d > R:\n",
    "        ax.add_patch(Wedge((xd,yd), 0.2*d, 90.0, 90.00+degrees(alpha), width=0,\n",
    "                           facecolor='none', edgecolor='k'))\n",
    "    ax.add_patch(Circle((xR,yR), R, facecolor='none', edgecolor='k'))\n",
    "    ax.add_patch(Circle((xd,yd), d, facecolor='none', edgecolor='gray'))\n",
    "    ax.add_patch(Wedge((xd,yd), d, 90.00-degrees(alpha), 90.0+degrees(alpha), width=0,\n",
    "                       facecolor='none', edgecolor='tab:orange', linewidth=2.0))\n",
    "    ax.scatter(xR, yR, marker='*', color='tab:blue')\n",
    "    ax.scatter(xd, yd, marker='o', color='tab:blue')\n",
    "    ax.scatter(xint, yint, marker='.', color='tab:red')\n",
    "    if x + d > R:\n",
    "        ax.plot([xR, xd, xint, xR], [yR, yd, yint, yR], color='k', linestyle='--', zorder=0, linewidth=1.0)\n",
    "    else:\n",
    "        ax.plot([xR, xint], [yR, yint], color='k', linestyle='--', zorder=0, linewidth=1.0)\n",
    "    ax.text(0.5*(xd + xint), 0.5*(yd+yint), \"$d$\", ha='left' if degrees(alpha) > 90 else 'right', va='top',\n",
    "            fontsize=8)\n",
    "    ax.text(10e-3*R, 0.5*(yd+yR), \"$x$\", ha='left', va='center', fontsize=8)\n",
    "    if x + d > R:\n",
    "        ax.text(xd-0.05*d, yd, \"$\\\\alpha$\", ha='right', va='bottom', fontsize=8)\n",
    "        ax.text(0.5*(xR + xint), 0.5*(yR+yint), \"$R$\", ha='right' if degrees(alpha) > 90 else 'left',\n",
    "                va='bottom', fontsize=8)"
   ]
  },
  {
   "cell_type": "code",
   "execution_count": null,
   "metadata": {},
   "outputs": [],
   "source": [
    "fig = plt.figure(figsize=(7.510, 2.8))\n",
    "#ax_bg = fig.add_axes((0,0,1,1))\n",
    "ax0 = fig.add_axes((0.0, 0.0, 0.33, 1.0))\n",
    "ax0.set_xlim(-1.9, 1.9)\n",
    "ax0.set_ylim(-2.8, 1.2)\n",
    "ax0.set_aspect('equal')\n",
    "ax0.set_axis_off()\n",
    "ax0.text(-1.9, 1.2, \"(a)\", ha='left', va='top')\n",
    "plot_circle_sketch(ax0, 0.4, 0.7, 1.0)\n",
    "\n",
    "ax1 = fig.add_axes((0.34, 0.0, 0.33, 1.0))\n",
    "ax1.set_xlim(-1.9, 1.9)\n",
    "ax1.set_ylim(-2.8, 1.2)\n",
    "ax1.set_aspect('equal')\n",
    "ax1.set_axis_off()\n",
    "ax1.text(-1.9, 1.2, \"(b)\", ha='left', va='top')\n",
    "plot_circle_sketch(ax1, 0.9, 1.85, 1.0)\n",
    "\n",
    "ax2 = fig.add_axes((0.67, 0.0, 0.33, 1.0))\n",
    "ax2.set_xlim(-1.9, 1.9)\n",
    "ax2.set_ylim(-2.8, 1.2)\n",
    "ax2.set_aspect('equal')\n",
    "ax2.set_axis_off()\n",
    "ax2.text(-1.9, 1.2, \"(c)\", ha='left', va='top')\n",
    "plot_circle_sketch(ax2, 0.7, 0.2, 1.0)"
   ]
  },
  {
   "cell_type": "markdown",
   "metadata": {},
   "source": [
    "Suppose that we have two points $p_0$ and $p_1$ drawn randomly from the uniform distribution on the disk.\n",
    "Without loss of generality, we can rotate the disk as indicated in (a) so that the first point $p_0$ is\n",
    "at distance $x$ from the center of the disk. A random point drawn from the disk would have a distance $x$\n",
    "following the distribution\n",
    "$$\n",
    "    p(x) = \\frac{2x}{R^2}\\,.\n",
    "$$\n",
    "Now the orange circle wedge shows the set of points within the disk that are located at distance $d$ from $p_0$.\n",
    "For the configuration shown in (a), the wedge intersects the disk's border in the red dot. This dot can be\n",
    "parameterized by the angle $\\alpha$, measured counterclockwise from the line from $p_0$ to the center. The angle\n",
    "$\\alpha$ can be computed from the law of cosines:\n",
    "$$\n",
    "    \\alpha = \\arccos\\left(\\frac{x^2 + d^2 - R^2}{2xd}\\right)\\,.\n",
    "$$\n",
    "The configuration of (a) is valid only for a limited set of $d$ depending on the value of $x$ (and vice versa).\n",
    "The figure (b) shows that as $d$ increases, the wedge converges to a point. This yields an upper bound for $d$\n",
    "for a given $x$:\n",
    "$$\n",
    "    d \\leq R + x\\,.\n",
    "$$\n",
    "The panel (c) illustrates another limit of the case shown in (a). If the sum of $d$ and $x$ is lower than the\n",
    "disk radius, $d + x < R$, the full circle at distance $d$ around $p_0$ is always part of the disk. This can be\n",
    "modeled by\n",
    "$$\n",
    "    \\alpha(x,d,R) = \\left\\lbrace\n",
    "                    \\begin{array}\n",
    "                        \\,\\arccos \\left(\\frac{x^2 + d^2 - R^2}{2xd}\\right)\\, & : x > R - d \\\\\n",
    "                        \\pi &: x \\leq R - d\n",
    "                    \\end{array}\\right. \\,.\n",
    "$$\n",
    "\n",
    "We can now construct the density of point pairs $p_0$ and $p_1$ at distance $d$. Conditional on $p_0$ and its $x$,\n",
    "the density of points $p_1$ at distance $d$ is proportional to circle wedge length (orange), $L=\\alpha d$. Integrated over all possible $p_0$, we find:\n",
    "$$\n",
    "f(d) = \\frac{1}{F} \\int\\limits_{\\max\\{d-R,\\, 0\\}}^R \\!\\!\\!\\!\\!\\!\\!\\mathrm{d}x\\; p(x) \\alpha(x,d,R) d\n",
    "$$\n",
    "for $0 \\leq d \\leq 2R$. The normalization constant is therefore\n",
    "$$\n",
    "F = \\int\\limits_0^{2R}\\!\\!\\!\\mathrm{d}y \\int\\limits_{\\max\\{y-R,\\, 0\\}}^R \\!\\!\\!\\!\\!\\!\\!\\mathrm{d}x\\; p(x) \\alpha(x,y,R) y\\,.\n",
    "$$"
   ]
  },
  {
   "cell_type": "code",
   "execution_count": null,
   "metadata": {},
   "outputs": [],
   "source": [
    "def integrand(x,d):\n",
    "    if x == 0 or x == 1:\n",
    "        return 0.0\n",
    "    if x <= 1.0 - d:\n",
    "        return 2 * pi * d * x\n",
    "    c = (x**2 + d**2 - 1) / (2*x*d)\n",
    "    if c > 1:\n",
    "        # Should not happen, but might be due to numerics.\n",
    "        if c - 1.0 < 1e-5:\n",
    "            return 0.0\n",
    "    if c < -1:\n",
    "        # Should not happen, but might be due to numerics.\n",
    "        if abs(c+1) < 1e-5:\n",
    "            return 2 * pi * d * x\n",
    "        \n",
    "    return 2 * x * d * acos(c)"
   ]
  },
  {
   "cell_type": "code",
   "execution_count": null,
   "metadata": {},
   "outputs": [],
   "source": [
    "I = dblquad(integrand, 0, 2, lambda d : max(0.0, d-1.0), 1.0)[0]"
   ]
  },
  {
   "cell_type": "code",
   "execution_count": null,
   "metadata": {},
   "outputs": [],
   "source": [
    "def pdf(d):\n",
    "    return quad(integrand, max(0.0, d-1.0), 1.0, args=(d,))[0] / I\n",
    "\n",
    "def cdf(d):\n",
    "    return dblquad(integrand, 0, d, lambda x : max(0.0, x-1.0), 1.0)[0] / I"
   ]
  },
  {
   "cell_type": "code",
   "execution_count": null,
   "metadata": {},
   "outputs": [],
   "source": [
    "D = np.linspace(0, 2, 100)\n",
    "Ypdf = np.array([pdf(d) for d in D])\n",
    "Ycdf = np.array([cdf(d) for d in D])"
   ]
  },
  {
   "cell_type": "code",
   "execution_count": null,
   "metadata": {},
   "outputs": [],
   "source": [
    "fig = plt.figure(figsize=(10,4))\n",
    "ax = fig.add_subplot(121)\n",
    "ax.plot(D,Ypdf)\n",
    "ax = fig.add_subplot(122)\n",
    "ax.plot(D,1.0 - Ycdf)\n",
    "fig.tight_layout()"
   ]
  },
  {
   "cell_type": "markdown",
   "metadata": {},
   "source": [
    "## Real-World Data Point Distance\n",
    "Now we evaluate the real-world data from the NGHF (with the data filtering of notebook 01\n",
    "applied and the data from the study area excluded)."
   ]
  },
  {
   "cell_type": "code",
   "execution_count": null,
   "metadata": {},
   "outputs": [],
   "source": [
    "R = 80e3\n",
    "MIN_POINTS = 10"
   ]
  },
  {
   "cell_type": "code",
   "execution_count": null,
   "metadata": {},
   "outputs": [],
   "source": [
    "dist_lola_dmin = {}\n",
    "DMIN_RANGE = [0.001, 0.1,0.5,1,2,10,20, 30]\n",
    "for dmin in DMIN_RANGE:\n",
    "    valid_points, _, distributions, distribution_lola, distribution_indices \\\n",
    "       = cached_call(random_global_R_disk_coverings, R, MIN_POINTS, hf_independent,\n",
    "                     buffered_poly, saf_geometry[\"proj_str\"], dmin=dmin*1e3, seed=908392)\n",
    "    dist_lola_dmin[dmin] = distribution_lola"
   ]
  },
  {
   "cell_type": "code",
   "execution_count": null,
   "metadata": {},
   "outputs": [],
   "source": [
    "distance_distribution_dmin = {}\n",
    "for dmin in DMIN_RANGE:\n",
    "    ddd_i = []\n",
    "    for lola in dist_lola_dmin[dmin]:\n",
    "        #ddd_i.append(nearest_neighbor_distance_brute(lola[:,0], lola[:,1]))\n",
    "        ddd_i.append(distance_distribution(lola[:,0], lola[:,1]))\n",
    "    distance_distribution_dmin[dmin] = np.concatenate(ddd_i)"
   ]
  },
  {
   "cell_type": "markdown",
   "metadata": {},
   "source": [
    "Rescaling the limit density by simply cutting of the $d < d_\\mathrm{min}$ part:"
   ]
  },
  {
   "cell_type": "code",
   "execution_count": null,
   "metadata": {},
   "outputs": [],
   "source": [
    "Ycdf_dmin = np.array([cdf(dmin / 80) for dmin in DMIN_RANGE])"
   ]
  },
  {
   "cell_type": "markdown",
   "metadata": {},
   "source": [
    "Investigate the CDFs:"
   ]
  },
  {
   "cell_type": "code",
   "execution_count": null,
   "metadata": {},
   "outputs": [],
   "source": [
    "fig = plt.figure(figsize=(8,8))\n",
    "xmax = 0.0\n",
    "axes = []\n",
    "for i,dmin in enumerate(DMIN_RANGE):\n",
    "    ax = fig.add_subplot(3,3,i+1)\n",
    "    #ax.hist(distance_distribution_dmin[dmin], density=False, bins='auto')\n",
    "    xi = np.sort(distance_distribution_dmin[dmin])\n",
    "    ax.plot(xi, (np.arange(xi.size)+1)[::-1] / xi.size)\n",
    "    #dfr = dflat_redux[dmin]\n",
    "    x = 80e3 * D\n",
    "    mask = x >= dmin * 1e3\n",
    "    ax.plot(x[mask], (1.0-Ycdf[mask]) / (1.0 - Ycdf_dmin[i]))\n",
    "    xmax = max(ax.get_xlim()[1],xmax)\n",
    "    axes.append(ax)\n",
    "    ax.set_title(dmin)\n",
    "\n",
    "xplot = np.linspace(min(DMIN_RANGE),xmax)\n",
    "yplot = xplot*np.exp(-3e-9*xplot**2)\n",
    "yplot /= (yplot * (xplot[1]-xplot[0])).sum()\n",
    "yplot *= 2e6\n",
    "for ax in axes:\n",
    "    ax.set_xlim(0,xmax)\n",
    "fig.tight_layout();"
   ]
  },
  {
   "cell_type": "markdown",
   "metadata": {},
   "source": [
    "##### Final results plot:"
   ]
  },
  {
   "cell_type": "code",
   "execution_count": null,
   "metadata": {},
   "outputs": [],
   "source": [
    "with plt.rc_context({'axes.labelsize' : 'small',\n",
    "                     'axes.titlesize' : 'medium',\n",
    "                     'xtick.labelsize': 'small',\n",
    "                     'ytick.labelsize': 'small'}):\n",
    "    fig = plt.figure(figsize=(7.510, 2.5), dpi=300)\n",
    "    #ax_bg = fig.add_axes((0,0,1,1))\n",
    "    xmax = 0.0\n",
    "    ymax=0.0\n",
    "    axes = []\n",
    "    ax_leg = fig.add_axes((0,0,1.0, 0.14))\n",
    "    ax_leg.set_axis_off()\n",
    "    for i,dmin in enumerate([1,10,20, 30]):\n",
    "        ax = fig.add_axes((0.07 + 0.24*i, 0.33, 0.2, 0.58))\n",
    "        if i == 0:\n",
    "            ax.set_ylabel('Neighbor density ($10^{-3}\\mathrm{km}^{-1}$)')\n",
    "        ax.set_xlabel('Distance $d$ (km)')\n",
    "        xi = np.sort(1e-3*distance_distribution_dmin[dmin])\n",
    "\n",
    "        kd = KernelDensity(kernel='gaussian', bandwidth=1.0).fit(xi.reshape((-1,1)))\n",
    "\n",
    "        x0 = 80 * D\n",
    "        x0 = x0[x0 >= dmin]\n",
    "        y0 = 1e3*np.exp(kd.score_samples(x0.reshape((-1,1))))\n",
    "        h0 = ax.plot(x0, y0, color='tab:blue', linewidth=1.0)\n",
    "\n",
    "        x1 = 80 * D\n",
    "        mask = x1 >= dmin\n",
    "        x1 = x1[mask]\n",
    "        y1 = Ypdf[mask] / (1.0 - Ycdf_dmin[i]) * 1e3 * 2/(160-dmin)\n",
    "        h1 = ax.plot(x1, y1, color='k', linestyle='--', linewidth=0.8,\n",
    "                     label='Uniform')\n",
    "\n",
    "        # Polygon showing the integral difference between the two curves:\n",
    "        xpoly = np.concatenate((x0,x1[::-1]))\n",
    "        ypoly = np.concatenate((y0,y1[::-1]))\n",
    "        h2 = ax.add_patch(MPolygon(np.stack((xpoly, ypoly),axis=1), color='lightgray'))\n",
    "\n",
    "        xmax = max(ax.get_xlim()[1],xmax)\n",
    "        ymax = max(ax.get_ylim()[1],ymax)\n",
    "        axes.append(ax)\n",
    "        ax.set_title(f\"$d_\\mathrm{{min}}={dmin}\\,\\mathrm{{km}}$\", color='k' if dmin == 20 else '#505050')\n",
    "\n",
    "\n",
    "    ax_leg.legend(handles=(h0[0],h1[0],h2),\n",
    "                  labels=('Disk-covered NGHF','Uniform points in disk','Difference'),\n",
    "                  ncol=3, loc='center')\n",
    "\n",
    "    xplot = np.linspace(min(DMIN_RANGE),xmax)\n",
    "    yplot = xplot*np.exp(-3e-9*xplot**2)\n",
    "    yplot /= (yplot * (xplot[1]-xplot[0])).sum()\n",
    "    yplot *= 2e6\n",
    "    for ax in axes:\n",
    "        ax.set_xlim(0,xmax)\n",
    "        ax.set_ylim(0,ymax)\n",
    "        ax.set_xticks([0,80,160])\n",
    "\n",
    "    fig.savefig('figures/A5-NGHF-Neighbor-Density.pdf')"
   ]
  },
  {
   "cell_type": "markdown",
   "metadata": {},
   "source": [
    "### License\n",
    "```\n",
    "A notebook to investigate the spatial uniformity of the heat flow\n",
    "data base and determine the minimum data distance d_min.\n",
    "\n",
    "This file is part of the REHEATFUNQ model.\n",
    "\n",
    "Author: Malte J. Ziebarth (ziebarth@gfz-potsdam.de)\n",
    "\n",
    "Copyright © 2019-2022 Deutsches GeoForschungsZentrum Potsdam,\n",
    "            2022 Malte J. Ziebarth\n",
    "            \n",
    "\n",
    "This program is free software: you can redistribute it and/or modify\n",
    "it under the terms of the GNU General Public License as published by\n",
    "the Free Software Foundation, either version 3 of the License, or\n",
    "(at your option) any later version.\n",
    "\n",
    "This program is distributed in the hope that it will be useful,\n",
    "but WITHOUT ANY WARRANTY; without even the implied warranty of\n",
    "MERCHANTABILITY or FITNESS FOR A PARTICULAR PURPOSE.  See the\n",
    "GNU General Public License for more details.\n",
    "\n",
    "You should have received a copy of the GNU General Public License\n",
    "along with this program.  If not, see <https://www.gnu.org/licenses/>.\n",
    "```"
   ]
  }
 ],
 "metadata": {
  "kernelspec": {
   "display_name": "Python 3 (ipykernel)",
   "language": "python",
   "name": "python3"
  },
  "language_info": {
   "codemirror_mode": {
    "name": "ipython",
    "version": 3
   },
   "file_extension": ".py",
   "mimetype": "text/x-python",
   "name": "python",
   "nbconvert_exporter": "python",
   "pygments_lexer": "ipython3",
   "version": "3.10.8"
  }
 },
 "nbformat": 4,
 "nbformat_minor": 5
}