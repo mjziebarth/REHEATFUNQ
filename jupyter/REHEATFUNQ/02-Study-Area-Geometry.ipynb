{
 "cells": [
  {
   "cell_type": "markdown",
   "id": "174bdad3",
   "metadata": {},
   "source": [
    "# 2. Study Area Geometry\n",
    "This notebook sets up the geometry for a study area. The geometry might be used\n",
    "in a later notebook (`03-Gamma-Conjugate-Prior-Parameters.ipynb`) to exclude heat\n",
    "flow data from the study area from the conjugate prior parameter estimation. This\n",
    "in turn ensures independence of the prior data from the later analysis.\n",
    "\n",
    "Package imports:"
   ]
  },
  {
   "cell_type": "code",
   "execution_count": null,
   "id": "d0b9af8d",
   "metadata": {},
   "outputs": [],
   "source": [
    "import numpy as np\n",
    "from pyproj import Proj\n",
    "from pickle import Pickler\n",
    "from shapely.geometry import Polygon as SPolygon\n",
    "from flottekarte import Map\n",
    "import matplotlib.pyplot as plt\n",
    "from matplotlib.patches import Polygon as MPolygon\n",
    "from zeal2022hf import write_polygon_geojson, read_geopackage_polys"
   ]
  },
  {
   "cell_type": "markdown",
   "id": "e12dfe98",
   "metadata": {},
   "source": [
    "Configure plots to look good on a HiDPI monitor (you may not need the following configuration if you are not using a HiDPI monitor):"
   ]
  },
  {
   "cell_type": "code",
   "execution_count": null,
   "id": "986dda15",
   "metadata": {},
   "outputs": [],
   "source": [
    "%config InlineBackend.figure_format = 'retina'"
   ]
  },
  {
   "cell_type": "markdown",
   "id": "f245fe7f",
   "metadata": {},
   "source": [
    "## Setting up the Coordinate System:\n",
    "A PROJ string to work in later (might also work with WKT):"
   ]
  },
  {
   "cell_type": "code",
   "execution_count": null,
   "id": "89921a97",
   "metadata": {},
   "outputs": [],
   "source": [
    "proj_str = \"+proj=omerc +lat_0=64.6978215 +lonc=-169.71419431 +alpha=-71.26503909 +gamma=-30.62172945 \" \\\n",
    "           \"+k=0.99959372 +x_0=0 +y_0=0 +ellps=WGS84 +units=m +no_defs\"\n",
    "proj = Proj(proj_str)"
   ]
  },
  {
   "cell_type": "markdown",
   "id": "a6f75a81",
   "metadata": {},
   "source": [
    "## Define the Polygons of Data Selection\n",
    "Load a number of polygons whose union defines the joint selection area of regional\n",
    "heat flow data used in the later analysis steps (i.e. one regional aggregate distribution\n",
    "per polygon).\n",
    "\n",
    "Here, we load polygons for the analysis in Southern California stored in a GeoPackage format.\n",
    "The following field can be adjusted to any set of polygons as long as `selection_polys` contains\n",
    "a list `lola` of NumPy arrays of shape $(N_i,2)$, where $N_i$ is the number of data points of the\n",
    "array `lola[i]`. Furthermore, `lola[i][:,0]` should refer to the longitudes and `lola[i][:,1]` to\n",
    "the latitudes of the Polygon's coordinates."
   ]
  },
  {
   "cell_type": "code",
   "execution_count": null,
   "id": "c7c1b9ba",
   "metadata": {},
   "outputs": [],
   "source": [
    "selection_polys = read_geopackage_polys(\"data/SoCal-Regions.gpkg\", proj_str)"
   ]
  },
  {
   "cell_type": "markdown",
   "id": "d9689012",
   "metadata": {},
   "source": [
    "Now project the polygons to the working coordinate system:"
   ]
  },
  {
   "cell_type": "code",
   "execution_count": null,
   "id": "c204bd15",
   "metadata": {},
   "outputs": [],
   "source": [
    "selection_polys_xy = [np.array(proj(*lola.T)).T for lola in selection_polys]"
   ]
  },
  {
   "cell_type": "markdown",
   "id": "22254e7c",
   "metadata": {},
   "source": [
    "##### Additional Polygons\n",
    "Determine the region of interest used in the ENCOS paper (Ziebarth *et al.*, 2020).\n",
    "\n",
    "This step might not be needed for the analysis in other regions - or you might want\n",
    "to load and project other geometries here."
   ]
  },
  {
   "cell_type": "code",
   "execution_count": null,
   "id": "f35ff48c",
   "metadata": {},
   "outputs": [],
   "source": [
    "# As defined in Ziebarth et al. (2020):\n",
    "proj_str_encos = \"proj=omerc lonc=-117.60812863592994 lat_0=34.25571056443553 alpha=-53.56972535964464 \" \\\n",
    "                 \"k_0=0.9999877834134252 +no_rot +no_off\"\n",
    "\n",
    "# Bounds in this projection (including u offset u_0):\n",
    "xlim_encos = (-349375.08186776284, 336921.92762642726)\n",
    "ylim_encos = (-345061.06198712916, 245061.0620845298)\n",
    "\n",
    "# Correct for the u_0 offset:\n",
    "u_0 = Proj(proj_str_encos)(-117.60812863592994, 34.25571056443553)[0]\n",
    "xlim_encos = (xlim_encos[0]+u_0, xlim_encos[1]+u_0)\n",
    "ylim_encos = (-ylim_encos[1], -ylim_encos[0])\n",
    "\n",
    "# Now in this system, we can invert the SoCal ENCOS area bounds:\n",
    "proj_encos = Proj(proj_str_encos)\n",
    "ENCOS_inner_extent_lola = proj_encos([*xlim_encos, *xlim_encos[::-1]],\n",
    "                                     [ylim_encos[0],ylim_encos[0], ylim_encos[1], ylim_encos[1]],\n",
    "                                     inverse=True)\n",
    "\n",
    "# Also define a more fine-grained polygon since straight lines in the\n",
    "# ENCOS coordinate system need not be straight lines in this working system:\n",
    "xpoly_encos = np.concatenate([np.linspace(*xlim_encos, 100), np.ones(98)*xlim_encos[1],\n",
    "                              np.linspace(*xlim_encos[::-1],100),np.ones(98)*xlim_encos[0]])\n",
    "ypoly_encos = np.concatenate([np.ones(100)*ylim_encos[0], np.linspace(*ylim_encos, 100)[1:-1],\n",
    "                              np.ones(100)*ylim_encos[1], np.linspace(*ylim_encos[::-1],100)[1:-1]])\n",
    "ENCOS_poly_lola = np.array(proj_encos(xpoly_encos, ypoly_encos, inverse=True)).T\n",
    "ENCOS_poly_xy = np.array(proj(*ENCOS_poly_lola.T)).T"
   ]
  },
  {
   "cell_type": "markdown",
   "id": "d9bde1ec",
   "metadata": {},
   "source": [
    "## Geometry Statistics and Visualization\n",
    "Here, plot the geometry in the working coordinate system to ensure that everythin worked out as it should.\n",
    "Also, we output some statistics about the data."
   ]
  },
  {
   "cell_type": "code",
   "execution_count": null,
   "id": "d34ce24e",
   "metadata": {},
   "outputs": [],
   "source": [
    "fig = plt.figure()\n",
    "ax = fig.add_subplot(111)\n",
    "mp = Map.for_data(np.concatenate([ENCOS_poly_lola[:,0], *[xy[:,0] for xy in selection_polys]]),\n",
    "                  np.concatenate([ENCOS_poly_lola[:,1], *[xy[:,1] for xy in selection_polys]]),\n",
    "                  proj_str, ax)\n",
    "\n",
    "ax.add_patch(MPolygon(np.array(proj(*ENCOS_poly_lola.T)).T, facecolor='none', edgecolor='tab:blue'))\n",
    "\n",
    "for poly in selection_polys:\n",
    "    ax.add_patch(MPolygon(np.array(proj(*poly.T)).T, facecolor='none', edgecolor='tab:orange'))\n",
    "\n",
    "ax.scatter(*proj(*ENCOS_inner_extent_lola))\n",
    "\n",
    "mp.plot_axes()"
   ]
  },
  {
   "cell_type": "code",
   "execution_count": null,
   "id": "d3230b8a",
   "metadata": {},
   "outputs": [],
   "source": [
    "for poly in selection_polys:\n",
    "    print(\"A =\",SPolygon(np.array(proj(*poly.T)).T).area * 1e-6, \"km²\")\n",
    "    print(\"  -> R =\",\n",
    "          1e-3*np.sqrt(SPolygon(np.array(proj(*poly.T)).T).area / np.pi), 'km')"
   ]
  },
  {
   "cell_type": "markdown",
   "id": "1c5afa27",
   "metadata": {},
   "source": [
    "## Data Export\n",
    "Here, export geometry information. The important parts for the following analysis notebooks\n",
    "are the `\"proj_str\"`, `\"selection_polygons_lola\"`, and `\"selection_polygons_xy\"` keys. Those\n",
    "should also be present when analyzing other study areas."
   ]
  },
  {
   "cell_type": "code",
   "execution_count": null,
   "id": "da51aea0",
   "metadata": {},
   "outputs": [],
   "source": [
    "geometry = {\n",
    "    \"proj_str\" : proj_str,\n",
    "    \"selection_polygons_lola\" : selection_polys,\n",
    "    \"selection_polygons_xy\" : selection_polys_xy,\n",
    "    \"encos_poly_lola\" : ENCOS_poly_lola,\n",
    "    \"encos_poly_xy\" : ENCOS_poly_xy\n",
    "}\n",
    "\n",
    "with open('export/06a-SoCal-Geometry.pickle','wb') as f:\n",
    "    Pickler(f).dump(geometry)"
   ]
  },
  {
   "cell_type": "markdown",
   "id": "2828efba",
   "metadata": {},
   "source": [
    "Output the ENCOS polygon:"
   ]
  },
  {
   "cell_type": "code",
   "execution_count": null,
   "id": "fad674ee",
   "metadata": {},
   "outputs": [],
   "source": [
    "write_polygon_geojson('export/ENCOS-area.geojson',\n",
    "                      ENCOS_poly_lola[:,0], ENCOS_poly_lola[:,1],\n",
    "                      [], fields=[], name='ENCOS area')"
   ]
  },
  {
   "cell_type": "markdown",
   "id": "0616d7ee",
   "metadata": {},
   "source": [
    "### References\n",
    ">  Ziebarth, M. J., von Specht, S., Heidbach, O., Cotton, F., & Anderson, J. G. (2020).\n",
    ">      Applying conservation of energy to estimate earthquake frequencies from strain rates and stresses.\n",
    ">      Journal of Geophysical Research: Solid Earth, 125, e2020JB020186.\n",
    ">      https://doi.org/10.1029/2020JB020186 "
   ]
  },
  {
   "cell_type": "markdown",
   "id": "a7487c53",
   "metadata": {},
   "source": [
    "### License\n",
    "```\n",
    "A notebook to define the study area geometry in a 2D map projection system.\n",
    "\n",
    "This file is part of the REHEATFUNQ model.\n",
    "\n",
    "Author: Malte J. Ziebarth (ziebarth@gfz-potsdam.de)\n",
    "\n",
    "Copyright © 2019-2022 Deutsches GeoForschungsZentrum Potsdam,\n",
    "            2022 Malte J. Ziebarth\n",
    "            \n",
    "\n",
    "This program is free software: you can redistribute it and/or modify\n",
    "it under the terms of the GNU General Public License as published by\n",
    "the Free Software Foundation, either version 3 of the License, or\n",
    "(at your option) any later version.\n",
    "\n",
    "This program is distributed in the hope that it will be useful,\n",
    "but WITHOUT ANY WARRANTY; without even the implied warranty of\n",
    "MERCHANTABILITY or FITNESS FOR A PARTICULAR PURPOSE.  See the\n",
    "GNU General Public License for more details.\n",
    "\n",
    "You should have received a copy of the GNU General Public License\n",
    "along with this program.  If not, see <https://www.gnu.org/licenses/>.\n",
    "```"
   ]
  }
 ],
 "metadata": {
  "kernelspec": {
   "display_name": "Python 3 (ipykernel)",
   "language": "python",
   "name": "python3"
  },
  "language_info": {
   "codemirror_mode": {
    "name": "ipython",
    "version": 3
   },
   "file_extension": ".py",
   "mimetype": "text/x-python",
   "name": "python",
   "nbconvert_exporter": "python",
   "pygments_lexer": "ipython3",
   "version": "3.10.8"
  }
 },
 "nbformat": 4,
 "nbformat_minor": 5
}
