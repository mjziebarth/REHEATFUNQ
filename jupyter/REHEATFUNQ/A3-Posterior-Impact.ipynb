{
 "cells": [
  {
   "cell_type": "markdown",
   "metadata": {},
   "source": [
    "# Impact of the Prior Parameters\n",
    "This notebook investigates the impact that the use of the gamma conjugate prior\n",
    "with informed parameters has on the evaluation of heat flow anomalies. To this\n",
    "end, \"sample locations\" are drawn from $R=80\\,\\mathrm{km}$ disks with a straight\n",
    "line fault splitting the disk in half.\n",
    "\n",
    "The signature of the anomaly follows Lachenbruch & Sass (1980) with a linear\n",
    "increase in heat production with depth. The length of the fault is\n",
    "$160\\,\\mathrm{km}$ and the depth $14\\,\\mathrm{km}$ (currently hardcoded to the\n",
    "backend C++ code `external/zeal2022hfpc/src/resilience.cpp`)."
   ]
  },
  {
   "cell_type": "code",
   "execution_count": null,
   "metadata": {},
   "outputs": [],
   "source": [
    "import json\n",
    "import numpy as np\n",
    "from pathlib import Path\n",
    "from plotconfig import *\n",
    "from cmcrameri.cm import *\n",
    "from cache import cached_call\n",
    "from itertools import product\n",
    "from cmocean.tools import crop\n",
    "import matplotlib.pyplot as plt\n",
    "from scipy.spatial import KDTree\n",
    "from matplotlib.lines import Line2D\n",
    "from zeal2022hf import get_cm_colors\n",
    "from reheatfunq import GammaConjugatePrior\n",
    "from scipy.ndimage import gaussian_filter\n",
    "from reheatfunq.resilience import test_performance_cython, \\\n",
    "                                  test_performance_mixture_cython"
   ]
  },
  {
   "cell_type": "markdown",
   "metadata": {},
   "source": [
    "### Results from previous notebooks"
   ]
  },
  {
   "cell_type": "code",
   "execution_count": null,
   "metadata": {},
   "outputs": [],
   "source": [
    "PRIOR_P, PRIOR_S, PRIOR_N, PRIOR_V = np.loadtxt('results/05-GCP-Parameters.txt', skiprows=1, delimiter=',')"
   ]
  },
  {
   "cell_type": "code",
   "execution_count": null,
   "metadata": {},
   "outputs": [],
   "source": [
    "gcp = GammaConjugatePrior(PRIOR_P, PRIOR_S, PRIOR_N, PRIOR_V)"
   ]
  },
  {
   "cell_type": "code",
   "execution_count": null,
   "metadata": {},
   "outputs": [],
   "source": [
    "with open('results/03-gamma-conjugate-prior-results.json','r') as f:\n",
    "    GCP_MLE_AB = np.array([x[2] for x in json.load(f)])"
   ]
  },
  {
   "cell_type": "markdown",
   "metadata": {},
   "source": [
    "## Test the capabilities on a synthetic example"
   ]
  },
  {
   "cell_type": "code",
   "execution_count": null,
   "metadata": {},
   "outputs": [],
   "source": [
    "!ls results"
   ]
  },
  {
   "cell_type": "code",
   "execution_count": null,
   "metadata": {},
   "outputs": [],
   "source": [
    "rng = np.random.default_rng()"
   ]
  },
  {
   "cell_type": "code",
   "execution_count": null,
   "metadata": {},
   "outputs": [],
   "source": [
    "M = 1000\n",
    "#M = 10\n",
    "PTEST_MW = [10]\n",
    "BETA  = np.geomspace(2e-2, 15.0, 100)\n",
    "ALPHA = np.geomspace(1, 1000, 101)"
   ]
  },
  {
   "cell_type": "code",
   "execution_count": null,
   "metadata": {},
   "outputs": [],
   "source": [
    "def evaluate_prior_vs_flat(PTEST_MW, N, M, quantile, ALPHA, BETA, prior_p, prior_s, prior_n, prior_v,\n",
    "                           gcp_significance_level=1e-7, seed=289817):\n",
    "    \"\"\"\n",
    "    Evaluate the performance of the prior vs. the flat prior.\n",
    "    \"\"\"\n",
    "    # Find the significant level of alpha and beta:\n",
    "    Z = np.zeros((ALPHA.size, BETA.size))\n",
    "    ag,bg = np.meshgrid(ALPHA, BETA, indexing='ij')\n",
    "    assert Z.shape == ag.shape\n",
    "    Z.flat = gcp.probability(ag.reshape(-1), bg.reshape(-1))\n",
    "    gcp_significance_mask = Z >= gcp_significance_level\n",
    "    \n",
    "    ag,bg = np.meshgrid(ALPHA,BETA,indexing='ij')\n",
    "    res = np.zeros((len(PTEST_MW), ALPHA.size, BETA.size, len(quantile), 2))\n",
    "    rng = np.random.default_rng(seed)\n",
    "    seeds = rng.integers(2**63, size=len(PTEST_MW) * ALPHA.size * BETA.size)\n",
    "    k = -1\n",
    "    for p,PMW in enumerate(PTEST_MW):\n",
    "        print(\"    ---- P =\",PMW,\"MW ----\")\n",
    "        for i,j in product(range(ALPHA.size),range(BETA.size)):\n",
    "            k += 1\n",
    "            print(\"alpha:\",ALPHA[i],\",  beta:\",BETA[j])\n",
    "            if not gcp_significance_mask[i,j]:\n",
    "                res[p,i,j,:,:] = np.NaN\n",
    "                continue\n",
    "            res_ij = cached_call(test_performance_cython, np.array([N]), M, PMW,\n",
    "                                 ALPHA[i], 1.0/BETA[j], quantile,\n",
    "                                 prior_p, prior_s, prior_n, prior_v,\n",
    "                                 seed=seeds[k])[:,0,:,:]\n",
    "            res[p,i,j,:,0] = np.median(res_ij[0,:], axis=1)\n",
    "            res[p,i,j,:,1] = np.median(res_ij[1,:], axis=1)\n",
    "    \n",
    "    return res"
   ]
  },
  {
   "cell_type": "code",
   "execution_count": null,
   "metadata": {},
   "outputs": [],
   "source": [
    "QUANTILES_GRID = np.array([0.01])\n",
    "N = 10"
   ]
  },
  {
   "cell_type": "code",
   "execution_count": null,
   "metadata": {},
   "outputs": [],
   "source": [
    "p_select = PTEST_MW.index(10)"
   ]
  },
  {
   "cell_type": "code",
   "execution_count": null,
   "metadata": {},
   "outputs": [],
   "source": [
    "Nset = np.unique(np.round(np.geomspace(10, 50, 25)).astype(int))\n",
    "M2 = 100000"
   ]
  },
  {
   "cell_type": "code",
   "execution_count": null,
   "metadata": {},
   "outputs": [],
   "source": [
    "USECACHE = True"
   ]
  },
  {
   "cell_type": "code",
   "execution_count": null,
   "metadata": {},
   "outputs": [],
   "source": [
    "if USECACHE:\n",
    "    if Path('intermediate/A3-prior-vs-flat.pickle').is_file():\n",
    "        with open('intermediate/A3-prior-vs-flat.pickle', 'rb') as f:\n",
    "            res = Unpickler(f).load()\n",
    "    else:\n",
    "        res = evaluate_prior_vs_flat(PTEST_MW, N, M, QUANTILES_GRID, ALPHA, BETA, PRIOR_P,\n",
    "                                     PRIOR_S, PRIOR_N, PRIOR_V, 1e-6)"
   ]
  },
  {
   "cell_type": "code",
   "execution_count": null,
   "metadata": {},
   "outputs": [],
   "source": []
  },
  {
   "cell_type": "code",
   "execution_count": null,
   "metadata": {},
   "outputs": [],
   "source": [
    "if USECACHE:\n",
    "    k0 = 7.0\n",
    "    t0 = 1.0/0.1\n",
    "    k1 = 110\n",
    "    t1 = 1.0/0.7\n",
    "    quants = np.array([0.01])\n",
    "    res_with_N_1 = cached_call(test_performance_cython, Nset, M2, PTEST_MW[p_select], k0, t0, quants,\n",
    "                               PRIOR_P, PRIOR_S, PRIOR_N, PRIOR_V, seed=12409035)[:,:,0,:]\n",
    "\n",
    "    res_with_N_2 = cached_call(test_performance_cython, Nset, M2, PTEST_MW[p_select], k1, t1, quants,\n",
    "                               PRIOR_P, PRIOR_S, PRIOR_N, PRIOR_V, seed=187579, nthread=12)[:,:,0,:]\n"
   ]
  },
  {
   "cell_type": "code",
   "execution_count": null,
   "metadata": {},
   "outputs": [],
   "source": [
    "colors = get_cm_colors(vik, 7)\n",
    "color0 = colors[0]\n",
    "color1 = colors[1]\n",
    "color2 = colors[4]\n",
    "color3 = colors[5]"
   ]
  },
  {
   "cell_type": "code",
   "execution_count": null,
   "metadata": {},
   "outputs": [],
   "source": [
    "mask = ~np.isnan(res[p_select,:,:,0,0])\n",
    "\n",
    "color = (  np.abs(res[p_select,:,:,0,0] - PTEST_MW[p_select]*1e6)\n",
    "         - np.abs(res[p_select,:,:,0,1] - PTEST_MW[p_select]*1e6)) / (PTEST_MW[p_select]*1e6)*1e2\n",
    "\n",
    "# Fill the contour field with dummy values to achieve continous contours:\n",
    "ag, bg = np.meshgrid(ALPHA, BETA, indexing='ij')\n",
    "assert ag.shape == color.shape\n",
    "contour = np.abs(res[p_select,:,:,0,1] - PTEST_MW[p_select]*1e6) / (PTEST_MW[p_select]*1e6)*1e2\n",
    "contour[~mask] = contour[mask][KDTree(np.stack((ag[mask], bg[mask]), axis=1))\n",
    "                                  .query(np.stack((ag[~mask], bg[~mask]), axis=1), 1)[1]]\n",
    "contour = gaussian_filter(contour, 1.1)\n",
    "contour[~mask] = np.NaN\n",
    "\n",
    "vmin = color[mask].min()\n",
    "vmax = 100.\n",
    "\n",
    "if vmin > -vmax:\n",
    "    cmap = crop(broc, vmin, vmax, 0.0)\n",
    "else:\n",
    "    cmap = broc\n",
    "    vmax = -vmin\n",
    "\n",
    "    \n",
    "with plt.rc_context({'axes.labelpad': 2.5, 'xtick.major.pad': 1.2, 'ytick.major.pad': 1.2}):\n",
    "    fig = plt.figure(figsize=(5.8, 4.9))\n",
    "\n",
    "    ax0 = fig.add_axes((0,0,1,1), zorder=3, facecolor='none')\n",
    "    ax0.set_xlim(0,1)\n",
    "    ax0.set_ylim(0,1)\n",
    "    ax0.set_axis_off()\n",
    "\n",
    "    #\n",
    "    # The main plot:\n",
    "    #\n",
    "    ax = fig.add_axes((0.09, 0.08, 0.79, 0.915))\n",
    "    cax = fig.add_axes((0.89, 0.2, 0.02, 0.6))\n",
    "    h = ax.pcolormesh(ALPHA, BETA, color.T, vmin=vmin, vmax=vmax, cmap=cmap, rasterized=True)\n",
    "    cntr = ax.contour(ALPHA, BETA, contour.T, levels=[100, 200, 500, 1000, 2000, 5000],\n",
    "                      colors='k', linewidths=1)\n",
    "    ax.set_xscale('log')\n",
    "    ax.set_yscale('log')\n",
    "    h5 = ax.scatter(*GCP_MLE_AB.T, s=5, facecolor=colors[4], edgecolor='k', linewidth=0.5, zorder=3)\n",
    "    cbar = fig.colorbar(h, cax=cax, extend='max')\n",
    "    cbar.set_label('1 % tail quantile change when choosing informed prior,\\nrelative to true $P_H$ (%)')\n",
    "    h4 = ax.clabel(cntr, manual=[(1.3, 0.15), (1.3, 0.25), (1.3, 0.05), (1.3, 0.03), (4, 0.08), (3, 0.03)],\n",
    "                   inline=True, colors='k',\n",
    "                   fmt = \"%d %%\")\n",
    "\n",
    "    for lbl in cbar.ax.get_yticklabels():\n",
    "        lbl.set_rotation(90)\n",
    "    ax.set_xscale('log')\n",
    "    ax.set_yscale('log')\n",
    "    ax.set_xlabel('$\\\\alpha$')\n",
    "    ax.set_ylabel('$\\\\beta$')\n",
    "    \n",
    "    # The locations of the two inlay parameters:\n",
    "    ax.scatter(k1, 1.0/t1, s=20, c='w', marker='x')\n",
    "    ax.scatter(k0, 1.0/t0, s=20, c='k', marker='x')\n",
    "    \n",
    "    \n",
    "    # The two inlays showing the posterior as a function of N:\n",
    "    with plt.rc_context({**{key : 'k' for key in ['axes.labelcolor','axes.edgecolor','xtick.color',\n",
    "                                                  'ytick.color']},\n",
    "                         **{'axes.facecolor' : 'w', 'font.size' : 6}}):\n",
    "        ax1 = fig.add_axes((0.513, 0.135, 0.31, 0.27))\n",
    "        h0 = ax1.plot(Nset, 1e-2*PTEST_MW[p_select] * np.ones_like(Nset), label='True', color='tab:red',\n",
    "                      linewidth=1.0, linestyle=':')\n",
    "        h1 = ax1.plot(Nset, 1e-8*np.median(res_with_N_1[0,:,:], axis=1), label='Informed 1%',\n",
    "                      color=color0, linewidth=0.7)\n",
    "        h2 = ax1.plot(Nset, 1e-8*np.median(res_with_N_1[1,:,:], axis=1), label='Flat 1%', linestyle='-',\n",
    "                      color=color1, linewidth=0.7)\n",
    "        i10 = int(np.argwhere(Nset == N).flat[0])\n",
    "        ax1.plot((N,N), (1e-8*np.median(res_with_N_1[1,i10,:]), 1e-8*np.median(res_with_N_1[0,i10,:])),\n",
    "                 marker='o', linewidth=0.7, markerfacecolor='none', markeredgecolor='k',\n",
    "                 markersize=4, linestyle='-', color='k')\n",
    "        ax1.set_xlabel('$N$', labelpad=1)\n",
    "        twinx = ax1.twinx()\n",
    "        h3 = twinx.plot(Nset,\n",
    "                        100*(np.median(res_with_N_1[0,:,:], axis=1) - np.median(res_with_N_1[1,:,:], axis=1))\n",
    "                             /(np.median(res_with_N_1[1,:,:], axis=1) - 1e6*PTEST_MW[p_select]),\n",
    "                        linestyle='-', color=color3, linewidth=0.7)\n",
    "        for lbl in twinx.get_yticklabels():\n",
    "            lbl.set_rotation(90)\n",
    "            lbl.set_va('center')\n",
    "        j = 0\n",
    "        ax1.tick_params(axis='y', colors='w')\n",
    "        ax1.get_yticklabels()[0].set_color('k')\n",
    "\n",
    "        ax1.set_ylabel('1 % t. q. ($100\\,\\mathrm{MW}$)', color='w')\n",
    "        ax1.set_ylim(0, ax1.get_ylim()[1])\n",
    "        ax1.text(30, 2.9, '(c)', fontsize=8, ha='center', va='center')\n",
    "        twinx.set_ylabel('1 % t. q. change (%)')\n",
    "        ax0.annotate('', (0.24, 0.943), (0.625, 0.57),\n",
    "                  arrowprops=dict(arrowstyle='<|-',\n",
    "                                  shrinkA=7,\n",
    "                                  shrinkB=2,\n",
    "                                  fc=\"k\", ec=\"k\",\n",
    "                                  connectionstyle=\"arc3,rad=0.3\",\n",
    "                                  ),)\n",
    "        \n",
    "        ax2 = fig.add_axes((0.23, 0.765, 0.25, 0.22))\n",
    "        ax2.plot(Nset, 1e-2*PTEST_MW[p_select] * np.ones_like(Nset), label='True', color='tab:red', linewidth=1.0,\n",
    "                 linestyle=':')\n",
    "        ax2.plot(Nset, np.median(1e-8*res_with_N_2[0,:,:], axis=1), label='Informed 1 %', linestyle='-',\n",
    "                 color=color0, linewidth=0.7)\n",
    "        ax2.plot(Nset, np.median(1e-8*res_with_N_2[1,:,:], axis=1), label='Flat 1 %', linestyle='-',\n",
    "                 color=color1, linewidth=0.7)\n",
    "        # Circular markers marking the N=8 level:\n",
    "        ax2.plot((N,N), (1e-8*np.median(res_with_N_2[1,0,:]), 1e-8*np.median(res_with_N_2[0,0,:])),\n",
    "                 marker='o', linewidth=0.7, markerfacecolor='none', markeredgecolor='k',\n",
    "                 markersize=4, linestyle='-', color='k')\n",
    "        ax2.set_ylabel('1 % tail quantile\\n($100\\,\\mathrm{MW}$)')\n",
    "        ax2.set_xlabel('$N$', labelpad=-2.5)\n",
    "        ax2.set_ylim(0, ax2.get_ylim()[1])\n",
    "        ax2.text(49, 3.6, '(b)', fontsize=8, ha='center', va='center')\n",
    "        \n",
    "        # Arrow 2:\n",
    "        ax0.annotate('', (0.525, 0.397), (0.31, 0.30), #(0.545, 0.42), (0.5, 0.595),\n",
    "                  arrowprops=dict(arrowstyle='<|-',\n",
    "                                  shrinkA=7,\n",
    "                                  shrinkB=2,\n",
    "                                  fc=\"k\", ec=\"k\",\n",
    "                                  connectionstyle=\"arc3,rad=-0.3\",\n",
    "                                  ),)\n",
    "\n",
    "        ax.legend(handles=(h0[0], h1[0], h2[0], h3[0], Line2D([],[], color='k', linewidth=1.0), h5),\n",
    "                   labels=('Anomaly', 'Informed 1 %', 'Flat 1 %', '1 % t.q. change\\n(relative to uninformed)',\n",
    "                           '1 % t. q. overestimate of\\nanomaly when using\\nuninformed prior',\n",
    "                           'RGRDC MLE'),\n",
    "                   loc='center right', framealpha=1.0, handlelength=1)\n",
    "    \n",
    "    ax0.text(, 3.6, '(b)', fontsize=8, ha='center', va='center')\n",
    "    \n",
    "    fig.savefig('figures/A3-Prior-Performance-vs-Uninformed-Synthetic-Gamma.pdf')"
   ]
  },
  {
   "cell_type": "markdown",
   "metadata": {},
   "source": [
    "### References\n",
    ">  Lachenbruch, A. H., and Sass, J. H. (1980), Heat flow and energetics of the San Andreas Fault Zone, J. Geophys. Res., 85( B11), 6185– 6222, [doi:10.1029/JB085iB11p06185](https://dx.doi.org/10.1029/JB085iB11p06185). "
   ]
  },
  {
   "cell_type": "markdown",
   "metadata": {},
   "source": [
    "### License\n",
    "```\n",
    "A notebook to evaluate impact that the default gamma conjugate\n",
    "prior has onto the constraining of heat flow anomalies.\n",
    "\n",
    "This file is part of the REHEATFUNQ model.\n",
    "\n",
    "Author: Malte J. Ziebarth (ziebarth@gfz-potsdam.de)\n",
    "\n",
    "Copyright © 2019-2022 Deutsches GeoForschungsZentrum Potsdam,\n",
    "            2022 Malte J. Ziebarth\n",
    "            \n",
    "\n",
    "This program is free software: you can redistribute it and/or modify\n",
    "it under the terms of the GNU General Public License as published by\n",
    "the Free Software Foundation, either version 3 of the License, or\n",
    "(at your option) any later version.\n",
    "\n",
    "This program is distributed in the hope that it will be useful,\n",
    "but WITHOUT ANY WARRANTY; without even the implied warranty of\n",
    "MERCHANTABILITY or FITNESS FOR A PARTICULAR PURPOSE.  See the\n",
    "GNU General Public License for more details.\n",
    "\n",
    "You should have received a copy of the GNU General Public License\n",
    "along with this program.  If not, see <https://www.gnu.org/licenses/>.\n",
    "```"
   ]
  }
 ],
 "metadata": {
  "kernelspec": {
   "display_name": "Python 3 (ipykernel)",
   "language": "python",
   "name": "python3"
  },
  "language_info": {
   "codemirror_mode": {
    "name": "ipython",
    "version": 3
   },
   "file_extension": ".py",
   "mimetype": "text/x-python",
   "name": "python",
   "nbconvert_exporter": "python",
   "pygments_lexer": "ipython3",
   "version": "3.10.8"
  }
 },
 "nbformat": 4,
 "nbformat_minor": 5
}