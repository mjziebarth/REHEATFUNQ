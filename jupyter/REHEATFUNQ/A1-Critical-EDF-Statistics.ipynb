{
 "cells": [
  {
   "cell_type": "markdown",
   "metadata": {},
   "source": [
    "# Critical EDF Statistics\n",
    "In this Jupyter notebook, critical empirical distribution function (EDF) statistics for the investigated two-parameter probability distributions are computed. The statistics used are the Kolmogorov-Smirnov statistic for the Lilliefors test and the Anderson-Darling statistic."
   ]
  },
  {
   "cell_type": "code",
   "execution_count": null,
   "metadata": {},
   "outputs": [],
   "source": [
    "%config InlineBackend.figure_format = 'retina'"
   ]
  },
  {
   "cell_type": "code",
   "execution_count": null,
   "metadata": {},
   "outputs": [],
   "source": [
    "import json\n",
    "import numpy as np\n",
    "from pathlib import Path\n",
    "from cmcrameri.cm import *\n",
    "import matplotlib.pyplot as plt\n",
    "from pdtoolbox.gof import LillieforsTable, AndersonDarlingTable\n",
    "from pdtoolbox import ExtremeValue2Distribution, FrechetDistribution, \\\n",
    "                      GammaDistribution, InverseGammaDistribution, \\\n",
    "                      LogLogisticDistribution, LogNormalDistribution, \\\n",
    "                      NakagamiDistribution, NormalDistribution, \\\n",
    "                      ShiftedGompertzDistribution, WeibullDistribution"
   ]
  },
  {
   "cell_type": "markdown",
   "metadata": {},
   "source": [
    "We work consistently at $\\alpha=0.05$ in this whole notebook."
   ]
  },
  {
   "cell_type": "code",
   "execution_count": null,
   "metadata": {},
   "outputs": [],
   "source": [
    "ALPHA = 0.05"
   ]
  },
  {
   "cell_type": "markdown",
   "metadata": {},
   "source": [
    "Number of Monte-Carlo samples per critical table entry:"
   ]
  },
  {
   "cell_type": "code",
   "execution_count": null,
   "metadata": {},
   "outputs": [],
   "source": [
    "N_MC = 50000"
   ]
  },
  {
   "cell_type": "code",
   "execution_count": null,
   "metadata": {},
   "outputs": [],
   "source": [
    "N = np.arange(10, 120)"
   ]
  },
  {
   "cell_type": "code",
   "execution_count": null,
   "metadata": {},
   "outputs": [],
   "source": [
    "def compute_critical_tables(path, dist, *args, alpha=ALPHA, N=N, Nmc=N_MC, mle_kwargs={}):\n",
    "    path = Path(path)\n",
    "    if path.is_file():\n",
    "        with open(path, 'r') as f:\n",
    "            LA = json.load(f)\n",
    "        return LillieforsTable.from_json(LA[0]), AndersonDarlingTable.from_json(LA[1])\n",
    "    else:\n",
    "        L,A = dist.critical_tables(ALPHA, N, *args, Nmc=N_MC, verbose=True,\n",
    "                                   **mle_kwargs)\n",
    "        with open(path, 'w') as f:\n",
    "            json.dump((L.to_json(), A.to_json()), f)\n",
    "        return L, A"
   ]
  },
  {
   "cell_type": "markdown",
   "metadata": {},
   "source": [
    "## Extreme Value Distribution\n",
    "The following line can be used to remove the previous results for the purpose of recalculation.\n",
    "Convert it to a code cell and run.\n",
    "\n",
    "Otherwise, the table will be loaded from the JSON file."
   ]
  },
  {
   "cell_type": "raw",
   "metadata": {},
   "source": [
    "!rm intermediate/A1-Critical-Extreme2.json"
   ]
  },
  {
   "cell_type": "code",
   "execution_count": null,
   "metadata": {},
   "outputs": [],
   "source": [
    "LE, ADE = compute_critical_tables(\"intermediate/A1-Critical-Extreme2.json\",\n",
    "                                  ExtremeValue2Distribution)"
   ]
  },
  {
   "cell_type": "markdown",
   "metadata": {},
   "source": [
    "## Fréchet Distribution"
   ]
  },
  {
   "cell_type": "code",
   "execution_count": null,
   "metadata": {},
   "outputs": [],
   "source": [
    "LF, ADF = compute_critical_tables(\"intermediate/A1-Critical-Frechet.json\",\n",
    "                                  FrechetDistribution)"
   ]
  },
  {
   "cell_type": "markdown",
   "metadata": {},
   "source": [
    "## Gamma Distribution\n",
    "The gamma distribution has a scale and a shape parameter. While the distribution of the test statistic is invariant to the scale parameter (see Lilliefors (1957)), the shape parameter changes the critical values of the test statistic. Hence, we have to compute critical values of the test statistic for the whole range of the shape parameter that we might later encounter:"
   ]
  },
  {
   "cell_type": "code",
   "execution_count": null,
   "metadata": {},
   "outputs": [],
   "source": [
    "K = np.concatenate([np.geomspace(1.0, 50.0, 10, endpoint=False),\n",
    "                    np.geomspace(50.0, 1e8, 10)])"
   ]
  },
  {
   "cell_type": "raw",
   "metadata": {},
   "source": [
    "!rm intermediate/A1-Critical-Gamma.json"
   ]
  },
  {
   "cell_type": "code",
   "execution_count": null,
   "metadata": {},
   "outputs": [],
   "source": [
    "LG, ADG = compute_critical_tables(\"intermediate/A1-Critical-Gamma.json\",\n",
    "                                  GammaDistribution, K, mle_kwargs={\"kmin\" : 1.0})"
   ]
  },
  {
   "cell_type": "code",
   "execution_count": null,
   "metadata": {},
   "outputs": [],
   "source": [
    "fig = plt.figure()\n",
    "ax = fig.add_subplot(111)\n",
    "ax.pcolormesh(N, K, LG._table.T, cmap=batlow)\n",
    "ax.contour(N, K, LG._table.T, colors='w', linewidths=0.8)\n",
    "ax.set_yscale('log')\n",
    "ax.scatter(*np.meshgrid(N,K), marker='.', facecolor='k', edgecolor='none', s=4)\n",
    "LG._table"
   ]
  },
  {
   "cell_type": "markdown",
   "metadata": {},
   "source": [
    "## Inverse Gamma Distribution"
   ]
  },
  {
   "cell_type": "code",
   "execution_count": null,
   "metadata": {},
   "outputs": [],
   "source": [
    "IG_ALPHA = np.concatenate([np.geomspace(1e-2, 50.0, 10, endpoint=False),\n",
    "                           np.geomspace(50.0, 1e8, 10)])"
   ]
  },
  {
   "cell_type": "code",
   "execution_count": null,
   "metadata": {},
   "outputs": [],
   "source": [
    "LIG, ADIG = compute_critical_tables(\"intermediate/A1-Critical-Inverse-Gamma.json\",\n",
    "                                    InverseGammaDistribution, IG_ALPHA)"
   ]
  },
  {
   "cell_type": "code",
   "execution_count": null,
   "metadata": {},
   "outputs": [],
   "source": [
    "fig = plt.figure()\n",
    "ax = fig.add_subplot(111)\n",
    "ax.pcolormesh(N, IG_ALPHA, LIG._table.T, cmap=batlow)\n",
    "ax.contour(N, IG_ALPHA, LIG._table.T, colors='w', linewidths=0.8)\n",
    "ax.set_yscale('log')\n",
    "ax.scatter(*np.meshgrid(N, IG_ALPHA), marker='.', facecolor='k', edgecolor='none', s=4)"
   ]
  },
  {
   "cell_type": "markdown",
   "metadata": {},
   "source": [
    "## Log-Logistic Distribution"
   ]
  },
  {
   "cell_type": "raw",
   "metadata": {},
   "source": [
    "!rm intermediate/A1-Critical-Log-Logistic.json"
   ]
  },
  {
   "cell_type": "code",
   "execution_count": null,
   "metadata": {},
   "outputs": [],
   "source": [
    "LLL, ADLL = compute_critical_tables(\"intermediate/A1-Critical-Log-Logistic.json\",\n",
    "                                    LogLogisticDistribution)"
   ]
  },
  {
   "cell_type": "markdown",
   "metadata": {},
   "source": [
    "## LogNormalDistribution"
   ]
  },
  {
   "cell_type": "code",
   "execution_count": null,
   "metadata": {},
   "outputs": [],
   "source": [
    "LLN, ADLN = compute_critical_tables(\"intermediate/A1-Critical-Log-Normal.json\",\n",
    "                                    LogNormalDistribution)"
   ]
  },
  {
   "cell_type": "markdown",
   "metadata": {},
   "source": [
    "## Nakagami Distribution"
   ]
  },
  {
   "cell_type": "code",
   "execution_count": null,
   "metadata": {},
   "outputs": [],
   "source": [
    "m = np.concatenate([np.geomspace(0.5, 50.0, 10, endpoint=False),\n",
    "                    np.geomspace(50.0, 1e8, 10)])"
   ]
  },
  {
   "cell_type": "code",
   "execution_count": null,
   "metadata": {},
   "outputs": [],
   "source": [
    "LNAK, ADNAK = compute_critical_tables(\"intermediate/A1-Critical-Nakagami.json\",\n",
    "                                      NakagamiDistribution, m)"
   ]
  },
  {
   "cell_type": "code",
   "execution_count": null,
   "metadata": {},
   "outputs": [],
   "source": [
    "fig = plt.figure()\n",
    "ax = fig.add_subplot(111)\n",
    "ax.pcolormesh(N, m, LNAK._table.T, cmap=batlow)\n",
    "ax.contour(N, m, LNAK._table.T, colors='w', linewidths=0.8)\n",
    "ax.set_yscale('log')\n",
    "ax.scatter(*np.meshgrid(N,m), marker='.', facecolor='k', edgecolor='none', s=4)"
   ]
  },
  {
   "cell_type": "markdown",
   "metadata": {},
   "source": [
    "## Normal Distribution"
   ]
  },
  {
   "cell_type": "code",
   "execution_count": null,
   "metadata": {},
   "outputs": [],
   "source": [
    "LN, ADN = compute_critical_tables(\"intermediate/A1-Critical-Normal.json\",\n",
    "                                  NormalDistribution)"
   ]
  },
  {
   "cell_type": "markdown",
   "metadata": {},
   "source": [
    "## Shifted Gompertz Distribution"
   ]
  },
  {
   "cell_type": "code",
   "execution_count": null,
   "metadata": {},
   "outputs": [],
   "source": [
    "ETA = np.concatenate(([0], np.geomspace(1e-2, 1e8, 30), [1e10, 1e20, 1e40]))"
   ]
  },
  {
   "cell_type": "code",
   "execution_count": null,
   "metadata": {},
   "outputs": [],
   "source": [
    "LSG, ADSG = compute_critical_tables(\"intermediate/A1-Critical-Shifted-Gompertz.json\",\n",
    "                                    ShiftedGompertzDistribution, ETA,\n",
    "                                    mle_kwargs={\"eta_max\" : 1e40})"
   ]
  },
  {
   "cell_type": "code",
   "execution_count": null,
   "metadata": {},
   "outputs": [],
   "source": [
    "fig = plt.figure()\n",
    "ax = fig.add_subplot(111)\n",
    "ax.pcolormesh(N, ETA, LSG._table.T, cmap=batlow)\n",
    "ax.contour(N, ETA, LSG._table.T, colors='w', linewidths=0.8)\n",
    "ax.set_yscale('log')\n",
    "ax.scatter(*np.meshgrid(N,ETA), marker='.', facecolor='k', edgecolor='none', s=4)"
   ]
  },
  {
   "cell_type": "markdown",
   "metadata": {},
   "source": [
    "## Weibull Distribution"
   ]
  },
  {
   "cell_type": "code",
   "execution_count": null,
   "metadata": {},
   "outputs": [],
   "source": [
    "LW, ADW = compute_critical_tables(\"intermediate/A1-Critical-Weibull.json\",\n",
    "                                  WeibullDistribution)"
   ]
  },
  {
   "cell_type": "markdown",
   "metadata": {},
   "source": [
    "### License\n",
    "```\n",
    "A notebook to compute critical tables for goodness-of-fit tests\n",
    "using the pdtoolbox module.\n",
    "\n",
    "This file is part of the REHEATFUNQ model.\n",
    "\n",
    "Author: Malte J. Ziebarth (ziebarth@gfz-potsdam.de)\n",
    "\n",
    "Copyright © 2019-2022 Deutsches GeoForschungsZentrum Potsdam,\n",
    "            2022 Malte J. Ziebarth\n",
    "            \n",
    "\n",
    "This program is free software: you can redistribute it and/or modify\n",
    "it under the terms of the GNU General Public License as published by\n",
    "the Free Software Foundation, either version 3 of the License, or\n",
    "(at your option) any later version.\n",
    "\n",
    "This program is distributed in the hope that it will be useful,\n",
    "but WITHOUT ANY WARRANTY; without even the implied warranty of\n",
    "MERCHANTABILITY or FITNESS FOR A PARTICULAR PURPOSE.  See the\n",
    "GNU General Public License for more details.\n",
    "\n",
    "You should have received a copy of the GNU General Public License\n",
    "along with this program.  If not, see <https://www.gnu.org/licenses/>.\n",
    "```"
   ]
  }
 ],
 "metadata": {
  "kernelspec": {
   "display_name": "Python 3 (ipykernel)",
   "language": "python",
   "name": "python3"
  },
  "language_info": {
   "codemirror_mode": {
    "name": "ipython",
    "version": 3
   },
   "file_extension": ".py",
   "mimetype": "text/x-python",
   "name": "python",
   "nbconvert_exporter": "python",
   "pygments_lexer": "ipython3",
   "version": "3.10.8"
  }
 },
 "nbformat": 4,
 "nbformat_minor": 5
}