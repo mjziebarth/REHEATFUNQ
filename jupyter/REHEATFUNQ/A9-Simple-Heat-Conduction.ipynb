{
 "cells": [
  {
   "cell_type": "markdown",
   "metadata": {},
   "source": [
    "# Spatial Heat Flow Fluctuations from Sources and Conductivity"
   ]
  },
  {
   "cell_type": "code",
   "execution_count": null,
   "metadata": {},
   "outputs": [],
   "source": [
    "import numpy as np\n",
    "from plotconfig import *\n",
    "import scipy.sparse as sp\n",
    "from cmcrameri.cm import *\n",
    "from cache import cached_call\n",
    "import matplotlib.pyplot as plt\n",
    "from cmasher import get_sub_cmap\n",
    "from scipy.optimize import minimize\n",
    "from scipy.sparse.linalg import spsolve\n",
    "from scipy.interpolate import RectBivariateSpline"
   ]
  },
  {
   "cell_type": "markdown",
   "metadata": {},
   "source": [
    "### The Stationary Heat Equation\n",
    "The stationary heat equation reads\n",
    "$$\n",
    "\\partial_t u = \\frac{1}{c\\rho} \\vec{\\nabla} \\big(k\\vec{\\nabla} T\\big)  + \\frac{q}{c\\rho} = 0\n",
    "$$\n",
    "and, simplified:\n",
    "$$\n",
    "\\big(\\vec{\\nabla} k \\big) \\cdot \\big(\\vec{\\nabla} T \\big) + k \\Delta v = - q\n",
    "$$\n",
    "Expressed as an operator on $T$:\n",
    "$$\n",
    "\\underbrace{\\Big(\\big(\\vec{\\nabla} k \\big) \\cdot \\vec{\\nabla} + k \\Delta\\Big)}_A T = - q\n",
    "$$"
   ]
  },
  {
   "cell_type": "markdown",
   "metadata": {},
   "source": [
    "Some parameter ranges:\n",
    "\n",
    "##### Thermal Conductivity\n",
    "Within Upper Rhine Graben: $1.0\\leq k \\leq 4.0$ (Harlé *et al*., 2019)\n",
    "\n",
    "##### Heat Production\n",
    "In cratonic rock (Austrail, Finland, Russia): $0\\leq \\dot{q}_V \\leq 12\\,\\mathrm{µW\\,m}^{-3}$. A good upper limit seems $8\\,\\mathrm{µW\\,m}^{-3}$. (Jaupart & Mareschal, 2004, Fig. 1)"
   ]
  },
  {
   "cell_type": "code",
   "execution_count": null,
   "metadata": {},
   "outputs": [],
   "source": [
    "def generate_design_matrix(x, y, dx, dy, k, periodic):\n",
    "    \n",
    "    nx = x.size\n",
    "    ny = y.size\n",
    "    n = nx*ny\n",
    "    \n",
    "    if ny < 4:\n",
    "        raise RuntimeError(\"Not enough columns (need at least 4)\")\n",
    "    \n",
    "    # Gradient of k:\n",
    "    kxy = k.reshape((ny,nx))\n",
    "    spl = RectBivariateSpline(x, y, kxy.T)\n",
    "    dkdx = spl(x,y,dx=1).T\n",
    "    dkdy = spl(x,y,dy=1).T\n",
    "    dkdx[0,:] = dkdx[-1,:] = dkdx[:,0] = dkdx[:,-1] = 0\n",
    "    dkdy[0,:] = dkdy[-1,:] = dkdy[:,0] = dkdy[:,-1] = 0\n",
    "    assert dkdy.shape == (ny,nx)\n",
    "    if np.all(kxy == k[0]):\n",
    "        dkdy[...] = 0.0\n",
    "        dkdx[...] = 0.0\n",
    "    dkdx = dkdx.reshape(-1)\n",
    "    dkdy = dkdy.reshape(-1)\n",
    "    \n",
    "    A = sp.lil_matrix((n,n))\n",
    "    idx2 = 1.0 / dx**2\n",
    "    idy2 = 1.0 / dy**2\n",
    "    for i in range(n):\n",
    "        # Central difference Laplace operator for diffusion\n",
    "        # term:\n",
    "        if periodic:\n",
    "            A[i,i] = -2*k[i]*(idx2 + idy2)\n",
    "            if i>=1:\n",
    "                A[i,i-1] = k[i]*idx2 - 0.5 * dkdx[i] / dx \n",
    "            if i < n-1:\n",
    "                A[i,i+1] = k[i]*idx2 + 0.5 * dkdx[i] / dx \n",
    "        else:\n",
    "            if (i % nx) >= 1 and (i % nx) < nx-1:\n",
    "                # Have derivative in x direction:\n",
    "                if (i % nx) >= 2 and (i % nx) < nx-2:\n",
    "                    A[i,i-2] =            1/12 * dkdx[i] / dx \n",
    "                    A[i,i-1] = k[i]*idx2 - 2/3 * dkdx[i] / dx \n",
    "                    A[i,i+1] = k[i]*idx2 + 2/3 * dkdx[i] / dx \n",
    "                    A[i,i+2] =           -1/12 * dkdx[i] / dx \n",
    "                else:\n",
    "                    A[i,i-1] = k[i]*idx2 - 0.5 * dkdx[i] / dx \n",
    "                    A[i,i+1] = k[i]*idx2 + 0.5 * dkdx[i] / dx \n",
    "                if i < nx:\n",
    "                    # y is at bottom boundary, where we use second-order\n",
    "                    # accurate forward difference (for the Laplace operator)\n",
    "                    # and third-order forward difference (for gradient):\n",
    "                    #A[i,i]      = - 2*k[i]*(idx2 + idy2) - 11/6 * dkdy[i] / dy\n",
    "                    #A[i,i+nx]   =   5*k[i]*idy2          +    3 * dkdy[i] / dy\n",
    "                    #A[i,i+2*nx] =  -4*k[i]*idy2          -  1.5 * dkdy[i] / dy\n",
    "                    #A[i,i+3*nx] =   1*k[i]*idy2          +  1/3 * dkdy[i] / dy\n",
    "                    # at bottom boundary, keep temperature steady:\n",
    "                    A[i,i] = -1.0\n",
    "                else:\n",
    "                    # y not at bottom boundary.\n",
    "                    # Need only to check if we are at top boundary,\n",
    "                    # where follow up element is kept at 0 temperature.\n",
    "                    # Derivative in x and y direction:\n",
    "                    if i < n-nx:\n",
    "                        if i >= 2*nx and i < n-2*nx:\n",
    "                            A[i,i]      = - 2*k[i]*(idx2 + idy2)\n",
    "                            A[i,i-2*nx] =            1/12 * dkdy[i] / dy \n",
    "                            A[i,i-nx]   = k[i]*idy2 - 2/3 * dkdy[i] / dy \n",
    "                            A[i,i+nx]   = k[i]*idy2 + 2/3 * dkdy[i] / dy \n",
    "                            A[i,i+2*nx] =           -1/12 * dkdy[i] / dy \n",
    "                        else:\n",
    "                            A[i,i]    = - 2*k[i]*(idx2 + idy2)\n",
    "                            A[i,i-nx] = k[i]*idy2 - 0.5 * dkdy[i] / dy \n",
    "                            A[i,i+nx] = k[i]*idy2 + 0.5 * dkdy[i] / dy \n",
    "                    else:\n",
    "                        # If we are at top boundary, need to use a modified formula\n",
    "                        # to obtain the zero temperature on surface boundary condition.\n",
    "                        # We employ a second-order difference scheme (from Cameron Taylor's\n",
    "                        # \"Finite Difference Coefficients Calculator\"):\n",
    "                        #  f'' = −1/12 * f2(-3) + 4/12 * f2(-2) + 1/2 * f2(-1) - 5/3 * f2(0) + 11/12 * f2(1)\n",
    "                        # on the *half* spaced grid ('f2'). Then, the value f2(1) is exactly the boundary\n",
    "                        # with f2(1)=0. Also f2(2)=0. Then we approximate f2(-1) = 0.5*(f2(-2) + f2(0)),\n",
    "                        # f2(-3)=(f2(-4)+f2(-2))/2 and express the result in terms of\n",
    "                        # the original grid spacing:\n",
    "                        #   f'' = (-f(-2) + 13*f(-1) - 34*f(0))/(24*dy**2)\n",
    "                        A[i,i]      = - k[i]*(2*idx2 - 17/12*idy2)\n",
    "                        A[i,i-nx]   = 13/24*k[i]*idy2\n",
    "                        A[i,i-2*nx] = -1/24*k[i]*idy2\n",
    "                        \n",
    "            else:\n",
    "                # x on boundary.\n",
    "                # Derivative only in y direction:\n",
    "                if i < nx:\n",
    "                    # y is also at bottom boundary, where we use second-order\n",
    "                    # accurate forward difference:\n",
    "                    #A[i,i]      = - 2*k[i]*idy2 - 11/6 * dkdy[i] / dy\n",
    "                    #A[i,i+nx]   =   5*k[i]*idy2 +    3 * dkdy[i] / dy\n",
    "                    #A[i,i+2*nx] =  -4*k[i]*idy2 -  1.5 * dkdy[i] / dy\n",
    "                    #A[i,i+3*nx] =   1*k[i]*idy2 +  1/3 * dkdy[i] / dy\n",
    "                    # at bottom boundary, keep temperature steady:\n",
    "                    A[i,i] = -1.0\n",
    "                else:\n",
    "                    # y not at bottom boundary.\n",
    "                    # Need only to check if we are at top boundary,\n",
    "                    # where follow up element is kept at 0 temperature.\n",
    "                    if i < n-nx:\n",
    "                        A[i,i]    = -2*k[i]*idy2\n",
    "                        A[i,i-nx] =    k[i]*idy2 - 0.5 * dkdy[i] / dy\n",
    "                        A[i,i+nx] =    k[i]*idy2 + 0.5 * dkdy[i] / dy\n",
    "                    else:\n",
    "                        # Top boundary, see above.\n",
    "                        A[i,i]      = - 17/12*k[i]*idy2\n",
    "                        A[i,i-nx]   =   13/24*k[i]*idy2\n",
    "                        A[i,i-2*nx] =   -1/24*k[i]*idy2\n",
    "            \n",
    "            \n",
    "    return A.tocsc()"
   ]
  },
  {
   "cell_type": "code",
   "execution_count": null,
   "metadata": {},
   "outputs": [],
   "source": [
    "def surface_heat_flow(T, k, dy):\n",
    "    \"\"\"\n",
    "    Computes the surface heat flow.\n",
    "    \"\"\"\n",
    "    ny = T.shape[0]\n",
    "    nx = T.shape[1]\n",
    "    print(\"(ny,nx):\",(ny,nx))\n",
    "    kxy = k.reshape((ny,nx))\n",
    "    # compute the gradient:\n",
    "    #A[i,i]      = - 2*k[i]*(idx2 + idy2) - 11/6 * dkdy[i] / dy\n",
    "    #A[i,i+nx]   =   5*k[i]*idy2          +    3 * dkdy[i] / dy\n",
    "    #A[i,i+2*nx] =  -4*k[i]*idy2          -  1.5 * dkdy[i] / dy\n",
    "    #A[i,i+3*nx] =   1*k[i]*idy2          +  1/3 * dkdy[i] / dy\n",
    "    grad_T = -1.0/dy * (11/6*T[-1,:] - 3*T[-2,:] + 1.5*T[-3,:] - 1/3*T[-4,:])\n",
    "    \n",
    "    # Then the heat flow:\n",
    "    return kxy[-1,:] * grad_T"
   ]
  },
  {
   "cell_type": "markdown",
   "metadata": {},
   "source": [
    "## Setting up the problem\n",
    "### 1) Grid setup"
   ]
  },
  {
   "cell_type": "code",
   "execution_count": null,
   "metadata": {},
   "outputs": [],
   "source": [
    "nx = 101\n",
    "ny = 78\n",
    "nx_f = 201\n",
    "ny_f = 151\n",
    "\n",
    "XMIN = -80000\n",
    "XMAX = 120000\n",
    "YMIN = -80000\n",
    "YMAX = 0"
   ]
  },
  {
   "cell_type": "markdown",
   "metadata": {},
   "source": [
    "Calculate the derived grid coordinates:"
   ]
  },
  {
   "cell_type": "code",
   "execution_count": null,
   "metadata": {},
   "outputs": [],
   "source": [
    "dx = (XMAX - XMIN) / nx\n",
    "x = XMIN + dx * (np.arange(nx) + 0.5)\n",
    "dy = (YMAX - YMIN) / ny\n",
    "y = YMIN + dy * (np.arange(ny) + 0.5)\n",
    "xbounds = np.linspace(XMIN, XMAX, nx+1)\n",
    "ybounds = np.linspace(YMIN, YMAX, ny+1)\n",
    "\n",
    "print(\"dx:\",dx)\n",
    "print(\"dy:\",dy)\n",
    "\n",
    "X,Y = np.meshgrid(x,y)"
   ]
  },
  {
   "cell_type": "markdown",
   "metadata": {},
   "source": [
    "Empty source term:"
   ]
  },
  {
   "cell_type": "code",
   "execution_count": null,
   "metadata": {},
   "outputs": [],
   "source": [
    "qdot_T = np.zeros((ny,nx))"
   ]
  },
  {
   "cell_type": "markdown",
   "metadata": {},
   "source": [
    "Homogeneous thermal diffusivity. We use the value of Lachenbruch & Sass (1980):\n",
    "$$\n",
    "    K = 2.5\\,\\mathrm{W}\\,\\mathrm{m}^{-1}\\,\\mathrm{K}^{-1}\n",
    "$$"
   ]
  },
  {
   "cell_type": "code",
   "execution_count": null,
   "metadata": {},
   "outputs": [],
   "source": [
    "K = 2.5\n",
    "k = np.full((ny,nx), K)"
   ]
  },
  {
   "cell_type": "markdown",
   "metadata": {},
   "source": [
    "## The Computational Class"
   ]
  },
  {
   "cell_type": "code",
   "execution_count": null,
   "metadata": {},
   "outputs": [],
   "source": [
    "from scipy.interpolate import NearestNDInterpolator"
   ]
  },
  {
   "cell_type": "code",
   "execution_count": null,
   "metadata": {},
   "outputs": [],
   "source": [
    "def generate_k_homogen(X,Y):\n",
    "    return np.full(X.shape, K)"
   ]
  },
  {
   "cell_type": "code",
   "execution_count": null,
   "metadata": {},
   "outputs": [],
   "source": [
    "def generate_k(X, Y):\n",
    "    k = np.empty_like(X)\n",
    "    k[...] = K - 1.1*np.exp(-((X - 6e3)**2    + (Y + 3e3)**2) / (5e3)**2) \\\n",
    "               - 1.1*np.exp(-((X - 25e3)**2 + (Y + 20e3)**2) / (5e3)**2) \\\n",
    "               - 0.7*np.exp(-((X - 30e3)**2 + (Y + 30e3)**2) / (15e3)**2) \\\n",
    "               - 1.1*np.exp(-((X - 35e3)**2 + (Y + 10e3)**2) / (5e3)**2) \\\n",
    "               - 1.1*np.exp(-((X + 20e3)**2 + (Y + 5e3)**2) / (5e3)**2)\n",
    "    \n",
    "    return k"
   ]
  },
  {
   "cell_type": "code",
   "execution_count": null,
   "metadata": {},
   "outputs": [],
   "source": [
    "def _solve_hf_2d_backend(k, T_bot, q_ids, qmax, q0, hf_dest, xmask, dy, A, tol, method='trust-constr', verbose=True):\n",
    "    q = np.zeros_like(k)\n",
    "    q[0,:] = T_bot\n",
    "    if q0 is None:\n",
    "        q0 = np.full(q_ids.size, 0.1*qmax)\n",
    "    elif q0.size != q_ids.size:\n",
    "        q0 = q0.flat[q_ids]\n",
    "        \n",
    "    if hf_dest.size != q_ids.size:\n",
    "        hf_dest = hf_dest[xmask]\n",
    "\n",
    "    solver = sla.factorized(A)\n",
    "    def solve(q):\n",
    "        return solver((-q).reshape(-1)).reshape(k.shape)\n",
    "        \n",
    "    def cost(qi):\n",
    "        # Solve the steady state heat flow:\n",
    "        q.flat[q_ids] = qi\n",
    "        T_steady = solve(q)\n",
    "\n",
    "        hf = surface_heat_flow(T_steady, k, dy)[xmask]\n",
    "        _cost = np.sum((hf-hf_dest)**2) / hf_dest.mean()**2\n",
    "\n",
    "        if verbose:\n",
    "            print(\"cost:\",_cost)\n",
    "    \n",
    "        return _cost\n",
    "    \n",
    "\n",
    "    res = minimize(cost, q0,\n",
    "                   bounds = [(0,qmax)] * q_ids.size,\n",
    "                   method = method,\n",
    "                   tol=tol)\n",
    "    print(\"res:\",res)\n",
    "    q.flat[q_ids] = res.x\n",
    "\n",
    "    T = solve(q)\n",
    "    hf = surface_heat_flow(T, k, dy)\n",
    "\n",
    "    return q, T, hf"
   ]
  },
  {
   "cell_type": "code",
   "execution_count": null,
   "metadata": {},
   "outputs": [],
   "source": [
    "class Grid2D:\n",
    "    def __init__(self, xmin, xmax, ymin, ymax, nx, ny, xmin_use, xmax_use):\n",
    "        self.xmin = xmin\n",
    "        self.xmax = xmax\n",
    "        self.ymin = ymin\n",
    "        self.ymax = ymax\n",
    "        self.nx = nx\n",
    "        self.ny = ny\n",
    "        self.dx = (xmax - xmin) / nx\n",
    "        self.x = xmin + self.dx * (np.arange(nx) + 0.5)\n",
    "        self.dy = (ymax - ymin) / ny\n",
    "        self.y = ymin + self.dy * (np.arange(ny) + 0.5)\n",
    "        #xbounds = np.linspace(XMIN, XMAX, nx_f+1)\n",
    "        #ybounds = np.linspace(YMIN, YMAX, ny_f+1)\n",
    "\n",
    "        print(\"dx:\",self.dx)\n",
    "        print(\"dy:\",self.dy)\n",
    "        # The grids:\n",
    "        self.X, self.Y = np.meshgrid(self.x, self.y)\n",
    "        \n",
    "        # Selecting the indices:\n",
    "        self.xmask = (self.x >= xmin_use) & (self.x <= xmax_use)\n",
    "        self.q_i = np.arange(int(np.argwhere(self.xmask)[0]), int(np.argwhere(self.xmask)[-1])+2)\n",
    "        self.q_j = np.arange(int(0.8*ny), ny-1)\n",
    "        self.q_ids = (self.q_i[np.newaxis,:] + nx * self.q_j[:,np.newaxis]).flatten()\n",
    "        \n",
    "    \n",
    "\n",
    "class HeatFlow2D:\n",
    "    def __init__(self, grid, generate_k):\n",
    "        self.grid = grid\n",
    "        self.k = generate_k(self.grid.X, self.grid.Y)\n",
    "        \n",
    "        self.A = generate_design_matrix(self.grid.x, self.grid.y, self.grid.dx, self.grid.dy,\n",
    "                                        self.k.reshape(-1), False)\n",
    "        self.solver = sla.factorized(self.A)\n",
    "    \n",
    "    def solve(self, q):\n",
    "        return self.solver((-q).reshape(-1)).reshape(self.k.shape)\n",
    "    \n",
    "    def bottom_temperature(self, target_heat_flow):\n",
    "        return target_heat_flow * (self.grid.y.max() - self.grid.y.min()) / K\n",
    "    \n",
    "    def surface_heat_flow(self, T):\n",
    "        return surface_heat_flow(T, self.k, self.grid.dy)\n",
    "\n",
    "    def initial_guess_q0(self, hf2d, q):\n",
    "        x = hf2d.grid.X\n",
    "        y = hf2d.grid.Y\n",
    "        scale = hf2d.grid.x.size / self.grid.x.size\n",
    "        interp = LinearNDInterpolator(np.stack((x.flat, y.flat), axis=1), (scale*q).flat)\n",
    "        z = interp(np.stack((self.grid.X.flat, self.grid.Y.flat), axis=1))\n",
    "        if np.any(np.isnan(z)):\n",
    "            interp = NearestNDInterpolator(np.stack((x.flat, y.flat), axis=1), (scale*q).flat)\n",
    "            mask = np.isnan(z)\n",
    "            z[mask] = interp(np.stack((self.grid.X.flat[mask], self.grid.Y.flat[mask]), axis=1))\n",
    "        mask = np.ones(z.shape, dtype=bool)\n",
    "        mask[self.grid.q_ids] = False\n",
    "        z[mask] = 0.0\n",
    "        z = z.reshape(self.k.shape)\n",
    "        z[0,:] = q[0,0]\n",
    "        return z\n",
    "    \n",
    "    \n",
    "    def solve_for_bottom_temperature(self, T_bot):\n",
    "        q = np.zeros_like(self.k)\n",
    "        q[0,:] = T_bot\n",
    "        return self.solve(q)\n",
    "        \n",
    "    \n",
    "    def solve_for_target_heat_flow(self, hf_dest, T_bot, q0=None, qmax=8e-6, tol=1e-3,\n",
    "                                   method=None, verbose=True):\n",
    "        \n",
    "        return cached_call(_solve_hf_2d_backend, self.k, T_bot, self.grid.q_ids, qmax, q0, hf_dest,\n",
    "                           self.grid.xmask, self.grid.dy, self.A, tol, method=method, verbose=verbose)"
   ]
  },
  {
   "cell_type": "markdown",
   "metadata": {},
   "source": [
    "### 2) Boundary conditions"
   ]
  },
  {
   "cell_type": "code",
   "execution_count": null,
   "metadata": {},
   "outputs": [],
   "source": [
    "grid = Grid2D(XMIN, XMAX, YMIN, YMAX, nx, ny, -50e3, 75e3)"
   ]
  },
  {
   "cell_type": "code",
   "execution_count": null,
   "metadata": {},
   "outputs": [],
   "source": [
    "hf2d = HeatFlow2D(grid, generate_k)"
   ]
  },
  {
   "cell_type": "code",
   "execution_count": null,
   "metadata": {},
   "outputs": [],
   "source": [
    "T_bot = hf2d.bottom_temperature(target_heat_flow=68.3e-3)\n",
    "T_steady = hf2d.solve_for_bottom_temperature(T_bot)\n",
    "hf = hf2d.surface_heat_flow(T_steady)"
   ]
  },
  {
   "cell_type": "code",
   "execution_count": null,
   "metadata": {},
   "outputs": [],
   "source": [
    "# The optimization:\n",
    "hf2d_2 = HeatFlow2D(grid, generate_k_homogen)\n",
    "T_bot2 = hf2d_2.bottom_temperature(target_heat_flow=40e-3)\n",
    "q2, T_steady2, hf2 = hf2d_2.solve_for_target_heat_flow(hf, T_bot2, qmax=8e-6, tol=1e-9,\n",
    "                                                       method='trust-constr')"
   ]
  },
  {
   "cell_type": "code",
   "execution_count": null,
   "metadata": {},
   "outputs": [],
   "source": [
    "fig = plt.figure()\n",
    "ax = fig.add_subplot(111)\n",
    "ax.imshow(q2[1:,:])"
   ]
  },
  {
   "cell_type": "code",
   "execution_count": null,
   "metadata": {},
   "outputs": [],
   "source": [
    "fig = plt.figure()\n",
    "ax = fig.add_subplot(111)\n",
    "ax.imshow(T_steady2[1:,:])"
   ]
  },
  {
   "cell_type": "code",
   "execution_count": null,
   "metadata": {},
   "outputs": [],
   "source": [
    "fig = plt.figure()\n",
    "ax = fig.add_subplot(111)\n",
    "ax.plot(hf)\n",
    "ax.plot(hf2)"
   ]
  },
  {
   "cell_type": "markdown",
   "metadata": {},
   "source": [
    "## Fine Grid:"
   ]
  },
  {
   "cell_type": "code",
   "execution_count": null,
   "metadata": {},
   "outputs": [],
   "source": [
    "grid_f = Grid2D(XMIN, XMAX, YMIN, YMAX, nx_f, ny_f, -50e3, 75e3)\n",
    "hf2d_f = HeatFlow2D(grid_f, generate_k)\n",
    "T_bot_f = hf2d_f.bottom_temperature(target_heat_flow=68.3e-3)\n",
    "T_steady_f = hf2d_f.solve_for_bottom_temperature(T_bot_f)\n",
    "hf_f = hf2d_f.surface_heat_flow(T_steady_f)\n",
    "\n",
    "# The optimization:\n",
    "hf2d_f2 = HeatFlow2D(grid_f, generate_k_homogen)\n",
    "T_bot_f2 = hf2d_f2.bottom_temperature(target_heat_flow=40e-3)\n",
    "q0_f = hf2d_f2.initial_guess_q0(hf2d_2, q2)"
   ]
  },
  {
   "cell_type": "code",
   "execution_count": null,
   "metadata": {},
   "outputs": [],
   "source": [
    "q2_f, T_steady2_f, hf2_f = hf2d_f2.solve_for_target_heat_flow(hf_f, T_bot_f2, qmax=8e-6, tol=1e-9,\n",
    "                                                              method='trust-constr', q0=q0_f)"
   ]
  },
  {
   "cell_type": "code",
   "execution_count": null,
   "metadata": {},
   "outputs": [],
   "source": [
    "fig = plt.figure()\n",
    "ax = fig.add_subplot(111)\n",
    "h = ax.imshow(q0_f[1:,:])\n",
    "fig.colorbar(h)"
   ]
  },
  {
   "cell_type": "code",
   "execution_count": null,
   "metadata": {},
   "outputs": [],
   "source": [
    "fig = plt.figure()\n",
    "ax = fig.add_subplot(111)\n",
    "h = ax.imshow(q2_f[1:,:])\n",
    "fig.colorbar(h)"
   ]
  },
  {
   "cell_type": "code",
   "execution_count": null,
   "metadata": {},
   "outputs": [],
   "source": [
    "fig = plt.figure()\n",
    "ax = fig.add_subplot(111)\n",
    "ax.imshow(T_steady2_f[1:,:])"
   ]
  },
  {
   "cell_type": "code",
   "execution_count": null,
   "metadata": {},
   "outputs": [],
   "source": [
    "fig = plt.figure()\n",
    "ax = fig.add_subplot(111)\n",
    "ax.plot(hf_f)\n",
    "ax.plot(hf2_f)"
   ]
  },
  {
   "cell_type": "markdown",
   "metadata": {},
   "source": [
    "## Solve the heat flow anomaly:"
   ]
  },
  {
   "cell_type": "code",
   "execution_count": null,
   "metadata": {},
   "outputs": [],
   "source": [
    "i_hfa = int(np.argmin(hf2d_f.grid.x**2))\n",
    "j0_hfa = int(np.argwhere(hf2d_f.grid.y > -20e3)[0])\n",
    "j1_hfa = int(np.argwhere(hf2d_f.grid.y > -10e3)[0])"
   ]
  },
  {
   "cell_type": "code",
   "execution_count": null,
   "metadata": {},
   "outputs": [],
   "source": [
    "qfault = np.zeros((hf2d_f.grid.ny, hf2d_f.grid.nx))\n",
    "qfault[j0_hfa:j1_hfa, i_hfa] = 0.98e3 / (2*(max(hf2d_f.grid.y[j1_hfa], hf2d_f.grid.y[j0_hfa])\n",
    "                                            - min(hf2d_f.grid.y[j1_hfa], hf2d_f.grid.y[j0_hfa]) + hf2d_f.grid.dx))\n",
    "\n",
    "\n",
    "T_steady_fault_0 = hf2d_f.solve(qfault)\n",
    "hf_fault_0 = hf2d_f.surface_heat_flow(T_steady_fault_0)\n",
    "\n",
    "\n",
    "T_steady_fault_1 = hf2d_f2.solve(qfault)\n",
    "hf_fault_1 = hf2d_f2.surface_heat_flow(T_steady_fault_1)\n",
    "#T_steady_fault_1 = spsolve(A_opt, (-qfault).flat).reshape(qdot_T.shape)\n",
    "#hf_fault_1 = surface_heat_flow(T_steady_fault_1, k_opt)"
   ]
  },
  {
   "cell_type": "code",
   "execution_count": null,
   "metadata": {},
   "outputs": [],
   "source": [
    "fig = plt.figure()\n",
    "ax = fig.add_subplot(111)\n",
    "ax.plot(hf2d_f.grid.x, hf_fault_0)\n",
    "ax.plot(hf2d_f.grid.x, hf_fault_1)"
   ]
  },
  {
   "cell_type": "code",
   "execution_count": null,
   "metadata": {},
   "outputs": [],
   "source": [
    "hf2d_f.k.min()"
   ]
  },
  {
   "cell_type": "markdown",
   "metadata": {},
   "source": [
    "### Combined plot:"
   ]
  },
  {
   "cell_type": "code",
   "execution_count": null,
   "metadata": {},
   "outputs": [],
   "source": [
    "fig = plt.figure(dpi=300, figsize=(6.975,3.5))\n",
    "#ax_bg = fig.add_axes((0,0,1,1))\n",
    "\n",
    "# Setting 1:\n",
    "ax_set1 = fig.add_axes((0.07, 0.6, 0.45, 0.39))\n",
    "ax_set1.set_aspect('equal')\n",
    "ax_set1.set_xlabel('Lateral offset from fault (km)')\n",
    "ax_set1.set_ylabel('Depth (km)')\n",
    "cset =\\\n",
    "  ax_set1.contour(1e-3*hf2d_f.grid.x, 1e-3*hf2d_f.grid.y, hf2d_f.k, cmap=bamako, linewidths=0.7, levels=4)\n",
    "ax_set1.scatter(1e-3*hf2d_f.grid.x, 1e-3*hf2d_f.grid.y.min()*np.ones_like(hf2d_f.grid.x), marker='.',\n",
    "                edgecolor='none', s=10, c='tab:orange')\n",
    "ax_set1.plot([1e-3*hf2d_f.grid.x[i_hfa]]*2, [1e-3*hf2d_f.grid.y[j0_hfa], 1e-3*hf2d_f.grid.y[j1_hfa]],\n",
    "             color='tab:red')\n",
    "ax_set1.set_ylim(-81,0)\n",
    "ax_set1.axvline(1e-3*xlim[0], color='k', linewidth=0.7, linestyle='-')\n",
    "ax_set1.axvline(1e-3*xlim[1], color='k', linewidth=0.7, linestyle='-')\n",
    "ax_set1.text(-75, -10, '(a)', fontsize=10)\n",
    "ax_set1.text(100, -79, f'T={int(T_bot)} K', va='bottom', ha='center')\n",
    "cset_labels = []\n",
    "for i,l in enumerate(cset.levels[1:-1]):\n",
    "    cset_labels.append(\"%2.1f\" % (l,))\n",
    "cset_handles = cset.legend_elements()[0][1:-1]\n",
    "leg = ax_set1.legend(cset_handles, cset_labels, title='$k(\\\\vec{x})$\\n($\\\\mathrm{W\\,mK}^{-1}$)')\n",
    "plt.setp(leg.get_title(), multialignment='center')\n",
    "\n",
    "# Setting 2:\n",
    "ax_set2 = fig.add_axes((0.07, 0.1, 0.45, 0.39))\n",
    "cax = fig.add_axes((0.16, 0.28, 0.2, 0.03))\n",
    "ax_set2.set_aspect('equal')\n",
    "ax_set2.set_xlabel('Lateral offset from fault (km)')\n",
    "ax_set2.set_ylabel('Depth (km)')\n",
    "ax_set2.set_ylim(ax_set1.get_ylim())\n",
    "ax_set2.set_xlim(ax_set1.get_xlim())\n",
    "h = ax_set2.pcolormesh(1e-3*hf2d_f2.grid.x[hf2d_f2.grid.q_i],\n",
    "                       1e-3*hf2d_f2.grid.y[hf2d_f2.grid.q_j],\n",
    "                       1e6 * q2_f[hf2d_f2.grid.q_j.min():hf2d_f2.grid.q_j.max()+1,\n",
    "                                  hf2d_f2.grid.q_i.min():hf2d_f2.grid.q_i.max()+1],\n",
    "                       shading='nearest', cmap=get_sub_cmap(lajolla_r, 0.0, 0.8),\n",
    "                       rasterized=True)\n",
    "ax_set2.scatter(1e-3*hf2d_f2.grid.x, 1e-3*hf2d_f2.grid.y.min()*np.ones_like(hf2d_f2.grid.x),\n",
    "                marker='.', edgecolor='none', s=10, c='tab:orange')\n",
    "ax_set2.plot([1e-3*hf2d_f2.grid.x[i_hfa]]*2, [1e-3*hf2d_f2.grid.y[j0_hfa], 1e-3*hf2d_f2.grid.y[j1_hfa]],\n",
    "             color='tab:red', label='Fault\\ntrace')\n",
    "ax_set2.axvline(1e-3*xlim[0], color='k', linewidth=0.7, linestyle='-')\n",
    "ax_set2.axvline(1e-3*xlim[1], color='k', linewidth=0.7, linestyle='-')\n",
    "ax_set2.text(-75, -10, '(b)', fontsize=10)\n",
    "ax_set2.text(100, -79, f'T={int(T_bot2)} K', va='bottom', ha='center')\n",
    "ax_set2.legend(loc='center right', bbox_to_anchor=(1.01, 0.5))\n",
    "fig.colorbar(h, cax=cax, orientation='horizontal',\n",
    "             label='Thermal power density\\n($\\mathrm{W\\,m}^{-3}$)')\n",
    "\n",
    "# Heat flow:\n",
    "ax_hf = fig.add_axes((0.615, 0.61, 0.38, 0.33))\n",
    "ax_hf.set_xlim(1e-3*xlim[0], 1e-3*xlim[1])\n",
    "ax_hf.set_title('(c) Undisturbed heat flow')\n",
    "ax_hf.set_xlabel('Lateral offset from fault (km)', labelpad=0.5)\n",
    "ax_hf.set_ylabel('Heat flow ($\\mathrm{mW\\,m}^{-2}$)')\n",
    "h0 = ax_hf.plot(1e-3*hf2d_f.grid.x, 1e3*hf_f, color='#aaaaaa', linewidth=2)\n",
    "h1 = ax_hf.plot(1e-3*hf2d_f2.grid.x, 1e3*hf2_f, color='k', linestyle='--', linewidth=0.7)\n",
    "ax_hf.legend(handles=(h0[0],h1[0]), labels=('(a)','(b)'))\n",
    "\n",
    "# Effect onto the heat flow anomaly:\n",
    "ax_anomaly = fig.add_axes((0.615, 0.096, 0.38, 0.33))\n",
    "ax_anomaly.set_title('(d) Fault-generated anomaly')\n",
    "ax_anomaly.set_xlim(1e-3*xlim[0], 1e-3*xlim[1])\n",
    "ax_anomaly.set_xlabel('Lateral offset from fault (km)', labelpad=0.5)\n",
    "ax_anomaly.set_ylabel('Heat flow ($\\mathrm{mW\\,m}^{-2}$)')\n",
    "h0 = ax_anomaly.plot(1e-3*hf2d_f.grid.x, hf_fault_0, color='#aaaaaa', linewidth=2)\n",
    "h1 = ax_anomaly.plot(1e-3*hf2d_f.grid.x, hf_fault_1, color='k', linestyle='--', linewidth=0.7)\n",
    "ax_anomaly.legend(handles=(h0[0],h1[0]), labels=('(a)','(b)'))\n",
    "fig.savefig('figures/A9-Sketch-HF-Fluctuation-Groups.pdf')"
   ]
  },
  {
   "cell_type": "markdown",
   "metadata": {},
   "source": [
    "### References\n",
    "\n",
    "> Jaupart C, Mareschal J-C (2003) Constraints on crustal heat production\n",
    ">   from heat flow data. In: Rudnick R (ed) Treatise on geochemistry: the crust,\n",
    ">   ch 2, vol 3. Elsevier, Amsterdam, pp 65–84\n",
    ">\n",
    "> Harlé, P., Kushnir, A. R. L., Aichholzer, C., Heap, M. J., Hehn, R., Maurer, V.,\n",
    ">   Baud, P., Richard, A., Genter, A., and Duringer, P.: Heat flow density estimates\n",
    ">   in the Upper Rhine Graben using laboratory measurements of thermal conductivity\n",
    ">   on sedimentary rocks, Geothermal Energy, 7, 18, https://doi.org/10.1186/s40517-019-0154-3,\n",
    ">   2019."
   ]
  },
  {
   "cell_type": "markdown",
   "metadata": {},
   "source": [
    "### License\n",
    "```\n",
    "A notebook to visualize the difference between spatial heat flow\n",
    "fluctuations caused by inhomogeneous source density and inhomogeneous\n",
    "thermal conductivity.\n",
    "\n",
    "This file is part of the REHEATFUNQ model.\n",
    "\n",
    "Author: Malte J. Ziebarth (ziebarth@gfz-potsdam.de)\n",
    "\n",
    "Copyright © 2022 Deutsches GeoForschungsZentrum Potsdam\n",
    "            2022 Malte J. Ziebarth\n",
    "            \n",
    "This program is free software: you can redistribute it and/or modify\n",
    "it under the terms of the GNU General Public License as published by\n",
    "the Free Software Foundation, either version 3 of the License, or\n",
    "(at your option) any later version.\n",
    "\n",
    "This program is distributed in the hope that it will be useful,\n",
    "but WITHOUT ANY WARRANTY; without even the implied warranty of\n",
    "MERCHANTABILITY or FITNESS FOR A PARTICULAR PURPOSE.  See the\n",
    "GNU General Public License for more details.\n",
    "\n",
    "You should have received a copy of the GNU General Public License\n",
    "along with this program.  If not, see <https://www.gnu.org/licenses/>.\n",
    "```"
   ]
  }
 ],
 "metadata": {
  "kernelspec": {
   "display_name": "Python 3 (ipykernel)",
   "language": "python",
   "name": "python3"
  },
  "language_info": {
   "codemirror_mode": {
    "name": "ipython",
    "version": 3
   },
   "file_extension": ".py",
   "mimetype": "text/x-python",
   "name": "python",
   "nbconvert_exporter": "python",
   "pygments_lexer": "ipython3",
   "version": "3.10.8"
  }
 },
 "nbformat": 4,
 "nbformat_minor": 4
}