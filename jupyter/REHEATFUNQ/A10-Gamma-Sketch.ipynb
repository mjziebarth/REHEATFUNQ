{
 "cells": [
  {
   "cell_type": "markdown",
   "metadata": {},
   "source": [
    "# Gamma Distribution Sketches"
   ]
  },
  {
   "cell_type": "code",
   "execution_count": null,
   "metadata": {},
   "outputs": [],
   "source": [
    "import numpy as np\n",
    "from plotconfig import *\n",
    "from cmcrameri.cm import *\n",
    "import matplotlib.pyplot as plt\n",
    "from pdtoolbox import gamma_pdf, gamma_cdf\n",
    "from zeal2022hf import get_cm_colors"
   ]
  },
  {
   "cell_type": "code",
   "execution_count": null,
   "metadata": {},
   "outputs": [],
   "source": [
    "MU = 68.3"
   ]
  },
  {
   "cell_type": "code",
   "execution_count": null,
   "metadata": {},
   "outputs": [],
   "source": [
    "ALPHA = [0.5, 1.0, 2.0, 5.0]\n",
    "BETA = [a / MU for a in ALPHA]"
   ]
  },
  {
   "cell_type": "code",
   "execution_count": null,
   "metadata": {},
   "outputs": [],
   "source": [
    "colors = get_cm_colors(vik, 13)\n",
    "color0 = colors[0]\n",
    "color1 = colors[12]\n",
    "color2 = colors[4]\n",
    "color3 = colors[8]"
   ]
  },
  {
   "cell_type": "code",
   "execution_count": null,
   "metadata": {},
   "outputs": [],
   "source": [
    "qplot = np.linspace(1e-5, 180.0, 200)\n",
    "fig = plt.figure(figsize=(6.5, 2.5))\n",
    "# ax_bg = fig.add_axes((0,0,1,1))\n",
    "ax = fig.add_axes((0.075, 0.17, 0.42, 0.81))\n",
    "ax.set_ylim(0.0, 1.8)\n",
    "ax.set_xlim(0.0, 180.0)\n",
    "beta_unit = '10^{-2}\\\\,\\\\mathrm{mW}^{-1}\\\\,\\\\mathrm{m}^{-2}'\n",
    "for i,(a,b) in enumerate(zip(ALPHA, BETA)):\n",
    "    ax.plot(qplot, 100*gamma_pdf(qplot, a, 1/b), color=[color3, color0, color1, color2][i],\n",
    "            linewidth=[1.1, 1.0, 1.0, 1.2][i],\n",
    "            label=('$\\\\alpha=%1d$, $\\\\beta=%.1f$' % (a,100*b)) if i > 0 else\n",
    "                  ('$\\\\alpha=%1.1f$, $\\\\beta=%.1f$' % (a,100*b)),\n",
    "            linestyle='--' if i == 0 else '-')\n",
    "\n",
    "ax.legend(title='$[\\\\beta]='+beta_unit+'$')\n",
    "ax.set_xlabel('Heat flow $q$ ($\\mathrm{mW\\,m}^{-2}$)')\n",
    "ax.set_ylabel('PDF ($\\mathrm{m}^2\\mathrm{mW}^{-1}$)')\n",
    "ax.text(10, 1.7, '(a)')\n",
    "\n",
    "ax = fig.add_axes((0.615, 0.17, 0.38, 0.81))\n",
    "ax.set_ylim(1e-15, 1.0)\n",
    "ax.set_xlim(1e-5, 180.0)\n",
    "ax.set_xscale('log')\n",
    "ax.set_yscale('log')\n",
    "qplot= np.geomspace(1e-5, 180.0, 200)\n",
    "for i,(a,b) in enumerate(zip(ALPHA, BETA)):\n",
    "    ax.plot(qplot, gamma_cdf(qplot, a, 1/b), color=[color3, color0, color1, color2][i],\n",
    "            linewidth=[1.1, 1.0, 1.0, 1.2][i],\n",
    "            label=('$\\\\alpha=%1d$, $\\\\beta=%.1f\\\\times10^{-2}$' % (a,100*b)) if i > 0 else\n",
    "                  ('$\\\\alpha=%1.1f$, $\\\\beta=%.1f\\\\times10^{-2}$' % (a,100*b)),\n",
    "            linestyle='--' if i == 0 else '-')\n",
    "ax.plot(qplot, 0.5*qplot, linestyle='--', color='k', linewidth=0.5, label='$\\\\frac{1}{2}q$')\n",
    "    \n",
    "    \n",
    "ax.legend(title='$[\\\\beta]='+beta_unit+'$')\n",
    "ax.set_xlabel('Heat flow $q$ ($\\mathrm{mW\\,m}^{-2}$)')\n",
    "ax.set_ylabel('CDF')\n",
    "ax.text(1.3e-5, 0.1, '(b)')\n",
    "\n",
    "\n",
    "fig.savefig('figures/A10-Gamma-Sketch.pdf')"
   ]
  },
  {
   "cell_type": "markdown",
   "metadata": {},
   "source": [
    "### License\n",
    "```\n",
    "A notebook to plot some gamma distributions.\n",
    "\n",
    "This file is part of the REHEATFUNQ model.\n",
    "\n",
    "Author: Malte J. Ziebarth (ziebarth@gfz-potsdam.de)\n",
    "\n",
    "Copyright © 2022 Malte J. Ziebarth\n",
    "            \n",
    "This program is free software: you can redistribute it and/or modify\n",
    "it under the terms of the GNU General Public License as published by\n",
    "the Free Software Foundation, either version 3 of the License, or\n",
    "(at your option) any later version.\n",
    "\n",
    "This program is distributed in the hope that it will be useful,\n",
    "but WITHOUT ANY WARRANTY; without even the implied warranty of\n",
    "MERCHANTABILITY or FITNESS FOR A PARTICULAR PURPOSE.  See the\n",
    "GNU General Public License for more details.\n",
    "\n",
    "You should have received a copy of the GNU General Public License\n",
    "along with this program.  If not, see <https://www.gnu.org/licenses/>.\n",
    "```"
   ]
  }
 ],
 "metadata": {
  "kernelspec": {
   "display_name": "Python 3 (ipykernel)",
   "language": "python",
   "name": "python3"
  },
  "language_info": {
   "codemirror_mode": {
    "name": "ipython",
    "version": 3
   },
   "file_extension": ".py",
   "mimetype": "text/x-python",
   "name": "python",
   "nbconvert_exporter": "python",
   "pygments_lexer": "ipython3",
   "version": "3.10.9"
  }
 },
 "nbformat": 4,
 "nbformat_minor": 5
}