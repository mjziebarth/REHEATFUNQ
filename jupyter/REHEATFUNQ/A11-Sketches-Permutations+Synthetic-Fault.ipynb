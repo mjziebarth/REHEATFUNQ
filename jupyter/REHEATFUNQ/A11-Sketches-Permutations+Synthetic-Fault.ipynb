{
 "cells": [
  {
   "cell_type": "markdown",
   "metadata": {},
   "source": [
    "# Generating Permutations and the Synthetic Fault\n",
    "This notebook creates a sketch illustrating the permutations of data points\n",
    "violating the $d_\\mathrm{min}$ criterion."
   ]
  },
  {
   "cell_type": "code",
   "execution_count": null,
   "metadata": {},
   "outputs": [],
   "source": [
    "import numpy as np\n",
    "from plotconfig import *\n",
    "from cmcrameri.cm import *\n",
    "import matplotlib.pyplot as plt\n",
    "from pdtoolbox import gamma_cdf, gamma_mle\n",
    "from zeal2022hf import get_cm_colors\n",
    "from matplotlib.patches import Circle, Arrow\n",
    "from matplotlib.collections import LineCollection"
   ]
  },
  {
   "cell_type": "code",
   "execution_count": null,
   "metadata": {},
   "outputs": [],
   "source": [
    "rng = np.random.default_rng(25499783122)\n",
    "xy = 160. * (rng.random(size=(10,2)) - 0.5)"
   ]
  },
  {
   "cell_type": "code",
   "execution_count": null,
   "metadata": {},
   "outputs": [],
   "source": [
    "pairs = []\n",
    "for i in range(xy.shape[0]):\n",
    "    for j in range(i+1,xy.shape[0]):\n",
    "        d = np.sqrt(((xy[i] - xy[j])**2).sum())\n",
    "        if d <= 20.0:\n",
    "            pairs.append((i,j))\n",
    "print(pairs)"
   ]
  },
  {
   "cell_type": "code",
   "execution_count": null,
   "metadata": {},
   "outputs": [],
   "source": [
    "colors = get_cm_colors(vik, 9)\n",
    "color0 = colors[0]\n",
    "color1 = colors[3]\n",
    "color2 = colors[8]\n",
    "color3 = colors[5]"
   ]
  },
  {
   "cell_type": "code",
   "execution_count": null,
   "metadata": {},
   "outputs": [],
   "source": [
    "fig = plt.figure(figsize=(5.3, 1.2))\n",
    "ax_bg = fig.add_axes((0,0,1,1))\n",
    "ax_bg.set_axis_off()\n",
    "ax_bg.add_patch(Arrow(0.18, 0.4, 0.06, 0.0, width=0.2, color='tab:gray'))\n",
    "width = 0.75 * 0.22\n",
    "ax = fig.add_axes((0.005, 0.01, width, 0.8))\n",
    "ax.scatter(*xy.T, marker='.', edgecolor='none', color=color0)\n",
    "ax.set_aspect('equal')\n",
    "ax.set_title('(a)')\n",
    "for i in range(xy.shape[0]):\n",
    "    ax.add_patch(Circle(xy[i], 20.0, facecolor='none', edgecolor='k', linewidth=0.5))\n",
    "for pair in pairs:\n",
    "    ax.plot(*xy[pair,:].T, color='k', linewidth=1.0, zorder=0)\n",
    "ax.set_xticks([])\n",
    "ax.set_yticks([])\n",
    "xlim = ax.get_xlim()\n",
    "ylim = ax.get_ylim()\n",
    "\n",
    "# Now the four combinations:\n",
    "Dy = -100.0\n",
    "x = -80.0\n",
    "k = 0\n",
    "x0 = 0.25\n",
    "dx = 0.75 * 0.25\n",
    "for i in pairs[0]:\n",
    "    for j in pairs[1]:\n",
    "        mask = np.ones(xy.shape[0],dtype=bool)\n",
    "        mask[i] = False\n",
    "        mask[j] = False\n",
    "        ax = fig.add_axes((x0+k*dx, 0.01, width, 0.8))\n",
    "        ax.set_title(['(b)', '(c)', '(d)','(e)'][k])\n",
    "        ax.set_aspect('equal')\n",
    "        ax.scatter(*xy[mask,:].T, marker='.', edgecolor='none', color=color0)\n",
    "        ax.scatter(*xy[~mask,:].T, color=color1, zorder=0, marker='.', edgecolor='none')\n",
    "        for pair in pairs:\n",
    "            ax.plot(*xy[pair,:].T, color='k', linewidth=1.0, zorder=-1)\n",
    "        ax.set_xlim(xlim)\n",
    "        ax.set_ylim(ylim)\n",
    "        ax.set_xticks([])\n",
    "        ax.set_yticks([])\n",
    "        \n",
    "        k += 1\n",
    "\n",
    "fig.savefig('figures/A11-Sketch-Data-d_min-Permutation.pdf')"
   ]
  },
  {
   "cell_type": "markdown",
   "metadata": {},
   "source": [
    "## Synthetic Fault"
   ]
  },
  {
   "cell_type": "code",
   "execution_count": null,
   "metadata": {},
   "outputs": [],
   "source": [
    "ar = np.deg2rad(-15.0)\n",
    "car = np.cos(ar)\n",
    "sar = np.sin(ar)\n",
    "xf = 80 * sar * np.array((1, -1))\n",
    "yf = 80 * car * np.array((1, -1))\n",
    "M = np.array(((car, -sar), (sar, car)))"
   ]
  },
  {
   "cell_type": "code",
   "execution_count": null,
   "metadata": {},
   "outputs": [],
   "source": [
    "rng = np.random.default_rng(3892989)\n",
    "xy = 160 * (rng.random((30,2)) - 0.5)\n",
    "xy = xy[np.sum(xy**2, axis=1) < 80**2]\n",
    "xy_projected = xy.copy()\n",
    "xy_projected[:,0] = 0.0"
   ]
  },
  {
   "cell_type": "code",
   "execution_count": null,
   "metadata": {},
   "outputs": [],
   "source": [
    "fig = plt.figure(figsize=(2.7,2.7))\n",
    "ax = fig.add_axes((0,0,1,1))\n",
    "ax.set_aspect('equal')\n",
    "ax.set_axis_off()\n",
    "ax.set_xlim(-100, 100)\n",
    "ax.set_ylim(-100,100)\n",
    "ax.plot(xf,yf, color=color0, linewidth=2)\n",
    "ax.scatter(*(xy @ M).T, marker='.', edgecolor='none', facecolor=color2)\n",
    "ax.add_collection(LineCollection([(xy_from, xy_to) for xy_from, xy_to in zip(xy @ M, xy_projected @ M)],\n",
    "                                 color=color3, zorder=0, linewidth=0.8, linestyle='--'))\n",
    "ax.add_artist(Circle((0,0), 80.0, facecolor='none', edgecolor='k', linewidth=0.8))\n",
    "ax.text(0.13*xf[0]-0.09*yf[0], 0.13*yf[0]+0.09*xf[0], 'Fault trace', rotation=-90-np.rad2deg(ar),\n",
    "        ha='center', va='center')\n",
    "ax.text(0.36*xf[0]+0.6*yf[0], 0.36*yf[0]-0.6*xf[0], 'Distance\\nto fault', rotation=-np.rad2deg(ar),\n",
    "        ha='center', va='center')\n",
    "ax.annotate('Data point', (xy @ M)[1], xytext=(30, 0.0),\n",
    "            arrowprops = {\n",
    "                'arrowstyle' : '-|>',\n",
    "                'connectionstyle' : 'arc3,rad=0.2',\n",
    "                'linewidth' : 0.8,\n",
    "                'facecolor' : 'k'\n",
    "            })\n",
    "fig.savefig('figures/A11-Sketch-Synthetic-Fault.pdf')"
   ]
  },
  {
   "cell_type": "markdown",
   "metadata": {},
   "source": [
    "## The Illustration of the Bayesian Anomaly Quantification"
   ]
  },
  {
   "cell_type": "code",
   "execution_count": null,
   "metadata": {},
   "outputs": [],
   "source": [
    "alpha = 180.0\n",
    "beta = alpha / 68.3\n",
    "N = 20\n",
    "d = 18e3\n",
    "P_ano = 140e6\n",
    "Q = 2 * P_ano / (d * 160e3)"
   ]
  },
  {
   "cell_type": "code",
   "execution_count": null,
   "metadata": {},
   "outputs": [],
   "source": [
    "rng = np.random.default_rng(291983)\n",
    "q = rng.gamma(alpha, size=N) / beta\n",
    "x = 160e3 * (rng.random(N) - 0.5)"
   ]
  },
  {
   "cell_type": "code",
   "execution_count": null,
   "metadata": {},
   "outputs": [],
   "source": [
    "def anomaly(x):\n",
    "    x_ = np.atleast_1d(x)\n",
    "    z = np.zeros_like(x_)\n",
    "    mask = x != 0\n",
    "    z[mask] = Q / np.pi * (1.0 - x_[mask]/d * np.arctan(d/x_[mask]))\n",
    "    z[~mask] = Q / np.pi\n",
    "    if x_.size == 1:\n",
    "        return float(z)\n",
    "    return z"
   ]
  },
  {
   "cell_type": "code",
   "execution_count": null,
   "metadata": {},
   "outputs": [],
   "source": [
    "dq = 1e3 * anomaly(x)"
   ]
  },
  {
   "cell_type": "code",
   "execution_count": null,
   "metadata": {},
   "outputs": [],
   "source": [
    "from reheatfunq import HeatFlowAnomalyPosterior\n",
    "from reheatfunq.anomaly import AnomalyLS1980\n",
    "from reheatfunq import GammaConjugatePrior"
   ]
  },
  {
   "cell_type": "code",
   "execution_count": null,
   "metadata": {},
   "outputs": [],
   "source": [
    "gcp = GammaConjugatePrior(1.0, 0.0, 0.0, 0.0)"
   ]
  },
  {
   "cell_type": "code",
   "execution_count": null,
   "metadata": {},
   "outputs": [],
   "source": [
    "ano = AnomalyLS1980(np.array([(0.0, 80e3), (0.0, -80e3)]), d)\n",
    "hfap = HeatFlowAnomalyPosterior(q+dq, x, np.zeros_like(x), ano, gcp, dmin=0.0)\n",
    "P_H = np.linspace(0.0, hfap.PHmax, 200)\n",
    "y = hfap.pdf(P_H)"
   ]
  },
  {
   "cell_type": "code",
   "execution_count": null,
   "metadata": {},
   "outputs": [],
   "source": [
    "fig = plt.figure(figsize=(6.3,1.7))\n",
    "#ax_bg = fig.add_axes((0,0,1,1))\n",
    "ax0 = fig.add_axes((0.058, 0.2, 0.24, 0.77))\n",
    "h0_0 = ax0.scatter(1e-3*x, q, marker='v', edgecolor='none', color=color1)\n",
    "l0 = 'Heat flow\\n(undisturbed)'\n",
    "h1_0 = ax0.scatter(1e-3*x, q+dq, color=color0, edgecolor='none', s=20)\n",
    "l1 = 'Heat flow\\nwith anomaly'\n",
    "ax0.add_collection(LineCollection([((1e-3*x, q0), (1e-3*x, q1)) for x,q0,q1 in zip(x, q, q+dq)],\n",
    "                                  color=color1, linewidth=1.0, zorder=0, linestyle=':'))\n",
    "twax = ax0.twinx()\n",
    "xplot = np.linspace(-80e3, 80e3, 101)\n",
    "ax0.set_ylim(ax0.get_ylim())\n",
    "h2 = twax.plot(1e-3*xplot, 1e3 * anomaly(xplot), color=color2, linewidth=1.0, linestyle='--')\n",
    "l2 = 'Anomaly'\n",
    "twax.set_ylim(0.0, ax0.get_ylim()[1] - ax0.get_ylim()[0])\n",
    "ax0.set_xlabel('Lateral distance to fault (km)', labelpad=0.4);\n",
    "ax0.set_ylabel('Heat flow ($\\mathrm{mW\\,m}^{-2}$)', labelpad=0.2)\n",
    "twax.set_ylabel('Anomaly ($\\mathrm{mW\\,m}^{-2}$)', labelpad=0.2)\n",
    "ax0.text(-84, 87, \"(a)\")\n",
    "\n",
    "ax1 = fig.add_axes((0.435, 0.2, 0.24, 0.77))\n",
    "h0_1 = ax1.step(np.concatenate(([q.min()], np.sort(q))),\n",
    "                [0] + list((np.arange(q.size)+1)/q.size), color=color1, linewidth=1.0,\n",
    "                where='post')\n",
    "qplot = np.linspace(q.min(), (q+dq).max(), 100)\n",
    "ax1.plot(qplot, gamma_cdf(qplot, *gamma_mle(q)), linewidth=1.0, linestyle=':',\n",
    "         color=color1)\n",
    "\n",
    "h1_1 = ax1.step(np.concatenate(([(q+dq).min()], np.sort(q+dq))),\n",
    "                [0] + list((np.arange(q.size)+1)/q.size), color=color0, linewidth=0.8,\n",
    "                where='post')\n",
    "ax1.plot(qplot, gamma_cdf(qplot, *gamma_mle(q+dq)), linewidth=1.0, linestyle=':',\n",
    "         color=color0)\n",
    "ax1.legend([ax1.plot([],[],linewidth=1.0, linestyle=':', color='k')[0]], ['MLE'])\n",
    "\n",
    "ax1.set_ylim(0,1)\n",
    "ax1.set_ylabel('CDF', labelpad=0.2)\n",
    "ax1.set_xlabel('Heat flow ($\\mathrm{mW\\,m}^{-2}$)', labelpad=0.4)\n",
    "ax1.text(58, 0.9, \"(b)\")\n",
    "\n",
    "\n",
    "ax2 = fig.add_axes((0.755, 0.2, 0.24, 0.77))\n",
    "h3 = ax2.plot(1e-6*P_H, 1e9*y, color=color0)\n",
    "l3 = 'Posterior $P_H$\\nestimate'\n",
    "ax2.set_xlim(0.0, 1e-6*P_H.max())\n",
    "ax2.set_ylim(0.0, 1e9 * 1.03*y.max())\n",
    "ax2.axvline(1e-6*P_ano, color=color2, linestyle='--', linewidth=1.0)\n",
    "ax2.set_xlabel('Frictional power $P_H$ (MW)', labelpad=0.4)\n",
    "ax2.set_ylabel('Posterior density ($\\\\mathrm{GW}^{-1}$)', labelpad=0.2)\n",
    "ax2.legend(((h0_0, h0_1[0]), (h1_0, h1_1[0]), h2[0], h3[0]), (l0, l1, l2, l3), fontsize='small',\n",
    "           title='All panels')\n",
    "ax2.text(7, 7.8, \"(c)\")\n",
    "\n",
    "\n",
    "fig.savefig(\"figures/A11-Bayesian-Anomaly-Quantification.pdf\")"
   ]
  },
  {
   "cell_type": "markdown",
   "metadata": {},
   "source": [
    "### License\n",
    "```\n",
    "A notebook to sketch the d_min permutations and the synthetic fault\n",
    "heat flow data set configuration.\n",
    "\n",
    "This file is part of the REHEATFUNQ model.\n",
    "\n",
    "Author: Malte J. Ziebarth (ziebarth@gfz-potsdam.de)\n",
    "\n",
    "Copyright © 2022 Malte J. Ziebarth\n",
    "            \n",
    "\n",
    "This program is free software: you can redistribute it and/or modify\n",
    "it under the terms of the GNU General Public License as published by\n",
    "the Free Software Foundation, either version 3 of the License, or\n",
    "(at your option) any later version.\n",
    "\n",
    "This program is distributed in the hope that it will be useful,\n",
    "but WITHOUT ANY WARRANTY; without even the implied warranty of\n",
    "MERCHANTABILITY or FITNESS FOR A PARTICULAR PURPOSE.  See the\n",
    "GNU General Public License for more details.\n",
    "\n",
    "You should have received a copy of the GNU General Public License\n",
    "along with this program.  If not, see <https://www.gnu.org/licenses/>.\n",
    "```"
   ]
  }
 ],
 "metadata": {
  "kernelspec": {
   "display_name": "Python 3 (ipykernel)",
   "language": "python",
   "name": "python3"
  },
  "language_info": {
   "codemirror_mode": {
    "name": "ipython",
    "version": 3
   },
   "file_extension": ".py",
   "mimetype": "text/x-python",
   "name": "python",
   "nbconvert_exporter": "python",
   "pygments_lexer": "ipython3",
   "version": "3.10.8"
  }
 },
 "nbformat": 4,
 "nbformat_minor": 5
}