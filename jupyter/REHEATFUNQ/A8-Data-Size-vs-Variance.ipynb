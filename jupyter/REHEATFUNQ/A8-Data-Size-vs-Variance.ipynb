{
 "cells": [
  {
   "cell_type": "markdown",
   "metadata": {},
   "source": [
    "# Data Set Size vs. Regional Scatter\n",
    "This notebook illustrates the difference between two possibilities of increasing\n",
    "precision of the anomaly quantification: more data and less uncertainty (presumably\n",
    "by modeling and removing effects)."
   ]
  },
  {
   "cell_type": "code",
   "execution_count": null,
   "metadata": {},
   "outputs": [],
   "source": [
    "import numpy as np\n",
    "from plotconfig import *\n",
    "from cmcrameri.cm import *\n",
    "from cache import cached_call\n",
    "import matplotlib.pyplot as plt\n",
    "from zeal2022hf import get_cm_colors\n",
    "from pdtoolbox import gamma_pdf, normal_pdf\n",
    "from reheatfunq.regional import default_prior\n",
    "from reheatfunq.regional.backend import gamma_mle\n",
    "from reheatfunq import HeatFlowAnomalyPosterior, AnomalyLS1980, GammaConjugatePrior"
   ]
  },
  {
   "cell_type": "code",
   "execution_count": null,
   "metadata": {},
   "outputs": [],
   "source": [
    "MU = 75.0"
   ]
  },
  {
   "cell_type": "code",
   "execution_count": null,
   "metadata": {},
   "outputs": [],
   "source": [
    "AnoPH = 10e6"
   ]
  },
  {
   "cell_type": "code",
   "execution_count": null,
   "metadata": {},
   "outputs": [],
   "source": [
    "ano = AnomalyLS1980(np.array([(0, -80e3), (0, 80e3)]), 14e3)"
   ]
  },
  {
   "cell_type": "code",
   "execution_count": null,
   "metadata": {},
   "outputs": [],
   "source": [
    "PSNV = np.loadtxt('results/05-GCP-Parameters.txt',delimiter=',')"
   ]
  },
  {
   "cell_type": "code",
   "execution_count": null,
   "metadata": {},
   "outputs": [],
   "source": [
    "def gamma_parameters(mu, sigma):\n",
    "    theta = (sigma * sigma) / mu\n",
    "    k = mu / theta\n",
    "    return k, theta"
   ]
  },
  {
   "cell_type": "code",
   "execution_count": null,
   "metadata": {},
   "outputs": [],
   "source": [
    "def generate_regional_sample(N, sigma, rng, ano, PH=AnoPH, mu=MU):\n",
    "    # Parameter combination to achieve mu and sigma:\n",
    "    k,theta = gamma_parameters(mu, sigma)\n",
    "    Q = np.sort(rng.gamma(k, size=N) * theta)\n",
    "    x = 160e3 * (rng.random(size=N) - 0.5)\n",
    "    y = 160e3 * (rng.random(size=N) - 0.5)\n",
    "    xy = np.zeros((x.size,2))\n",
    "    xy[:,0] = x\n",
    "    xy[:,1] = y\n",
    "    q = Q +  1e3*AnoPH*ano(xy)\n",
    "    return xy, q"
   ]
  },
  {
   "cell_type": "code",
   "execution_count": null,
   "metadata": {},
   "outputs": [],
   "source": [
    "def analyze_regional_sample(xy, q, ano, gcp, dmin=0.0):\n",
    "    hfp = HeatFlowAnomalyPosterior(q, xy[:,0], xy[:,1], ano, gcp, dmin)\n",
    "    return hfp.tail_quantiles([0.9, 0.5, 0.1])"
   ]
  },
  {
   "cell_type": "code",
   "execution_count": null,
   "metadata": {},
   "outputs": [],
   "source": [
    "def monte_carlo(N, sigma, M, dmin=0.0, ano=ano, seed=29189, p=PSNV[0], s=PSNV[1], n=PSNV[2], v=PSNV[3],\n",
    "                PH=AnoPH, mu=MU):\n",
    "    rng = np.random.default_rng(seed)\n",
    "    gcp = GammaConjugatePrior(p, s, n, v)\n",
    "    res = np.empty((M,3))\n",
    "    for i in range(M):\n",
    "        xy, q = generate_regional_sample(N, sigma, rng, ano, PH, mu)\n",
    "        res[i] = analyze_regional_sample(xy, q, ano, gcp, dmin)\n",
    "    \n",
    "    return res"
   ]
  },
  {
   "cell_type": "markdown",
   "metadata": {},
   "source": [
    "Two example distribution. We start from the blue, wider one, parameterized by `k0` and `theta0`."
   ]
  },
  {
   "cell_type": "code",
   "execution_count": null,
   "metadata": {},
   "outputs": [],
   "source": [
    "k0, theta0 = gamma_parameters(MU, 20.0)\n",
    "k1, theta1 = gamma_parameters(MU, 3.0)"
   ]
  },
  {
   "cell_type": "code",
   "execution_count": null,
   "metadata": {},
   "outputs": [],
   "source": [
    "fig = plt.figure()\n",
    "ax = fig.add_subplot(111)\n",
    "qplot = np.linspace(1e-3, 180.0, 500)\n",
    "yplot = gamma_pdf(qplot, k0, theta0)\n",
    "ax.plot(qplot, yplot)\n",
    "yplot = gamma_pdf(qplot, k1, theta1)\n",
    "ax.plot(qplot, yplot)\n",
    "ax.set_ylim(0, ax.get_ylim()[1])"
   ]
  },
  {
   "cell_type": "markdown",
   "metadata": {},
   "source": [
    "Perform simulations:"
   ]
  },
  {
   "cell_type": "code",
   "execution_count": null,
   "metadata": {},
   "outputs": [],
   "source": [
    "SIGMA = np.linspace(1, 20, 20)\n",
    "SIGMA = np.concatenate(([1e-2],SIGMA))\n",
    "N = np.round(np.geomspace(20,1000, 20)).astype(int)\n",
    "N_MC = 200"
   ]
  },
  {
   "cell_type": "code",
   "execution_count": null,
   "metadata": {},
   "outputs": [],
   "source": [
    "res_SIGMA = np.empty((SIGMA.size, N_MC, 3))\n",
    "res_N = np.empty((N.size, N_MC, 3))"
   ]
  },
  {
   "cell_type": "code",
   "execution_count": null,
   "metadata": {},
   "outputs": [],
   "source": [
    "for i,s in enumerate(SIGMA):\n",
    "    print(i,\"/\",len(SIGMA),\":\",s)\n",
    "    res_SIGMA[i,:,:] = cached_call(monte_carlo, 20, s, N_MC)"
   ]
  },
  {
   "cell_type": "code",
   "execution_count": null,
   "metadata": {},
   "outputs": [],
   "source": [
    "for i,n in enumerate(N):\n",
    "    print(i,\"/\",len(N),\":\",n)\n",
    "    res_N[i,:,:] = cached_call(monte_carlo, n, 20., N_MC)"
   ]
  },
  {
   "cell_type": "code",
   "execution_count": null,
   "metadata": {},
   "outputs": [],
   "source": [
    "colors = get_cm_colors(vik, 13)\n",
    "color0 = colors[0]\n",
    "color1 = colors[5]\n",
    "color2 = colors[12]\n",
    "color3 = colors[7]"
   ]
  },
  {
   "cell_type": "code",
   "execution_count": null,
   "metadata": {},
   "outputs": [],
   "source": [
    "fig = plt.figure(figsize=(5.8, 2.3))\n",
    "#ax_bg = fig.add_axes((0,0,1,1))\n",
    "ax = fig.add_axes((0.09, 0.16, 0.4, 0.82))\n",
    "ax.fill_between(SIGMA, 1e-6*np.median(res_SIGMA[:,:,0], axis=1),\n",
    "                1e-6*np.median(res_SIGMA[:,:,2], axis=1), color=color1,\n",
    "                label='80 % quantile\\n(symmetric)')\n",
    "ax.plot(SIGMA, 1e-6*np.median(res_SIGMA[:,:,1], axis=1), color=color0,\n",
    "        label='Median')\n",
    "ax.axhline(1e-6*AnoPH, color='k', linewidth=0.7,linestyle='--')\n",
    "ax.set_xlabel('$\\sigma$ ($\\mathrm{mW\\,m}^{-2}$)', labelpad=2)\n",
    "ax.set_ylabel('Frictional power $P_H$ (MW)')\n",
    "ax.text(0.5, 125, '(a)')\n",
    "ax.set_xlim(0,20)\n",
    "ax.legend(loc='upper center', bbox_to_anchor=(0.36, 1.0))\n",
    "\n",
    "ax = fig.add_axes((0.59, 0.16, 0.4, 0.82))\n",
    "ax.fill_between(N, 1e-6*np.median(res_N[:,:,0], axis=1),\n",
    "                1e-6*np.median(res_N[:,:,2], axis=1), color=color3,\n",
    "                label='80 % quantile\\n(symmetric)')\n",
    "ax.plot(N, 1e-6*np.median(res_N[:,:,1], axis=1), color=color2,\n",
    "        label='Median')\n",
    "ax.axhline(1e-6*AnoPH, color='k', linewidth=0.7,linestyle='--')\n",
    "ax.set_ylabel('Frictional power $P_H$ (MW)')\n",
    "ax.set_xscale('log')\n",
    "ax.set_xlabel('$N$', labelpad=2)\n",
    "ax.text(21.8, 125, '(b)')\n",
    "ax.set_xlim(20, 1000)\n",
    "ax.legend()\n",
    "\n",
    "fig.savefig('figures/A8-Precision-Sigma-N.pdf')"
   ]
  },
  {
   "cell_type": "markdown",
   "metadata": {},
   "source": [
    "### License\n",
    "```\n",
    "A notebook to determine investigate the dependence of heat flow\n",
    "anomaly quantification on regional aggregate heat flow variance\n",
    "and the sample size.\n",
    "\n",
    "This file is part of the REHEATFUNQ model.\n",
    "\n",
    "Author: Malte J. Ziebarth (ziebarth@gfz-potsdam.de)\n",
    "\n",
    "Copyright © 2022 Malte J. Ziebarth\n",
    "            \n",
    "\n",
    "This program is free software: you can redistribute it and/or modify\n",
    "it under the terms of the GNU General Public License as published by\n",
    "the Free Software Foundation, either version 3 of the License, or\n",
    "(at your option) any later version.\n",
    "\n",
    "This program is distributed in the hope that it will be useful,\n",
    "but WITHOUT ANY WARRANTY; without even the implied warranty of\n",
    "MERCHANTABILITY or FITNESS FOR A PARTICULAR PURPOSE.  See the\n",
    "GNU General Public License for more details.\n",
    "\n",
    "You should have received a copy of the GNU General Public License\n",
    "along with this program.  If not, see <https://www.gnu.org/licenses/>.\n",
    "```"
   ]
  }
 ],
 "metadata": {
  "kernelspec": {
   "display_name": "Python 3 (ipykernel)",
   "language": "python",
   "name": "python3"
  },
  "language_info": {
   "codemirror_mode": {
    "name": "ipython",
    "version": 3
   },
   "file_extension": ".py",
   "mimetype": "text/x-python",
   "name": "python",
   "nbconvert_exporter": "python",
   "pygments_lexer": "ipython3",
   "version": "3.10.8"
  }
 },
 "nbformat": 4,
 "nbformat_minor": 5
}