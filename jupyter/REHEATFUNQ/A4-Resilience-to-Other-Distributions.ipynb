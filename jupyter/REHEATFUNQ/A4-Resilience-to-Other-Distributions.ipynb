{
 "cells": [
  {
   "cell_type": "markdown",
   "metadata": {},
   "source": [
    "# Resilience Against Other Distribution\n",
    "This notebook investigates the resilience of the REHEATFUNQ model to the eventuality that heat flow were not gamma distributed."
   ]
  },
  {
   "cell_type": "code",
   "execution_count": null,
   "metadata": {},
   "outputs": [],
   "source": [
    "import cmasher\n",
    "import numpy as np\n",
    "from plotconfig import *\n",
    "from cmcrameri.cm import *\n",
    "from pickle import Unpickler\n",
    "from scipy.special import erf\n",
    "from cache import cached_call\n",
    "import matplotlib.pyplot as plt\n",
    "from numpy.typing import ArrayLike\n",
    "from zeal2022hf import get_cm_colors\n",
    "from scipy.interpolate import interp1d\n",
    "from matplotlib.cm import ScalarMappable\n",
    "from matplotlib.colors import BoundaryNorm, ListedColormap\n",
    "from matplotlib.patches import Rectangle\n",
    "from reheatfunq.resilience import test_performance_mixture_cython"
   ]
  },
  {
   "cell_type": "markdown",
   "metadata": {},
   "source": [
    "To this end, we determine which anomaly powers we want to investigate - the model need not be working for arbitrary powers, only for those observed on Earth. Using equation (20b) from LS80, we get for the depth-average frictional resistance for a strike-slip fault similar to the San Andreas under Byerlee conditions:\n",
    "$$\n",
    "\\bar{R} = 445\\,\\mathrm{bar} = 445\\times10^{5}\\,\\mathrm{Pa}\n",
    "$$\n",
    "For this frictional resistance, a $15\\,\\mathrm{km}$ deep fault segment of length $160\\,\\mathrm{km}$, and a slip rate of $5\\,\\mathrm{cm/yr}=1.585\\times10^{-9}\\,\\mathrm{m/s}$, we find a maximum power dissipation of\n",
    "$$\n",
    "P_\\mathrm{max} = 169 \\,\\mathrm{MW}\n",
    "$$"
   ]
  },
  {
   "cell_type": "code",
   "execution_count": null,
   "metadata": {},
   "outputs": [],
   "source": [
    "PMAX = 445e5 * 160e3 * 15e3 * 1.5854895991882295e-09\n",
    "print(PMAX * 1e-6)\n",
    "PMAX = 445e5 * 160e3 * 15e3 * 2.536783358701167e-09\n",
    "print(PMAX * 1e-6)"
   ]
  },
  {
   "cell_type": "markdown",
   "metadata": {},
   "source": [
    "Hence, we test the model's performance for the following range of powers:"
   ]
  },
  {
   "cell_type": "code",
   "execution_count": null,
   "metadata": {},
   "outputs": [],
   "source": [
    "POWERS_MW = [10, 25, 50, 75, 102, PMAX*1e-6]"
   ]
  },
  {
   "cell_type": "code",
   "execution_count": null,
   "metadata": {},
   "outputs": [],
   "source": [
    "Nset = np.arange(10,101,2)\n",
    "#Nset = np.arange(10,101,10)"
   ]
  },
  {
   "cell_type": "code",
   "execution_count": null,
   "metadata": {},
   "outputs": [],
   "source": [
    "M_SET = [int(M) for M in np.round(np.geomspace(5, 10000))]"
   ]
  },
  {
   "cell_type": "markdown",
   "metadata": {},
   "source": [
    "The number **41** is important actually - code is compiled only for selected numbers of quantiles (4 and 41)."
   ]
  },
  {
   "cell_type": "code",
   "execution_count": null,
   "metadata": {},
   "outputs": [],
   "source": [
    "QUANTILES = np.linspace(0.99, 0.01, 41)"
   ]
  },
  {
   "cell_type": "markdown",
   "metadata": {},
   "source": [
    "##### Data from previous notebooks"
   ]
  },
  {
   "cell_type": "code",
   "execution_count": null,
   "metadata": {},
   "outputs": [],
   "source": [
    "PRIOR_P, PRIOR_S, PRIOR_N, PRIOR_V = np.loadtxt('results/05-GCP-Parameters.txt', skiprows=1, delimiter=',')"
   ]
  },
  {
   "cell_type": "code",
   "execution_count": null,
   "metadata": {},
   "outputs": [],
   "source": [
    "with open('intermediate/A2-Distributions-for-Resilience.pickle','rb') as f:\n",
    "    inspiring = Unpickler(f).load()"
   ]
  },
  {
   "cell_type": "markdown",
   "metadata": {},
   "source": [
    "##### Plot configuration:"
   ]
  },
  {
   "cell_type": "code",
   "execution_count": null,
   "metadata": {},
   "outputs": [],
   "source": [
    "colors = get_cm_colors(vik, 7)\n",
    "color0 = colors[0]\n",
    "color1 = colors[4]\n",
    "color2 = colors[5]"
   ]
  },
  {
   "cell_type": "markdown",
   "metadata": {},
   "source": [
    "## The mixture distribution\n",
    "For the three following examples of non-gamma heat flow, we use a mixture distribution of two normal distributions,\n",
    "capped at $q=0$."
   ]
  },
  {
   "cell_type": "code",
   "execution_count": null,
   "metadata": {},
   "outputs": [],
   "source": [
    "SEED = 29181 # 29177"
   ]
  },
  {
   "cell_type": "code",
   "execution_count": null,
   "metadata": {},
   "outputs": [],
   "source": [
    "def mixture_density(x, x0, s0, a0, x1, s1, a1):\n",
    "    a0 = a0 / (a0+a1)\n",
    "    a1 = 1.0 - a0\n",
    "    # We simply cut the mixture distribution at x=0 and hence\n",
    "    # have to renormalized by the lost mass:\n",
    "    N0 = 0.5*(1.0 - erf(-x0/(s0*np.sqrt(2))))\n",
    "    N1 = 0.5*(1.0 - erf(-x1/(s1*np.sqrt(2))))\n",
    "    norm = a0 * N0 + a1 * N1\n",
    "    return (a0*np.exp(-0.5*((x-x0)/s0)**2)/s0 + a1*np.exp(-0.5*((x-x1)/s1)**2)/s1) / (np.sqrt(2*np.pi) * norm)"
   ]
  },
  {
   "cell_type": "code",
   "execution_count": null,
   "metadata": {},
   "outputs": [],
   "source": [
    "def test_resilience(N: ArrayLike, P_MW: ArrayLike, M: int, params: tuple[float], quantiles: ArrayLike,\n",
    "                    p: float, s: float, n: float, v:float, amin=1.0, seed=SEED):\n",
    "    \"\"\"\n",
    "    This function evaluates the performance of the REHEATFUNQ model against\n",
    "    data that does not stem from a gamma distribution (modelled by a two-component\n",
    "    normal mixture).\n",
    "    \"\"\"\n",
    "    print(\"M =\",M)\n",
    "    res = [cached_call(test_performance_mixture_cython, N, M, P, *params, quantiles, p, s, n, v, amin, seed=seed)\n",
    "           for P in P_MW]\n",
    "    return res"
   ]
  },
  {
   "cell_type": "markdown",
   "metadata": {},
   "source": [
    "## 1) Two non-overlapping normal distributions at medium heat flow"
   ]
  },
  {
   "cell_type": "code",
   "execution_count": null,
   "metadata": {},
   "outputs": [],
   "source": [
    "I21 = 0\n",
    "PARAMS_21 = (31, 3.5, 0.33, 62, 5.5, 0.67)"
   ]
  },
  {
   "cell_type": "code",
   "execution_count": null,
   "metadata": {},
   "outputs": [],
   "source": [
    "fig = plt.figure(dpi=140, figsize=(3.684, 3.4))\n",
    "ax = fig.add_subplot(111)\n",
    "yp = np.linspace(20, 90, 200)\n",
    "ax.plot(yp, mixture_density(yp, *PARAMS_21), label='Normal\\nMixture', color=color0)\n",
    "ax.hist(inspiring[0], density=True, color=color1, label='Inspiring\\nSample')\n",
    "ax.legend(loc='upper left');\n",
    "ax.set_xlabel('Heat Flow ($\\\\mathrm{mW\\,m}^\\\\mathrm{-2}$)')\n",
    "ax.set_ylabel('Density ($\\\\mathrm{m}^\\\\mathrm{2}\\,\\\\mathrm{mW}^\\\\mathrm{-1}$)')\n",
    "fig.savefig('figures/A4-Resilience-Setup-D1.pdf')"
   ]
  },
  {
   "cell_type": "code",
   "execution_count": null,
   "metadata": {},
   "outputs": [],
   "source": [
    "res_21 = test_resilience(Nset, POWERS_MW, M_SET[-1], PARAMS_21, QUANTILES, PRIOR_P, PRIOR_S, PRIOR_N, PRIOR_V)"
   ]
  },
  {
   "cell_type": "code",
   "execution_count": null,
   "metadata": {},
   "outputs": [],
   "source": [
    "res_21"
   ]
  },
  {
   "cell_type": "markdown",
   "metadata": {},
   "source": [
    "## 2) Two overlapping normal distributions of largely different variance"
   ]
  },
  {
   "cell_type": "code",
   "execution_count": null,
   "metadata": {},
   "outputs": [],
   "source": [
    "I22 = 4\n",
    "PARAMS_22 = (28, 2, 0.6, 22, 15, 0.4)"
   ]
  },
  {
   "cell_type": "code",
   "execution_count": null,
   "metadata": {},
   "outputs": [],
   "source": [
    "fig = plt.figure(dpi=140, figsize=(3.684, 3.4))\n",
    "ax = fig.add_subplot(111)\n",
    "yp = np.linspace(0, 50, 200)\n",
    "ax.plot(yp, mixture_density(yp, *PARAMS_22), label='Normal\\nMixture', color=color0)\n",
    "ax.hist(inspiring[1], density=True, color=color1, label='Inspiring\\nSample')\n",
    "ax.legend(loc='upper right');\n",
    "ax.set_xlabel('Heat Flow ($\\\\mathrm{mW\\,m}^\\\\mathrm{-2}$)')\n",
    "ax.set_ylabel('Density ($\\\\mathrm{m}^\\\\mathrm{2}\\,\\\\mathrm{mW}^\\\\mathrm{-1}$)')\n",
    "fig.savefig('figures/A4-Resilience-Setup-D2.pdf')"
   ]
  },
  {
   "cell_type": "code",
   "execution_count": null,
   "metadata": {},
   "outputs": [],
   "source": [
    "res_22 = test_resilience(Nset, POWERS_MW, M_SET[-1], PARAMS_22, QUANTILES, PRIOR_P, PRIOR_S, PRIOR_N, PRIOR_V)"
   ]
  },
  {
   "cell_type": "markdown",
   "metadata": {},
   "source": [
    "## 2.3) Two non-overlapping normal distributions at larger heat flow"
   ]
  },
  {
   "cell_type": "code",
   "execution_count": null,
   "metadata": {},
   "outputs": [],
   "source": [
    "I23 = 3\n",
    "PARAMS_23 = (43, 4, 0.3, 102, 10, 0.8)"
   ]
  },
  {
   "cell_type": "code",
   "execution_count": null,
   "metadata": {},
   "outputs": [],
   "source": [
    "fig = plt.figure(dpi=140, figsize=(3.684, 3.4))\n",
    "ax = fig.add_subplot(111)\n",
    "yp = np.linspace(20, 130, 200)\n",
    "ax.plot(yp, mixture_density(yp, *PARAMS_23), label='Normal\\nMixture', color=color0)\n",
    "ax.hist(inspiring[2], density=True, color=color1, label='Inspiring\\nSample')\n",
    "ax.legend(loc='upper left');\n",
    "ax.set_xlabel('Heat Flow ($\\\\mathrm{mW\\,m}^\\\\mathrm{-2}$)')\n",
    "ax.set_ylabel('Density ($\\\\mathrm{m}^\\\\mathrm{2}\\,\\\\mathrm{mW}^\\\\mathrm{-1}$)')\n",
    "fig.savefig('figures/A4-Resilience-Setup-D3.pdf')"
   ]
  },
  {
   "cell_type": "code",
   "execution_count": null,
   "metadata": {},
   "outputs": [],
   "source": [
    "res_23 = test_resilience(Nset, POWERS_MW, M_SET[-1], PARAMS_23, QUANTILES, PRIOR_P, PRIOR_S, PRIOR_N, PRIOR_V)"
   ]
  },
  {
   "cell_type": "code",
   "execution_count": null,
   "metadata": {},
   "outputs": [],
   "source": [
    "Nset"
   ]
  },
  {
   "cell_type": "code",
   "execution_count": null,
   "metadata": {},
   "outputs": [],
   "source": [
    "ids_select = [0, 5]\n",
    "all_res = (res_21, res_22, res_23)"
   ]
  },
  {
   "cell_type": "code",
   "execution_count": null,
   "metadata": {},
   "outputs": [],
   "source": [
    "N_SELECT = 24"
   ]
  },
  {
   "cell_type": "code",
   "execution_count": null,
   "metadata": {},
   "outputs": [],
   "source": [
    "ni = int(np.argwhere(Nset == N_SELECT))"
   ]
  },
  {
   "cell_type": "markdown",
   "metadata": {},
   "source": [
    "We fill the following variables:\n",
    "\n",
    "| Variable | Meaning |\n",
    "| -------- | :------ |\n",
    "|   $y$    | The tail quantile of the posterior at the true $P_H$ of the heat flow anomaly |\n",
    "|   $c$    | Relative bias of the tail quantile.  |\n",
    "\n",
    "The relative bias $c$ can be understood as follows: say we have a tail quantile $q$ (with an estimator $P_q$).\n",
    "If the tail quantile were unbiased in a frequentist view, we would expect the true power $P_H$ to fall above\n",
    "the tail quantile $P_q$ in a fraction $q$ of generated samples. If this is not the case, the rate of the true\n",
    "$P_H$ exceeding the tail quantile $P_q$ (call this rate $r$) is not $q$ ($r\\neq q$).\n",
    "\n",
    "This allows us to\n",
    "1) derive the rate $r$ of $P_H>P_q$ (this can be obtained by finding the quantile of $P_H$ in $y$)\n",
    "2) determine the power $P_q'$, which is the power at the actual rejection rate $r=q$ (that is\n",
    "   the power in which $P_H > P_q'$ actually occurs in a fraction $q$ of the samples)\n",
    "\n",
    "We compute this power $P_q'$ and derive the relative bias of this power $P_q'$ compared to the\n",
    "actual anomaly power $P_q$:\n",
    "$$\n",
    "  c = \\frac{P_q'}{P_q} - 1\n",
    "$$"
   ]
  },
  {
   "cell_type": "code",
   "execution_count": null,
   "metadata": {},
   "outputs": [],
   "source": [
    "# This loop iterates the three probability densities:\n",
    "y = [np.zeros((len(all_res), len(ids_select), QUANTILES.size)) for m in M_SET]\n",
    "c = [np.zeros((len(all_res), len(ids_select), QUANTILES.size)) for m in M_SET]\n",
    "for l,m in enumerate(M_SET):\n",
    "    for k,res_k in enumerate(all_res):\n",
    "        # this loop iterates the powers:\n",
    "        for s,i in enumerate(ids_select):\n",
    "            #i = -1\n",
    "            for j,q in enumerate(QUANTILES):\n",
    "                quant_ki = np.sort(res_k[i][0,ni,j,:m])\n",
    "                if 1e6*POWERS_MW[i] < quant_ki[0]:\n",
    "                    y[l][k,s,j] = 0.0\n",
    "                elif 1e6*POWERS_MW[i] > quant_ki[-1]:\n",
    "                    y[l][k,s,j] = 1.0\n",
    "                else:\n",
    "                    interp = interp1d(quant_ki, (np.arange(m)/(m-1)))\n",
    "                    y[l][k,s,j] = interp(1e6*POWERS_MW[i])\n",
    "                c[l][k,s,j] = np.quantile(quant_ki,q)/(1e6*POWERS_MW[i]) - 1.0"
   ]
  },
  {
   "cell_type": "code",
   "execution_count": null,
   "metadata": {},
   "outputs": [],
   "source": [
    "j = [float(round(q,4)) for q in QUANTILES].index(0.108)\n",
    "for l,m in enumerate(M_SET):\n",
    "    for k,res_k in enumerate(all_res):\n",
    "        # this loop iterates the powers:\n",
    "        print(\"--- distribution\",k,\"---\")\n",
    "        for s,i in enumerate(ids_select):\n",
    "            #i = -1\n",
    "            q = 0.108\n",
    "            quant_ki = np.sort(res_k[i][0,ni,j,:m])\n",
    "            print(\"P = %3.0f\" % (POWERS_MW[i],), \"MW ->\",\n",
    "                  round(100*(np.quantile(quant_ki,q)/(1e6*POWERS_MW[i]) - 1.0)),\"%\")"
   ]
  },
  {
   "cell_type": "code",
   "execution_count": null,
   "metadata": {},
   "outputs": [],
   "source": [
    "markers = ['^','s']"
   ]
  },
  {
   "cell_type": "code",
   "execution_count": null,
   "metadata": {},
   "outputs": [],
   "source": [
    "power_scale = 1e-6\n",
    "\n",
    "ypos = (0.13, 0.43, 0.73)[::-1]\n",
    "xpos = (0.08, 0.315, 0.55, 0.81)\n",
    "dx = (0.175, 0.175, 0.175, 0.175)\n",
    "dy = 0.24\n",
    "\n",
    "\n",
    "q_plot = 0.5\n",
    "\n",
    "mask = Nset > 9\n",
    "\n",
    "M = M_SET[-1]\n",
    "\n",
    "vmin = c[-1].min()\n",
    "vmax = c[-1].max()\n",
    "norm = BoundaryNorm(boundaries=[-0.2, -0.1, -0.05, -0.01, 0.01, 0.1, 1.0, 5.0], ncolors=256)\n",
    "\n",
    "with plt.rc_context({'axes.labelpad': 0.05, 'xtick.major.pad': 1.2, 'ytick.major.pad': 1.2}):\n",
    "    plt.rcParams['axes.titlepad'] = 10\n",
    "\n",
    "    fig = plt.figure(dpi=140, figsize=(6.975, 5.5))\n",
    "    cax = fig.add_axes((0.75, 0.055, 0.23, 0.01), zorder=2)\n",
    "    ax0 = fig.add_axes((0,0,1,1))\n",
    "    ax0.set_xlim(0,1)\n",
    "    ax0.set_ylim(0,1)\n",
    "    highlight_color = '#eeeeee'\n",
    "    ax0.add_patch(Rectangle((0.005, ypos[0] - 0.03), 0.99, 0.28, facecolor=highlight_color))\n",
    "    ax0.add_patch(Rectangle((0.005, ypos[1] - 0.03), 0.99, 0.28, facecolor=highlight_color))\n",
    "    ax0.add_patch(Rectangle((0.005, ypos[2] - 0.06), 0.99, 0.31, facecolor=highlight_color))\n",
    "    ax0.text(0.01, ypos[0]+0.11, \"D1\", va='center', fontsize=10)\n",
    "    ax0.text(0.01, ypos[1]+0.11, \"D2\", va='center', fontsize=10)\n",
    "    ax0.text(0.01, ypos[2]+0.095, \"D3\", va='center', fontsize=10)\n",
    "    ax0.set_axis_off()\n",
    "    l0 = np.argmin(np.abs(QUANTILES - 0.9))\n",
    "    l1 = np.argmin(np.abs(QUANTILES - 0.1))\n",
    "    l2 = np.argmin(np.abs(QUANTILES - 0.5))\n",
    "    l3 = np.argmin(np.abs(QUANTILES - 0.01))\n",
    "    \n",
    "    j = 1\n",
    "    for k,res_k in enumerate(all_res):\n",
    "        for s,i in enumerate(ids_select):\n",
    "            ylim = (0, power_scale * res_k[i][:,mask,:,:].mean(axis=-1).max())\n",
    "            ax = fig.add_axes((xpos[1 + s], ypos[k], dx[1+s], dy))\n",
    "            ax.set_xscale('log')\n",
    "            if k == 0:\n",
    "                if i == 0:\n",
    "                    ax.set_title('10 MW', pad=4)\n",
    "                else:\n",
    "                    ax.set_title('271 MW', pad=4)\n",
    "            elif k == len(all_res)-1:\n",
    "                ax.set_xlabel('Number of samples')\n",
    "            if i == 0:\n",
    "                ax.text(11, 0.93*ylim[1], ['(b)', '(f)', '(j)'][k], ha='center', va='center')\n",
    "            else:\n",
    "                ax.text(94, 0.93*ylim[1], ['(c)', '(g)', '(k)'][k], ha='center', va='center')\n",
    "                \n",
    "            ax.set_ylabel('Quantile $P_H$ (MW)')\n",
    "            ax.set_ylim(ylim)\n",
    "            # The prior:\n",
    "            h0 = ax.fill_between(Nset[mask], power_scale * np.quantile(res_k[i][0,mask,l0,:], q_plot, axis=1),\n",
    "                                 power_scale * np.quantile(res_k[i][0,mask,l1,:], q_plot, axis=1),\n",
    "                                 color='lightblue', label='80% symmetric')\n",
    "            h1 = ax.plot(Nset[mask], power_scale * np.quantile(res_k[i][0,mask,l2,:], q_plot, axis=1), label='Median')\n",
    "            h2 = ax.plot(Nset[mask], power_scale * np.quantile(res_k[i][0,mask,l3,:], q_plot, axis=1),\n",
    "                         color='lightblue', linestyle=':', label='Tail 1\\%')\n",
    "            h3 = ax.plot(Nset[mask], power_scale * POWERS_MW[i] * 1e6 * np.ones(np.count_nonzero(mask)),\n",
    "                         label='True', color='k', linestyle='--', linewidth=1.0)\n",
    "            for label in ax.get_yticklabels():\n",
    "                label.set_rotation(90)\n",
    "            j += 1\n",
    "\n",
    "        # The QQ-plot:\n",
    "        ax = fig.add_axes((xpos[3], ypos[k], dx[3], dy))\n",
    "        ax.text(50, 93, ['(d)', '(h)', '(l)'][k], ha='center', va='center')\n",
    "        ax.set_xlim(0, 100)\n",
    "        ax.set_ylim(0, 100)\n",
    "        ax.set_aspect('equal')\n",
    "        ax.plot((0.0,100.0), (0.0,100.0), linewidth=1.0, color='k')\n",
    "        if k == 0:\n",
    "            ax.set_title(f'$N={N_SELECT}$', pad=4)\n",
    "        elif k == 2:\n",
    "            ax.set_xlabel('Chosen tail quantile $t$ (%)', loc='right')\n",
    "        ax.set_ylabel('Rate $r$ of anomaly\\nexceeding $P_H(t)$ (%)')\n",
    "        ax.set_xticks((0,50,100))\n",
    "        lbls = ax.set_xticklabels(('0','50','100'))\n",
    "        lbls[-1].set_ha('right')\n",
    "        # this loop iterates the powers:\n",
    "        for s,i in enumerate(ids_select):\n",
    "            hQQ = ax.scatter(100*QUANTILES, 100*y[-1][k,s,:], marker=markers[s],\n",
    "                             label=str(round(POWERS_MW[i])) + \" MW\",\n",
    "                             c = c[-1][k,s,:], s=10, #vmin=0.0, vmax=2.0,\n",
    "                             cmap=cmasher.get_sub_cmap(vik, 0.15, 0.85, N=256), norm=norm,\n",
    "                             edgecolor='k', linewidth=0.5)\n",
    "            ax.axvline(10, linestyle='--', linewidth=1, color='k', zorder=0)\n",
    "\n",
    "        if k == 2:\n",
    "            ax.legend(fontsize=6, handletextpad=0.2, handlelength=1.0)\n",
    "\n",
    "    # Legend axis:\n",
    "    lax = fig.add_axes((0.0, 0.0, 0.7, 0.08), facecolor='none')\n",
    "    lax.legend(handles = (h3[0],h0,h1[0],h2[0]),\n",
    "               labels=('True', '80 % symmetric', 'Median', 'Tail 1 %'),\n",
    "               ncol=4, loc='center')\n",
    "    lax.grid('off')\n",
    "    lax.set_axis_off()\n",
    "\n",
    "\n",
    "    # The Gaussian mixture models:\n",
    "    # number 1:\n",
    "    gax0 = fig.add_axes((xpos[0], ypos[0]+0.04, dx[0], dy-0.04))\n",
    "    xp = np.linspace(20, 90, 200)\n",
    "    yp = mixture_density(xp, *PARAMS_21)\n",
    "    gax0.plot(xp, yp, label='Normal\\nMixture',\n",
    "              color='indigo')\n",
    "    gax0.set_yticks(gax0.get_yticks())\n",
    "    gax0.set_yticklabels([str(int(round(100*x))) for x in gax0.get_yticks()])\n",
    "    gax0.set_ylabel('Density ($10^{-2}\\\\mathrm{m}^2\\\\mathrm{mW}^{-1}$)')\n",
    "    gax0.yaxis.set_label_coords(-0.12, 0.42)\n",
    "    gax0.set_xlabel('Heat flow ($\\\\mathrm{mW}\\\\mathrm{m}^{-2}$)')\n",
    "    gax0.text(20,4.9e-2, '$\\\\mu_0=31$\\n$\\sigma_0=3.5$\\n$w_0=0.33$', fontsize=6)\n",
    "    gax0.text(67,5.0e-2,'$\\\\mu_1=62$\\n$\\sigma_1=5.5$\\n$w_1=0.67$', fontsize=6)\n",
    "    gax0.text(50, 6.3e-2, '(a)', va='center', ha='center')\n",
    "    gax0.set_ylim(0, 1.4*yp.max())\n",
    "    \n",
    "    \n",
    "    # number 2:\n",
    "    gax1 = fig.add_axes((xpos[0], ypos[1]+0.04, dx[0], dy-0.04))\n",
    "    xp = np.linspace(0, 50, 200)\n",
    "    yp = mixture_density(xp, *PARAMS_22)\n",
    "    gax1.plot(xp, yp, label='Normal\\nMixture', color='indigo')\n",
    "    gax1.set_yticks(gax1.get_yticks())\n",
    "    gax1.set_yticklabels([str(int(round(100*x))) for x in gax1.get_yticks()])\n",
    "    gax1.set_ylabel('Density ($10^{-2}\\\\mathrm{m}^2\\\\mathrm{mW}^{-1}$)')\n",
    "    gax1.yaxis.set_label_coords(-0.14, 0.42)\n",
    "    gax1.set_xlabel('Heat flow ($\\\\mathrm{mW}\\\\mathrm{m}^{-2}$)')\n",
    "    gax1.text(33, 10.4e-2, '$\\\\mu_0=28$\\n$\\sigma_0=2$\\n$w_0=0.6$', fontsize=6)\n",
    "    gax1.text(4,  1.8e-2,  '$\\\\mu_1=22$\\n$\\sigma_1=15$\\n$w_1=0.4$', fontsize=6)\n",
    "    gax1.text(2, 13.5e-2, '(e)', va='center', ha='center')\n",
    "    gax1.set_ylim(0, 1.1*yp.max())\n",
    "    \n",
    "    \n",
    "    # number 3:\n",
    "    gax2 = fig.add_axes((xpos[0], ypos[2]+0.04, dx[0], dy-0.04))\n",
    "    xp = np.linspace(20, 130, 200)\n",
    "    yp = mixture_density(xp, *PARAMS_23)\n",
    "    gax2.plot(xp, yp, label='Normal\\nMixture', color='indigo')\n",
    "    gax2.set_yticks(gax2.get_yticks())\n",
    "    gax2.set_yticklabels([str(int(round(100*x))) for x in gax2.get_yticks()])\n",
    "    gax2.set_ylabel('Density ($10^{-2}\\\\mathrm{m}^2\\\\mathrm{mW}^{-1}$)')\n",
    "    gax2.yaxis.set_label_coords(-0.12, 0.42)\n",
    "    gax2.set_xlabel('Heat flow ($\\\\mathrm{mW}\\\\mathrm{m}^{-2}$)')\n",
    "    gax2.text(20,3e-2,'$\\\\mu_0=43$\\n$\\sigma_0=4$\\n$w_0=0.27$', fontsize=6)\n",
    "    gax2.text(90,3e-2,'$\\\\mu_1=102$\\n$\\sigma_1=10$\\n$w_1=0.73$', fontsize=6)\n",
    "    gax2.text(70, 3.9e-2, '(i)', va='center', ha='center')\n",
    "    gax2.set_ylim(0, 1.45*yp.max())\n",
    "    \n",
    "    # The colorbar:\n",
    "    fig.colorbar(hQQ, cax=cax, orientation='horizontal',\n",
    "                 ticks=[-0.2, -0.1, -0.05, -0.01, 0.01, 0.1, 1,5])\n",
    "    cax.set_xticklabels([\"-20\", \"-10\", \"-5\", \"-1\", \"1\", \"10\", \"100\", \"500\"],\n",
    "                        fontsize='small');\n",
    "    cax.set_xlabel('Bias $B$ at $r=t$ relative  to $P_H$ (%)');\n",
    "\n",
    "    \n",
    "    fig.savefig('figures/A4-Resilience.pdf')"
   ]
  },
  {
   "cell_type": "markdown",
   "metadata": {},
   "source": [
    "### Convergence Analysis\n",
    "#### 1. The QQ-Plot"
   ]
  },
  {
   "cell_type": "code",
   "execution_count": null,
   "metadata": {},
   "outputs": [],
   "source": [
    "from matplotlib.cm import ScalarMappable\n",
    "from matplotlib.colors import Normalize"
   ]
  },
  {
   "cell_type": "code",
   "execution_count": null,
   "metadata": {},
   "outputs": [],
   "source": [
    "len(all_res), len(ids_select)"
   ]
  },
  {
   "cell_type": "code",
   "execution_count": null,
   "metadata": {},
   "outputs": [],
   "source": [
    "with plt.rc_context({'axes.labelpad': 0.05, 'xtick.major.pad': 1.2, 'ytick.major.pad': 1.2}):\n",
    "    plt.rcParams['axes.titlepad'] = 10\n",
    "\n",
    "    fig = plt.figure(dpi=140, figsize=(6.975, 3.5))\n",
    "    ax_bg = fig.add_axes((0,0,1,1))\n",
    "    ax_bg.text(0.015, 0.68, '10 MW', rotation=90, ha='center',\n",
    "               fontsize='large')\n",
    "    ax_bg.text(0.015, 0.23, '271 MW', rotation=90, ha='center',\n",
    "               fontsize='large')\n",
    "    ax_bg.set_axis_off()\n",
    "    colors_ca = get_cm_colors(hawaii, len(M_SET)+2)\n",
    "\n",
    "    # Color bar:\n",
    "    cmap = ListedColormap(colors_ca)\n",
    "    bounds = M_SET\n",
    "    norm = BoundaryNorm(M_SET, cmap.N)\n",
    "    cax = fig.add_axes((0.91, 0.2, 0.01, 0.7))\n",
    "    fig.colorbar(ScalarMappable(cmap=cmap, norm=norm),\n",
    "        cax=cax\n",
    "    )\n",
    "    cax.set_ylabel('Number of samples')\n",
    "    for k,res_k in enumerate(all_res):\n",
    "        for s,i in enumerate(ids_select):\n",
    "            ax = fig.add_axes((0.09+0.28*k, 0.55 - 0.45*s, 0.28, 0.38))\n",
    "            if s == 0:\n",
    "                ax.set_title('D'+str(k+1))\n",
    "            else:\n",
    "                ax.set_xlabel('Chosen tail quantile $t$ (%)')\n",
    "            # The QQ-plot:\n",
    "            ax.set_xlim(0, 100)\n",
    "            ax.set_ylim(0, 100)\n",
    "            ax.set_aspect('equal')\n",
    "            ax.plot((0.0,100.0), (0.0,100.0), linewidth=1.0, color='k')\n",
    "            ax.set_ylabel('Rate $r$ of anomaly\\nexceeding $P_H(t)$ (%)')\n",
    "            ax.set_xticks((0,50,100))\n",
    "            lbls = ax.set_xticklabels(('0','50','100'), fontsize='small')\n",
    "            lbls[-1].set_ha('right')\n",
    "            # this loop iterates the powers:\n",
    "            for l,m in enumerate(M_SET):\n",
    "                ax.plot(100*QUANTILES, 100*y[l][k,s,:], color=colors_ca[l], linewidth=1)#4 - 2/len(M_SET)*l)\n",
    "            ax.axvline(10, linestyle='--', linewidth=1, color='k', zorder=0)\n",
    "    \n",
    "    \n",
    "    fig.savefig('figures/A4-Convergence-QQ.pdf')"
   ]
  },
  {
   "cell_type": "code",
   "execution_count": null,
   "metadata": {},
   "outputs": [],
   "source": [
    "fig = plt.figure(figsize=(12,3))\n",
    "colors_ca = get_cm_colors(hawaii, len(M_SET)+2)\n",
    "for k,res_k in enumerate(all_res):\n",
    "    for s,i in enumerate(ids_select):\n",
    "        ax = fig.add_subplot(2,6,6*s+k+1)\n",
    "        # The QQ-plot:\n",
    "        ax.set_xscale('log')\n",
    "        ax.set_yscale('log')\n",
    "        ax.set_ylabel(f'Standard deviation of $r$\\nto value at $M={M_SET[-1]}$ (%)')\n",
    "        lbls[-1].set_ha('right')\n",
    "        # this loop iterates the powers:\n",
    "        ax.plot(M_SET, [np.std(100*(y[l][k,s,:]-y[-1][k,s,:])) for l,_ in enumerate(M_SET)],\n",
    "                marker='.')\n",
    "        ax.axvline(10, linestyle='--', linewidth=1, color='k', zorder=0)\n",
    "\n",
    "\n",
    "fig.tight_layout()"
   ]
  },
  {
   "cell_type": "markdown",
   "metadata": {},
   "source": [
    "#### 2. The Quantiles with $N$"
   ]
  },
  {
   "cell_type": "code",
   "execution_count": null,
   "metadata": {},
   "outputs": [],
   "source": [
    "with plt.rc_context({'axes.labelpad': 0.05, 'xtick.major.pad': 1.2, 'ytick.major.pad': 1.2}):\n",
    "    plt.rcParams['axes.titlepad'] = 10\n",
    "\n",
    "    fig = plt.figure(dpi=140, figsize=(6.975, 6.0))\n",
    "    ax_bg = fig.add_axes((0,0,1,1))\n",
    "    ax_bg.set_axis_off()\n",
    "    \n",
    "    colors_ca2 = get_cm_colors(batlow, 6)\n",
    "\n",
    "    xpos = [0.13, 0.61]\n",
    "    ypos = [0.1, 0.4, 0.7][::-1]\n",
    "    dx = 0.38\n",
    "    dy = 0.25\n",
    "    \n",
    "    j = 1\n",
    "    for k,res_k in enumerate(all_res):\n",
    "        ax_bg.text(0.01, ypos[k] + 0.5*dy, 'D'+str(k+1),\n",
    "                   rotation=90, fontsize='large')\n",
    "        for s,i in enumerate(ids_select):\n",
    "            ylim = (0, power_scale * res_k[i][:,mask,:,:].mean(axis=-1).max())\n",
    "            print(len(all_res), len(ids_select), k*len(ids_select)+s+1)\n",
    "            #ax = fig.add_subplot(len(all_res), len(ids_select), k*len(ids_select)+s+1)\n",
    "            ax = fig.add_axes((xpos[s], ypos[k], dx, dy))\n",
    "            ax.set_xscale('log')\n",
    "            if k == 0:\n",
    "                if i == 0:\n",
    "                    ax.set_title('10 MW', pad=4)\n",
    "                else:\n",
    "                    ax.set_title('271 MW', pad=4)\n",
    "            elif k == len(all_res)-1:\n",
    "                ax.set_xlabel('Number of samples $S$')\n",
    "                \n",
    "            ax.set_ylabel(f'Relative quantile difference\\nto $M={M_SET[-1]}$')\n",
    "            #ax.set_ylim(ylim)\n",
    "            # The prior:\n",
    "            QPH_10_base = power_scale * np.quantile(res_k[i][0,mask,l0,:], q_plot, axis=1)\n",
    "            QPH_90_base = power_scale * np.quantile(res_k[i][0,mask,l1,:], q_plot, axis=1)\n",
    "            QPH_50_base = power_scale * np.quantile(res_k[i][0,mask,l2,:], q_plot, axis=1)\n",
    "            QPH_99_base = power_scale * np.quantile(res_k[i][0,mask,l3,:], q_plot, axis=1)\n",
    "            y_10 = []\n",
    "            y_90 = []\n",
    "            y_50 = []\n",
    "            y_99 = []\n",
    "            for l,M in enumerate(M_SET[:-1]):\n",
    "                QPH_10 = power_scale * np.quantile(res_k[i][0,mask,l0,:M], q_plot, axis=1)\n",
    "                QPH_90 = power_scale * np.quantile(res_k[i][0,mask,l1,:M], q_plot, axis=1)\n",
    "                QPH_50 = power_scale * np.quantile(res_k[i][0,mask,l2,:M], q_plot, axis=1)\n",
    "                QPH_99 = power_scale * np.quantile(res_k[i][0,mask,l3,:M], q_plot, axis=1)\n",
    "                y_10.append(np.std(QPH_10 - QPH_10_base) / np.mean(QPH_10_base))\n",
    "                y_90.append(np.std(QPH_90 - QPH_90_base) / np.mean(QPH_90_base))\n",
    "                y_50.append(np.std(QPH_50 - QPH_50_base) / np.mean(QPH_50_base))\n",
    "                y_99.append(np.std(QPH_99 - QPH_99_base) / np.mean(QPH_99_base))\n",
    "            ax.plot(M_SET[:-1], y_10, color=colors_ca2[0], label='10 %', marker='.', markeredgecolor='none')\n",
    "            ax.plot(M_SET[:-1], y_50, color=colors_ca2[1], label='50 %', marker='.', markeredgecolor='none')\n",
    "            ax.plot(M_SET[:-1], y_90, color=colors_ca2[2], label='90 %', marker='.', markeredgecolor='none')\n",
    "            ax.plot(M_SET[:-1], y_99, color=colors_ca2[3], label='99 %', marker='.', markeredgecolor='none')\n",
    "            mplot = np.geomspace(M_SET[0], M_SET[-1])\n",
    "            ax.plot(mplot, 2/np.sqrt(mplot), color='k', linestyle='--', linewidth=1,\n",
    "                    label='$2/\\sqrt{S}$')\n",
    "            ax.set_yscale('log')\n",
    "            ax.legend(title='Tail Quantile', ncols=2)\n",
    "            for label in ax.get_yticklabels():\n",
    "                label.set_rotation(90)\n",
    "            j += 1\n",
    "    \n",
    "    # fig.tight_layout()\n",
    "    fig.savefig('figures/A4-Convergence-Tail-Quantiles.pdf')"
   ]
  },
  {
   "cell_type": "markdown",
   "metadata": {},
   "source": [
    "### License\n",
    "```\n",
    "A notebook to test the gamma distribution model of regional aggregate\n",
    "heat flow and its anomaly quantification capabilities against data\n",
    "stemming from a different distribution.\n",
    "\n",
    "This file is part of the REHEATFUNQ model.\n",
    "\n",
    "Author: Malte J. Ziebarth (ziebarth@gfz-potsdam.de)\n",
    "\n",
    "Copyright © 2019-2022 Deutsches GeoForschungsZentrum Potsdam,\n",
    "            2022-2023 Malte J. Ziebarth\n",
    "            \n",
    "\n",
    "This program is free software: you can redistribute it and/or modify\n",
    "it under the terms of the GNU General Public License as published by\n",
    "the Free Software Foundation, either version 3 of the License, or\n",
    "(at your option) any later version.\n",
    "\n",
    "This program is distributed in the hope that it will be useful,\n",
    "but WITHOUT ANY WARRANTY; without even the implied warranty of\n",
    "MERCHANTABILITY or FITNESS FOR A PARTICULAR PURPOSE.  See the\n",
    "GNU General Public License for more details.\n",
    "\n",
    "You should have received a copy of the GNU General Public License\n",
    "along with this program.  If not, see <https://www.gnu.org/licenses/>.\n",
    "```"
   ]
  }
 ],
 "metadata": {
  "kernelspec": {
   "display_name": "Python 3 (ipykernel)",
   "language": "python",
   "name": "python3"
  },
  "language_info": {
   "codemirror_mode": {
    "name": "ipython",
    "version": 3
   },
   "file_extension": ".py",
   "mimetype": "text/x-python",
   "name": "python",
   "nbconvert_exporter": "python",
   "pygments_lexer": "ipython3",
   "version": "3.11.6"
  }
 },
 "nbformat": 4,
 "nbformat_minor": 5
}