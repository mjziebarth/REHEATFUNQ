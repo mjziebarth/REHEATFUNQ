{
 "cells": [
  {
   "cell_type": "markdown",
   "metadata": {},
   "source": [
    "# Using Custom Anomaly Signatures\n",
    "This notebook shows how to use the `AnomalyNearestNeighbor` class to quantify custom\n",
    "heat flow anomaly signatures (say derived from finite element analysis)."
   ]
  },
  {
   "cell_type": "code",
   "execution_count": null,
   "metadata": {},
   "outputs": [],
   "source": [
    "import numpy as np\n",
    "import matplotlib.pyplot as plt\n",
    "from reheatfunq.regional import default_prior, HeatFlowPredictive\n",
    "from reheatfunq.anomaly import HeatFlowAnomalyPosterior, AnomalyNearestNeighbor"
   ]
  },
  {
   "cell_type": "markdown",
   "metadata": {},
   "source": [
    "Generate a custom anomaly signature. Here we would like to generate an Gaussian anomaly\n",
    "centered at $(x,y)=(0,0)$, which leads to a heat flow offset of $68.3\\,\\mathrm{mW\\,m}^{-2}$\n",
    "in its center when powered by $10\\,\\mathrm{MW}$. Noting that the $c_i$ should be given in\n",
    "SI basis units ($\\mathrm{m}^{-2}$), we find the following expression:"
   ]
  },
  {
   "cell_type": "code",
   "execution_count": null,
   "metadata": {},
   "outputs": [],
   "source": [
    "def anomaly_ci(x,y):\n",
    "    return 68.3e-3 / 10e6 * np.exp(-(x**2 + y**2))"
   ]
  },
  {
   "cell_type": "markdown",
   "metadata": {},
   "source": [
    "\"Load\" the heat flow data:"
   ]
  },
  {
   "cell_type": "code",
   "execution_count": null,
   "metadata": {},
   "outputs": [],
   "source": [
    "N = 20\n",
    "rng = np.random.default_rng(123329773)\n",
    "xy = 3 * rng.random((N,2)) - 1.5\n",
    "q0 = 0.39 * rng.gamma(175.2, size=N)\n",
    "c_i = anomaly_ci(*xy.T)\n",
    "q = q0 + 1e3 * 10e6 * c_i"
   ]
  },
  {
   "cell_type": "markdown",
   "metadata": {},
   "source": [
    "To customize the analysis, `xy` and `q` needs to be replaced with heat flow data and `c_i` would have to be computed as desired."
   ]
  },
  {
   "cell_type": "code",
   "execution_count": null,
   "metadata": {},
   "outputs": [],
   "source": [
    "fig = plt.figure()\n",
    "ax = fig.add_subplot(111)\n",
    "ax.step(np.sort(q), np.arange(q.size)/(q.size-1))\n",
    "ax.set_xlabel('$q$ ($\\\\mathrm{mW\\,m}^{-2}$)')\n",
    "ax.set_ylabel('CDF');"
   ]
  },
  {
   "cell_type": "markdown",
   "metadata": {},
   "source": [
    "Plot the configuration:"
   ]
  },
  {
   "cell_type": "code",
   "execution_count": null,
   "metadata": {},
   "outputs": [],
   "source": [
    "xp = np.linspace(-1.5, 1.5, 51)\n",
    "yp = np.linspace(-1.5, 1.5)\n",
    "xg, yg = np.meshgrid(xp, yp)\n",
    "ano_g = anomaly_ci(xg,yg)"
   ]
  },
  {
   "cell_type": "code",
   "execution_count": null,
   "metadata": {},
   "outputs": [],
   "source": [
    "fig = plt.figure()\n",
    "ax = fig.add_subplot(111)\n",
    "ax.set_aspect('equal')\n",
    "cset = ax.contour(xp, yp, ano_g, cmap='magma')\n",
    "h = ax.scatter(*xy.T, c=q)\n",
    "fig.draw_without_rendering()\n",
    "ax.clabel(cset, zorder=0, fmt=\"%1.0e\")\n",
    "ax.set_xlabel('x')\n",
    "ax.set_ylabel('y')\n",
    "fig.colorbar(h, label='$q$');"
   ]
  },
  {
   "cell_type": "markdown",
   "metadata": {},
   "source": [
    "### REHEATFUNQ Analysis\n",
    "Now perform a default REHEATFUNQ analysis. For simplicity, we use $d_\\mathrm{min}=0$ here."
   ]
  },
  {
   "cell_type": "code",
   "execution_count": null,
   "metadata": {},
   "outputs": [],
   "source": [
    "anomaly = AnomalyNearestNeighbor(np.stack((*xy.T, c_i), axis=1))"
   ]
  },
  {
   "cell_type": "code",
   "execution_count": null,
   "metadata": {},
   "outputs": [],
   "source": [
    "gcp = default_prior()"
   ]
  },
  {
   "cell_type": "code",
   "execution_count": null,
   "metadata": {},
   "outputs": [],
   "source": [
    "hfap = HeatFlowAnomalyPosterior(q, *xy.T, anomaly, gcp, dmin=0.0)"
   ]
  },
  {
   "cell_type": "code",
   "execution_count": null,
   "metadata": {},
   "outputs": [],
   "source": [
    "fig = plt.figure()\n",
    "P_H = np.linspace(6e6, 1.5e7, 200)\n",
    "y = hfap.pdf(P_H)\n",
    "ax = fig.add_subplot(111)\n",
    "ax.plot(1e-6*P_H, y, label='Posterior PDF')\n",
    "ax.axvline(10, color='k', linestyle='--', linewidth=1.0, label='True anomaly')\n",
    "ax.set_ylim(0, ax.get_ylim()[1])\n",
    "ax.set_xlabel('Frictional power $P_H$ (MW)')\n",
    "ax.set_ylabel('Posterior density ($\\mathrm{W}^{-1}$)');\n",
    "ax.legend();"
   ]
  },
  {
   "cell_type": "markdown",
   "metadata": {},
   "source": [
    "### License\n",
    "```\n",
    "REHEATFUNQ custom heat flow anomaly analysis quickstart notebook.\n",
    "\n",
    "This file is part of the REHEATFUNQ model.\n",
    "\n",
    "Author: Malte J. Ziebarth (ziebarth@gfz-potsdam.de)\n",
    "\n",
    "Copyright © 2022 Malte J. Ziebarth\n",
    "\n",
    "This program is free software: you can redistribute it and/or modify\n",
    "it under the terms of the GNU General Public License as published by\n",
    "the Free Software Foundation, either version 3 of the License, or\n",
    "(at your option) any later version.\n",
    "\n",
    "This program is distributed in the hope that it will be useful,\n",
    "but WITHOUT ANY WARRANTY; without even the implied warranty of\n",
    "MERCHANTABILITY or FITNESS FOR A PARTICULAR PURPOSE.  See the\n",
    "GNU General Public License for more details.\n",
    "\n",
    "You should have received a copy of the GNU General Public License\n",
    "along with this program.  If not, see <https://www.gnu.org/licenses/>.\n",
    "```"
   ]
  }
 ],
 "metadata": {
  "kernelspec": {
   "display_name": "Python 3 (ipykernel)",
   "language": "python",
   "name": "python3"
  },
  "language_info": {
   "codemirror_mode": {
    "name": "ipython",
    "version": 3
   },
   "file_extension": ".py",
   "mimetype": "text/x-python",
   "name": "python",
   "nbconvert_exporter": "python",
   "pygments_lexer": "ipython3",
   "version": "3.10.8"
  }
 },
 "nbformat": 4,
 "nbformat_minor": 5
}